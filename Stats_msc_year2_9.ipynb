{
 "cells": [
  {
   "cell_type": "code",
   "execution_count": 1,
   "metadata": {},
   "outputs": [
    {
     "name": "stderr",
     "output_type": "stream",
     "text": [
      "/Users/markprosser/anaconda/lib/python3.5/site-packages/statsmodels/compat/pandas.py:56: FutureWarning: The pandas.core.datetools module is deprecated and will be removed in a future version. Please use the pandas.tseries module instead.\n",
      "  from pandas.core import datetools\n"
     ]
    }
   ],
   "source": [
    "try:\n",
    "    from IPython import get_ipython\n",
    "    get_ipython().magic('reset -f')  \n",
    "except:\n",
    "    pass\n",
    "from IPython import get_ipython\n",
    "ipython = get_ipython().magic\n",
    "import io\n",
    "import os\n",
    "import sys\n",
    "os.chdir('/Users/markprosser/Desktop/PythonScripts')\n",
    "import MCP_functions as MCP\n",
    "import numpy as np\n",
    "import matplotlib.pyplot as plt\n",
    "import pickle\n",
    "plt.close(\"all\")\n",
    "\n",
    "import pandas as pd\n",
    "import savReaderWriter as spss\n",
    "import scipy.stats as stats\n",
    "from statsmodels.stats.multicomp import pairwise_tukeyhsd\n",
    "import statsmodels.api as sm\n",
    "import pylab\n",
    "import seaborn as sns"
   ]
  },
  {
   "cell_type": "code",
   "execution_count": 2,
   "metadata": {
    "collapsed": true
   },
   "outputs": [],
   "source": [
    "savFileName = '/Users/markprosser/Desktop/PythonScripts/Input_needed_by/Stats_msc_year2/Stats_9.sav'\n",
    "with spss.SavReader(savFileName) as reader:\n",
    "    records = reader.all()\n",
    "df1 = pd.DataFrame(records)"
   ]
  },
  {
   "cell_type": "code",
   "execution_count": 3,
   "metadata": {},
   "outputs": [
    {
     "data": {
      "text/html": [
       "<div>\n",
       "<style>\n",
       "    .dataframe thead tr:only-child th {\n",
       "        text-align: right;\n",
       "    }\n",
       "\n",
       "    .dataframe thead th {\n",
       "        text-align: left;\n",
       "    }\n",
       "\n",
       "    .dataframe tbody tr th {\n",
       "        vertical-align: top;\n",
       "    }\n",
       "</style>\n",
       "<table border=\"1\" class=\"dataframe\">\n",
       "  <thead>\n",
       "    <tr style=\"text-align: right;\">\n",
       "      <th></th>\n",
       "      <th>0</th>\n",
       "      <th>1</th>\n",
       "      <th>2</th>\n",
       "      <th>3</th>\n",
       "      <th>4</th>\n",
       "      <th>5</th>\n",
       "      <th>6</th>\n",
       "      <th>7</th>\n",
       "    </tr>\n",
       "  </thead>\n",
       "  <tbody>\n",
       "    <tr>\n",
       "      <th>44</th>\n",
       "      <td>45.0</td>\n",
       "      <td>b'June 2012'</td>\n",
       "      <td>18.2</td>\n",
       "      <td>9.3</td>\n",
       "      <td>13.75</td>\n",
       "      <td>NaN</td>\n",
       "      <td>NaN</td>\n",
       "      <td>NaN</td>\n",
       "    </tr>\n",
       "    <tr>\n",
       "      <th>45</th>\n",
       "      <td>46.0</td>\n",
       "      <td>b'July 2012'</td>\n",
       "      <td>20.4</td>\n",
       "      <td>11.2</td>\n",
       "      <td>15.80</td>\n",
       "      <td>NaN</td>\n",
       "      <td>NaN</td>\n",
       "      <td>NaN</td>\n",
       "    </tr>\n",
       "    <tr>\n",
       "      <th>46</th>\n",
       "      <td>47.0</td>\n",
       "      <td>b'August 2012'</td>\n",
       "      <td>22.9</td>\n",
       "      <td>12.1</td>\n",
       "      <td>17.50</td>\n",
       "      <td>NaN</td>\n",
       "      <td>NaN</td>\n",
       "      <td>NaN</td>\n",
       "    </tr>\n",
       "    <tr>\n",
       "      <th>47</th>\n",
       "      <td>48.0</td>\n",
       "      <td>b'November 2012'</td>\n",
       "      <td>12.4</td>\n",
       "      <td>5.9</td>\n",
       "      <td>9.15</td>\n",
       "      <td>NaN</td>\n",
       "      <td>NaN</td>\n",
       "      <td>NaN</td>\n",
       "    </tr>\n",
       "    <tr>\n",
       "      <th>48</th>\n",
       "      <td>49.0</td>\n",
       "      <td>b'December 2012'</td>\n",
       "      <td>7.8</td>\n",
       "      <td>3.0</td>\n",
       "      <td>5.40</td>\n",
       "      <td>NaN</td>\n",
       "      <td>NaN</td>\n",
       "      <td>NaN</td>\n",
       "    </tr>\n",
       "  </tbody>\n",
       "</table>\n",
       "</div>"
      ],
      "text/plain": [
       "       0                 1     2     3      4   5   6   7\n",
       "44  45.0      b'June 2012'  18.2   9.3  13.75 NaN NaN NaN\n",
       "45  46.0      b'July 2012'  20.4  11.2  15.80 NaN NaN NaN\n",
       "46  47.0    b'August 2012'  22.9  12.1  17.50 NaN NaN NaN\n",
       "47  48.0  b'November 2012'  12.4   5.9   9.15 NaN NaN NaN\n",
       "48  49.0  b'December 2012'   7.8   3.0   5.40 NaN NaN NaN"
      ]
     },
     "execution_count": 3,
     "metadata": {},
     "output_type": "execute_result"
    }
   ],
   "source": [
    "df1.tail()"
   ]
  },
  {
   "cell_type": "code",
   "execution_count": 4,
   "metadata": {},
   "outputs": [
    {
     "data": {
      "text/html": [
       "<div>\n",
       "<style>\n",
       "    .dataframe thead tr:only-child th {\n",
       "        text-align: right;\n",
       "    }\n",
       "\n",
       "    .dataframe thead th {\n",
       "        text-align: left;\n",
       "    }\n",
       "\n",
       "    .dataframe tbody tr th {\n",
       "        vertical-align: top;\n",
       "    }\n",
       "</style>\n",
       "<table border=\"1\" class=\"dataframe\">\n",
       "  <thead>\n",
       "    <tr style=\"text-align: right;\">\n",
       "      <th></th>\n",
       "      <th>id</th>\n",
       "      <th>date</th>\n",
       "      <th>max_temp</th>\n",
       "      <th>min_temp</th>\n",
       "      <th>mean_temp</th>\n",
       "      <th>nelson_kwh</th>\n",
       "      <th>norfolk_kwh</th>\n",
       "      <th>victory_kwh</th>\n",
       "    </tr>\n",
       "  </thead>\n",
       "  <tbody>\n",
       "    <tr>\n",
       "      <th>0</th>\n",
       "      <td>1.0</td>\n",
       "      <td>b'August 2008'</td>\n",
       "      <td>21.7</td>\n",
       "      <td>12.8</td>\n",
       "      <td>17.25</td>\n",
       "      <td>2565.0</td>\n",
       "      <td>1832.0</td>\n",
       "      <td>861.0</td>\n",
       "    </tr>\n",
       "    <tr>\n",
       "      <th>1</th>\n",
       "      <td>2.0</td>\n",
       "      <td>b'September 2008'</td>\n",
       "      <td>18.4</td>\n",
       "      <td>9.1</td>\n",
       "      <td>13.75</td>\n",
       "      <td>2574.0</td>\n",
       "      <td>3653.0</td>\n",
       "      <td>1160.0</td>\n",
       "    </tr>\n",
       "    <tr>\n",
       "      <th>2</th>\n",
       "      <td>3.0</td>\n",
       "      <td>b'October 2008'</td>\n",
       "      <td>14.2</td>\n",
       "      <td>5.4</td>\n",
       "      <td>9.80</td>\n",
       "      <td>2747.0</td>\n",
       "      <td>4176.0</td>\n",
       "      <td>1834.0</td>\n",
       "    </tr>\n",
       "    <tr>\n",
       "      <th>3</th>\n",
       "      <td>4.0</td>\n",
       "      <td>b'November 2008'</td>\n",
       "      <td>10.1</td>\n",
       "      <td>5.1</td>\n",
       "      <td>7.60</td>\n",
       "      <td>4873.0</td>\n",
       "      <td>4477.0</td>\n",
       "      <td>1787.0</td>\n",
       "    </tr>\n",
       "    <tr>\n",
       "      <th>4</th>\n",
       "      <td>5.0</td>\n",
       "      <td>b'December 2008'</td>\n",
       "      <td>6.2</td>\n",
       "      <td>1.1</td>\n",
       "      <td>3.65</td>\n",
       "      <td>4163.0</td>\n",
       "      <td>3262.0</td>\n",
       "      <td>2024.0</td>\n",
       "    </tr>\n",
       "  </tbody>\n",
       "</table>\n",
       "</div>"
      ],
      "text/plain": [
       "    id               date  max_temp  min_temp  mean_temp  nelson_kwh  \\\n",
       "0  1.0     b'August 2008'      21.7      12.8      17.25      2565.0   \n",
       "1  2.0  b'September 2008'      18.4       9.1      13.75      2574.0   \n",
       "2  3.0    b'October 2008'      14.2       5.4       9.80      2747.0   \n",
       "3  4.0   b'November 2008'      10.1       5.1       7.60      4873.0   \n",
       "4  5.0   b'December 2008'       6.2       1.1       3.65      4163.0   \n",
       "\n",
       "   norfolk_kwh  victory_kwh  \n",
       "0       1832.0        861.0  \n",
       "1       3653.0       1160.0  \n",
       "2       4176.0       1834.0  \n",
       "3       4477.0       1787.0  \n",
       "4       3262.0       2024.0  "
      ]
     },
     "execution_count": 4,
     "metadata": {},
     "output_type": "execute_result"
    }
   ],
   "source": [
    "df1.columns = ['id', 'date', 'max_temp', 'min_temp', 'mean_temp', 'nelson_kwh', 'norfolk_kwh', 'victory_kwh']\n",
    "df1.head()"
   ]
  },
  {
   "cell_type": "code",
   "execution_count": 5,
   "metadata": {
    "collapsed": true
   },
   "outputs": [],
   "source": [
    "#9_1"
   ]
  },
  {
   "cell_type": "code",
   "execution_count": 6,
   "metadata": {},
   "outputs": [
    {
     "data": {
      "text/plain": [
       "(nan, 1.0)"
      ]
     },
     "execution_count": 6,
     "metadata": {},
     "output_type": "execute_result"
    }
   ],
   "source": [
    "stats.pearsonr(df1['norfolk_kwh'], df1['nelson_kwh'])"
   ]
  },
  {
   "cell_type": "code",
   "execution_count": 7,
   "metadata": {},
   "outputs": [
    {
     "data": {
      "text/html": [
       "<div>\n",
       "<style>\n",
       "    .dataframe thead tr:only-child th {\n",
       "        text-align: right;\n",
       "    }\n",
       "\n",
       "    .dataframe thead th {\n",
       "        text-align: left;\n",
       "    }\n",
       "\n",
       "    .dataframe tbody tr th {\n",
       "        vertical-align: top;\n",
       "    }\n",
       "</style>\n",
       "<table border=\"1\" class=\"dataframe\">\n",
       "  <thead>\n",
       "    <tr style=\"text-align: right;\">\n",
       "      <th></th>\n",
       "      <th>id</th>\n",
       "      <th>date</th>\n",
       "      <th>max_temp</th>\n",
       "      <th>min_temp</th>\n",
       "      <th>mean_temp</th>\n",
       "      <th>nelson_kwh</th>\n",
       "      <th>norfolk_kwh</th>\n",
       "      <th>victory_kwh</th>\n",
       "    </tr>\n",
       "  </thead>\n",
       "  <tbody>\n",
       "    <tr>\n",
       "      <th>32</th>\n",
       "      <td>33.0</td>\n",
       "      <td>b'April 2011'</td>\n",
       "      <td>17.5</td>\n",
       "      <td>5.4</td>\n",
       "      <td>11.45</td>\n",
       "      <td>2562.0</td>\n",
       "      <td>6096.0</td>\n",
       "      <td>2292.0</td>\n",
       "    </tr>\n",
       "    <tr>\n",
       "      <th>33</th>\n",
       "      <td>34.0</td>\n",
       "      <td>b'May 2011'</td>\n",
       "      <td>18.7</td>\n",
       "      <td>6.7</td>\n",
       "      <td>12.70</td>\n",
       "      <td>3861.0</td>\n",
       "      <td>5699.0</td>\n",
       "      <td>2072.0</td>\n",
       "    </tr>\n",
       "    <tr>\n",
       "      <th>34</th>\n",
       "      <td>35.0</td>\n",
       "      <td>b'June 2011'</td>\n",
       "      <td>20.0</td>\n",
       "      <td>9.6</td>\n",
       "      <td>14.80</td>\n",
       "      <td>2312.0</td>\n",
       "      <td>4417.0</td>\n",
       "      <td>1934.0</td>\n",
       "    </tr>\n",
       "    <tr>\n",
       "      <th>35</th>\n",
       "      <td>36.0</td>\n",
       "      <td>b'July 2011'</td>\n",
       "      <td>19.4</td>\n",
       "      <td>10.3</td>\n",
       "      <td>14.85</td>\n",
       "      <td>2533.0</td>\n",
       "      <td>3174.0</td>\n",
       "      <td>1572.0</td>\n",
       "    </tr>\n",
       "    <tr>\n",
       "      <th>36</th>\n",
       "      <td>37.0</td>\n",
       "      <td>b'August 2011'</td>\n",
       "      <td>20.7</td>\n",
       "      <td>10.9</td>\n",
       "      <td>15.80</td>\n",
       "      <td>2599.0</td>\n",
       "      <td>2506.0</td>\n",
       "      <td>1749.0</td>\n",
       "    </tr>\n",
       "  </tbody>\n",
       "</table>\n",
       "</div>"
      ],
      "text/plain": [
       "      id            date  max_temp  min_temp  mean_temp  nelson_kwh  \\\n",
       "32  33.0   b'April 2011'      17.5       5.4      11.45      2562.0   \n",
       "33  34.0     b'May 2011'      18.7       6.7      12.70      3861.0   \n",
       "34  35.0    b'June 2011'      20.0       9.6      14.80      2312.0   \n",
       "35  36.0    b'July 2011'      19.4      10.3      14.85      2533.0   \n",
       "36  37.0  b'August 2011'      20.7      10.9      15.80      2599.0   \n",
       "\n",
       "    norfolk_kwh  victory_kwh  \n",
       "32       6096.0       2292.0  \n",
       "33       5699.0       2072.0  \n",
       "34       4417.0       1934.0  \n",
       "35       3174.0       1572.0  \n",
       "36       2506.0       1749.0  "
      ]
     },
     "execution_count": 7,
     "metadata": {},
     "output_type": "execute_result"
    }
   ],
   "source": [
    "df2 = pd.DataFrame.copy(df1)\n",
    "df2 = df2.dropna(subset=['norfolk_kwh'])\n",
    "df2.tail()"
   ]
  },
  {
   "cell_type": "code",
   "execution_count": 8,
   "metadata": {
    "collapsed": true
   },
   "outputs": [],
   "source": [
    "#pearson"
   ]
  },
  {
   "cell_type": "code",
   "execution_count": 9,
   "metadata": {},
   "outputs": [
    {
     "data": {
      "text/plain": [
       "(0.73114278216914486, 2.7577240780027004e-07)"
      ]
     },
     "execution_count": 9,
     "metadata": {},
     "output_type": "execute_result"
    }
   ],
   "source": [
    "stats.pearsonr(df2['norfolk_kwh'], df2['nelson_kwh'])"
   ]
  },
  {
   "cell_type": "code",
   "execution_count": 10,
   "metadata": {},
   "outputs": [
    {
     "data": {
      "text/plain": [
       "(0.85230563573053197, 2.1914402815580855e-11)"
      ]
     },
     "execution_count": 10,
     "metadata": {},
     "output_type": "execute_result"
    }
   ],
   "source": [
    "stats.pearsonr(df2['norfolk_kwh'], df2['victory_kwh'])"
   ]
  },
  {
   "cell_type": "code",
   "execution_count": 11,
   "metadata": {},
   "outputs": [
    {
     "data": {
      "text/plain": [
       "(0.83958385507429067, 8.3634394264276493e-11)"
      ]
     },
     "execution_count": 11,
     "metadata": {},
     "output_type": "execute_result"
    }
   ],
   "source": [
    "stats.pearsonr(df2['victory_kwh'], df2['nelson_kwh'])"
   ]
  },
  {
   "cell_type": "code",
   "execution_count": 12,
   "metadata": {
    "collapsed": true
   },
   "outputs": [],
   "source": [
    "#spearman"
   ]
  },
  {
   "cell_type": "code",
   "execution_count": 13,
   "metadata": {},
   "outputs": [
    {
     "data": {
      "text/plain": [
       "SpearmanrResult(correlation=0.73352299668089138, pvalue=2.4106056018102675e-07)"
      ]
     },
     "execution_count": 13,
     "metadata": {},
     "output_type": "execute_result"
    }
   ],
   "source": [
    "stats.spearmanr(df2['norfolk_kwh'], df2['nelson_kwh'])"
   ]
  },
  {
   "cell_type": "code",
   "execution_count": 14,
   "metadata": {},
   "outputs": [
    {
     "data": {
      "text/plain": [
       "SpearmanrResult(correlation=0.87760061798406419, pvalue=1.0098614642669246e-12)"
      ]
     },
     "execution_count": 14,
     "metadata": {},
     "output_type": "execute_result"
    }
   ],
   "source": [
    "stats.spearmanr(df2['norfolk_kwh'], df2['victory_kwh'])"
   ]
  },
  {
   "cell_type": "code",
   "execution_count": 15,
   "metadata": {},
   "outputs": [
    {
     "data": {
      "text/plain": [
       "SpearmanrResult(correlation=0.83231580965366936, pvalue=1.7083124407644368e-10)"
      ]
     },
     "execution_count": 15,
     "metadata": {},
     "output_type": "execute_result"
    }
   ],
   "source": [
    "stats.spearmanr(df2['victory_kwh'], df2['nelson_kwh'])"
   ]
  },
  {
   "cell_type": "code",
   "execution_count": 16,
   "metadata": {},
   "outputs": [
    {
     "data": {
      "image/png": "[encoded data removed]",
      "text/plain": [
       "<matplotlib.figure.Figure at 0x11211f898>"
      ]
     },
     "metadata": {},
     "output_type": "display_data"
    }
   ],
   "source": [
    "sns.regplot(x=df2[\"mean_temp\"], y=df2[\"nelson_kwh\"], fit_reg=True)\n",
    "plt.show()"
   ]
  },
  {
   "cell_type": "code",
   "execution_count": 17,
   "metadata": {
    "collapsed": true
   },
   "outputs": [],
   "source": [
    "#9_3"
   ]
  },
  {
   "cell_type": "code",
   "execution_count": 18,
   "metadata": {},
   "outputs": [
    {
     "name": "stdout",
     "output_type": "stream",
     "text": [
      "LinregressResult(slope=-205.93529548839368, intercept=5728.0265399266145, rvalue=-0.87303989831721518, pvalue=1.8447101812283257e-12, stderr=19.44329289675802)\n"
     ]
    }
   ],
   "source": [
    "nelson_mean = stats.linregress(df2[\"mean_temp\"], df2[\"nelson_kwh\"])\n",
    "print(nelson_mean)\n",
    "#pvalue is for slope"
   ]
  },
  {
   "cell_type": "code",
   "execution_count": 19,
   "metadata": {},
   "outputs": [
    {
     "name": "stdout",
     "output_type": "stream",
     "text": [
      "0.762198664054\n"
     ]
    }
   ],
   "source": [
    "nelson_r2 = nelson_mean[2]**2\n",
    "print(nelson_r2)"
   ]
  },
  {
   "cell_type": "code",
   "execution_count": 20,
   "metadata": {},
   "outputs": [
    {
     "name": "stdout",
     "output_type": "stream",
     "text": [
      "LinregressResult(slope=-174.56585682248101, intercept=6159.8363799875942, rvalue=-0.87233498811083643, pvalue=2.020575852628422e-12, stderr=16.537494470413574)\n"
     ]
    }
   ],
   "source": [
    "nelson_max = stats.linregress(df2[\"max_temp\"], df2[\"nelson_kwh\"])\n",
    "print(nelson_max)"
   ]
  },
  {
   "cell_type": "code",
   "execution_count": 21,
   "metadata": {},
   "outputs": [
    {
     "name": "stdout",
     "output_type": "stream",
     "text": [
      "LinregressResult(slope=-235.53883849890377, intercept=5018.2857327085931, rvalue=-0.84662266859266533, pvalue=4.0459999076245232e-11, stderr=25.026970641936014)\n"
     ]
    }
   ],
   "source": [
    "nelson_min = stats.linregress(df2[\"min_temp\"], df2[\"nelson_kwh\"])\n",
    "print(nelson_min)"
   ]
  },
  {
   "cell_type": "code",
   "execution_count": 45,
   "metadata": {},
   "outputs": [
    {
     "data": {
      "text/plain": [
       "LinregressResult(slope=-205.93529548839368, intercept=5728.0265399266145, rvalue=-0.87303989831721518, pvalue=1.8447101812283257e-12, stderr=19.44329289675802)"
      ]
     },
     "execution_count": 45,
     "metadata": {},
     "output_type": "execute_result"
    }
   ],
   "source": [
    "nelson_mean_reg = df2['mean_temp']*nelson_mean[0]+nelson_mean[1]\n",
    "abc5 = df2[\"nelson_kwh\"] - nelson_mean_reg\n",
    "#print(abc5)\n",
    "nelson_mean"
   ]
  },
  {
   "cell_type": "code",
   "execution_count": 23,
   "metadata": {},
   "outputs": [
    {
     "data": {
      "image/png": "[encoded data removed]",
      "text/plain": [
       "<matplotlib.figure.Figure at 0x11211fd30>"
      ]
     },
     "metadata": {},
     "output_type": "display_data"
    }
   ],
   "source": [
    "#x = df1['age'].dropna().tolist()\n",
    "plt.figure(1, figsize=(8, 6));\n",
    "n, bins, patches = plt.hist(abc5, 20, normed=1, facecolor='green', alpha=0.5)\n",
    "plt.xlabel('residual')\n",
    "plt.ylabel('Probability')\n",
    "plt.title(r'$\\mathrm{Histogram\\ of\\ residuals}$')\n",
    "plt.grid(True)\n",
    "plt.show()"
   ]
  },
  {
   "cell_type": "code",
   "execution_count": 24,
   "metadata": {
    "collapsed": true
   },
   "outputs": [],
   "source": [
    "#9_5"
   ]
  },
  {
   "cell_type": "code",
   "execution_count": 25,
   "metadata": {},
   "outputs": [
    {
     "data": {
      "text/plain": [
       "(-3.6982842087110145e-17, 1.0)"
      ]
     },
     "execution_count": 25,
     "metadata": {},
     "output_type": "execute_result"
    }
   ],
   "source": [
    "stats.pearsonr(df2['mean_temp'], abc5)\n",
    "#looks like very uncorrelated"
   ]
  },
  {
   "cell_type": "code",
   "execution_count": 26,
   "metadata": {},
   "outputs": [
    {
     "data": {
      "image/png": "[encoded data removed]",
      "text/plain": [
       "<matplotlib.figure.Figure at 0x1197f8b70>"
      ]
     },
     "metadata": {},
     "output_type": "display_data"
    }
   ],
   "source": [
    "sns.regplot(x=df2[\"mean_temp\"], y=abc5, fit_reg=True)\n",
    "plt.show()"
   ]
  },
  {
   "cell_type": "code",
   "execution_count": 27,
   "metadata": {
    "collapsed": true
   },
   "outputs": [],
   "source": [
    "#9_6"
   ]
  },
  {
   "cell_type": "code",
   "execution_count": 28,
   "metadata": {
    "collapsed": true
   },
   "outputs": [],
   "source": [
    "df3 = pd.DataFrame.copy(df1)"
   ]
  },
  {
   "cell_type": "code",
   "execution_count": 29,
   "metadata": {},
   "outputs": [
    {
     "name": "stderr",
     "output_type": "stream",
     "text": [
      "/Users/markprosser/anaconda/lib/python3.5/site-packages/ipykernel/__main__.py:2: SettingWithCopyWarning: \n",
      "A value is trying to be set on a copy of a slice from a DataFrame.\n",
      "Try using .loc[row_indexer,col_indexer] = value instead\n",
      "\n",
      "See the caveats in the documentation: http://pandas.pydata.org/pandas-docs/stable/indexing.html#indexing-view-versus-copy\n",
      "  from ipykernel import kernelapp as app\n"
     ]
    },
    {
     "data": {
      "text/html": [
       "<div>\n",
       "<style>\n",
       "    .dataframe thead tr:only-child th {\n",
       "        text-align: right;\n",
       "    }\n",
       "\n",
       "    .dataframe thead th {\n",
       "        text-align: left;\n",
       "    }\n",
       "\n",
       "    .dataframe tbody tr th {\n",
       "        vertical-align: top;\n",
       "    }\n",
       "</style>\n",
       "<table border=\"1\" class=\"dataframe\">\n",
       "  <thead>\n",
       "    <tr style=\"text-align: right;\">\n",
       "      <th></th>\n",
       "      <th>id</th>\n",
       "      <th>date</th>\n",
       "      <th>max_temp</th>\n",
       "      <th>min_temp</th>\n",
       "      <th>mean_temp</th>\n",
       "      <th>nelson_kwh</th>\n",
       "      <th>norfolk_kwh</th>\n",
       "      <th>victory_kwh</th>\n",
       "    </tr>\n",
       "  </thead>\n",
       "  <tbody>\n",
       "    <tr>\n",
       "      <th>37</th>\n",
       "      <td>38.0</td>\n",
       "      <td>b'September 2011'</td>\n",
       "      <td>20.8</td>\n",
       "      <td>10.3</td>\n",
       "      <td>15.55</td>\n",
       "      <td>2525.732695</td>\n",
       "      <td>NaN</td>\n",
       "      <td>NaN</td>\n",
       "    </tr>\n",
       "    <tr>\n",
       "      <th>38</th>\n",
       "      <td>39.0</td>\n",
       "      <td>b'October 2011'</td>\n",
       "      <td>16.9</td>\n",
       "      <td>7.5</td>\n",
       "      <td>12.20</td>\n",
       "      <td>3215.615935</td>\n",
       "      <td>NaN</td>\n",
       "      <td>NaN</td>\n",
       "    </tr>\n",
       "    <tr>\n",
       "      <th>39</th>\n",
       "      <td>40.0</td>\n",
       "      <td>b'January 2012'</td>\n",
       "      <td>8.0</td>\n",
       "      <td>1.9</td>\n",
       "      <td>4.95</td>\n",
       "      <td>4708.646827</td>\n",
       "      <td>NaN</td>\n",
       "      <td>NaN</td>\n",
       "    </tr>\n",
       "    <tr>\n",
       "      <th>40</th>\n",
       "      <td>41.0</td>\n",
       "      <td>b'February 2012'</td>\n",
       "      <td>7.1</td>\n",
       "      <td>1.0</td>\n",
       "      <td>4.05</td>\n",
       "      <td>4893.988593</td>\n",
       "      <td>NaN</td>\n",
       "      <td>NaN</td>\n",
       "    </tr>\n",
       "    <tr>\n",
       "      <th>41</th>\n",
       "      <td>42.0</td>\n",
       "      <td>b'March 2012'</td>\n",
       "      <td>12.7</td>\n",
       "      <td>2.0</td>\n",
       "      <td>7.35</td>\n",
       "      <td>4214.402118</td>\n",
       "      <td>NaN</td>\n",
       "      <td>NaN</td>\n",
       "    </tr>\n",
       "    <tr>\n",
       "      <th>42</th>\n",
       "      <td>43.0</td>\n",
       "      <td>b'April 2012'</td>\n",
       "      <td>11.6</td>\n",
       "      <td>3.0</td>\n",
       "      <td>7.30</td>\n",
       "      <td>4224.698883</td>\n",
       "      <td>NaN</td>\n",
       "      <td>NaN</td>\n",
       "    </tr>\n",
       "    <tr>\n",
       "      <th>43</th>\n",
       "      <td>44.0</td>\n",
       "      <td>b'May 2012'</td>\n",
       "      <td>15.7</td>\n",
       "      <td>7.5</td>\n",
       "      <td>11.60</td>\n",
       "      <td>3339.177112</td>\n",
       "      <td>NaN</td>\n",
       "      <td>NaN</td>\n",
       "    </tr>\n",
       "    <tr>\n",
       "      <th>44</th>\n",
       "      <td>45.0</td>\n",
       "      <td>b'June 2012'</td>\n",
       "      <td>18.2</td>\n",
       "      <td>9.3</td>\n",
       "      <td>13.75</td>\n",
       "      <td>2896.416227</td>\n",
       "      <td>NaN</td>\n",
       "      <td>NaN</td>\n",
       "    </tr>\n",
       "    <tr>\n",
       "      <th>45</th>\n",
       "      <td>46.0</td>\n",
       "      <td>b'July 2012'</td>\n",
       "      <td>20.4</td>\n",
       "      <td>11.2</td>\n",
       "      <td>15.80</td>\n",
       "      <td>2474.248871</td>\n",
       "      <td>NaN</td>\n",
       "      <td>NaN</td>\n",
       "    </tr>\n",
       "    <tr>\n",
       "      <th>46</th>\n",
       "      <td>47.0</td>\n",
       "      <td>b'August 2012'</td>\n",
       "      <td>22.9</td>\n",
       "      <td>12.1</td>\n",
       "      <td>17.50</td>\n",
       "      <td>2124.158869</td>\n",
       "      <td>NaN</td>\n",
       "      <td>NaN</td>\n",
       "    </tr>\n",
       "    <tr>\n",
       "      <th>47</th>\n",
       "      <td>48.0</td>\n",
       "      <td>b'November 2012'</td>\n",
       "      <td>12.4</td>\n",
       "      <td>5.9</td>\n",
       "      <td>9.15</td>\n",
       "      <td>3843.718586</td>\n",
       "      <td>NaN</td>\n",
       "      <td>NaN</td>\n",
       "    </tr>\n",
       "    <tr>\n",
       "      <th>48</th>\n",
       "      <td>49.0</td>\n",
       "      <td>b'December 2012'</td>\n",
       "      <td>7.8</td>\n",
       "      <td>3.0</td>\n",
       "      <td>5.40</td>\n",
       "      <td>4615.975944</td>\n",
       "      <td>NaN</td>\n",
       "      <td>NaN</td>\n",
       "    </tr>\n",
       "  </tbody>\n",
       "</table>\n",
       "</div>"
      ],
      "text/plain": [
       "      id               date  max_temp  min_temp  mean_temp   nelson_kwh  \\\n",
       "37  38.0  b'September 2011'      20.8      10.3      15.55  2525.732695   \n",
       "38  39.0    b'October 2011'      16.9       7.5      12.20  3215.615935   \n",
       "39  40.0    b'January 2012'       8.0       1.9       4.95  4708.646827   \n",
       "40  41.0   b'February 2012'       7.1       1.0       4.05  4893.988593   \n",
       "41  42.0      b'March 2012'      12.7       2.0       7.35  4214.402118   \n",
       "42  43.0      b'April 2012'      11.6       3.0       7.30  4224.698883   \n",
       "43  44.0        b'May 2012'      15.7       7.5      11.60  3339.177112   \n",
       "44  45.0       b'June 2012'      18.2       9.3      13.75  2896.416227   \n",
       "45  46.0       b'July 2012'      20.4      11.2      15.80  2474.248871   \n",
       "46  47.0     b'August 2012'      22.9      12.1      17.50  2124.158869   \n",
       "47  48.0   b'November 2012'      12.4       5.9       9.15  3843.718586   \n",
       "48  49.0   b'December 2012'       7.8       3.0       5.40  4615.975944   \n",
       "\n",
       "    norfolk_kwh  victory_kwh  \n",
       "37          NaN          NaN  \n",
       "38          NaN          NaN  \n",
       "39          NaN          NaN  \n",
       "40          NaN          NaN  \n",
       "41          NaN          NaN  \n",
       "42          NaN          NaN  \n",
       "43          NaN          NaN  \n",
       "44          NaN          NaN  \n",
       "45          NaN          NaN  \n",
       "46          NaN          NaN  \n",
       "47          NaN          NaN  \n",
       "48          NaN          NaN  "
      ]
     },
     "execution_count": 29,
     "metadata": {},
     "output_type": "execute_result"
    }
   ],
   "source": [
    "df3[37:49]\n",
    "df3[37:49]['nelson_kwh'] = (df3[37:49]['mean_temp'] * nelson_mean[0]) + nelson_mean[1]\n",
    "df3[37:49]"
   ]
  },
  {
   "cell_type": "code",
   "execution_count": 30,
   "metadata": {
    "collapsed": true
   },
   "outputs": [],
   "source": [
    "#9_7"
   ]
  },
  {
   "cell_type": "code",
   "execution_count": 31,
   "metadata": {},
   "outputs": [
    {
     "data": {
      "image/png": "[encoded data removed]",
      "text/plain": [
       "<matplotlib.figure.Figure at 0x11981e390>"
      ]
     },
     "metadata": {},
     "output_type": "display_data"
    }
   ],
   "source": [
    "sns.regplot(x=df2[\"mean_temp\"], y=df2[\"norfolk_kwh\"], fit_reg=True)\n",
    "plt.show()"
   ]
  },
  {
   "cell_type": "code",
   "execution_count": 32,
   "metadata": {
    "collapsed": true
   },
   "outputs": [],
   "source": [
    "#9_8"
   ]
  },
  {
   "cell_type": "code",
   "execution_count": 33,
   "metadata": {},
   "outputs": [
    {
     "name": "stdout",
     "output_type": "stream",
     "text": [
      "LinregressResult(slope=-578.25762299333826, intercept=12156.295414580743, rvalue=-0.74603437732544686, pvalue=1.160410578196582e-07, stderr=87.245365441852599)\n"
     ]
    }
   ],
   "source": [
    "norfolk_mean = stats.linregress(df2[\"mean_temp\"], df2[\"norfolk_kwh\"])\n",
    "print(norfolk_mean)"
   ]
  },
  {
   "cell_type": "code",
   "execution_count": 34,
   "metadata": {},
   "outputs": [
    {
     "name": "stdout",
     "output_type": "stream",
     "text": [
      "0.556567292151\n"
     ]
    }
   ],
   "source": [
    "norfolk_r2 = norfolk_mean[2]**2\n",
    "print(norfolk_r2)"
   ]
  },
  {
   "cell_type": "code",
   "execution_count": 35,
   "metadata": {
    "collapsed": true
   },
   "outputs": [],
   "source": [
    "#http://songhuiming.github.io/pages/2016/11/27/linear-regression-in-python-outliers-leverage-detect/\n",
    "model = sm.OLS(df3[\"norfolk_kwh\"][0:37], sm.add_constant(df3[\"mean_temp\"][0:37]))\n",
    "fitted = model.fit()\n",
    "\n",
    "\n",
    "# fig, ax = plt.subplots(figsize=(12,8))\n",
    "# fig = sm.graphics.influence_plot(lm, alpha  = 0.05, ax = ax, criterion=\"cooks\")\n",
    "# plt.show()\n",
    "\n"
   ]
  },
  {
   "cell_type": "code",
   "execution_count": 36,
   "metadata": {},
   "outputs": [
    {
     "data": {
      "image/png": "[encoded data removed]",
      "text/plain": [
       "<matplotlib.figure.Figure at 0x11981ecf8>"
      ]
     },
     "metadata": {},
     "output_type": "display_data"
    }
   ],
   "source": [
    "#http://mpastell.com/2013/04/19/python_regression/\n",
    "plt.hist(fitted.resid)\n",
    "plt.ylabel('Count')\n",
    "plt.xlabel('Normalized residuals')\n",
    "plt.show()"
   ]
  },
  {
   "cell_type": "code",
   "execution_count": 37,
   "metadata": {},
   "outputs": [
    {
     "data": {
      "text/plain": [
       "array([  8.08550287e-04,   9.45990267e-04,   1.04472877e-02,\n",
       "         2.59670035e-02,   2.49350537e-01,   3.03573404e-01,\n",
       "         1.49044977e-01,   7.00370741e-02,   3.31864257e-04,\n",
       "         3.29984093e-04,   2.51655783e-03,   7.82899953e-07,\n",
       "         4.46127071e-09,   8.44810674e-04,   6.29952603e-03,\n",
       "         2.60387120e-02,   1.50947252e-02,   5.96073463e-02,\n",
       "         5.22819329e-02,   8.64874638e-03,   1.46143741e-05,\n",
       "         6.76411946e-05,   1.38975911e-05,   2.02155550e-03,\n",
       "         1.79426502e-03,   3.01391552e-03,   1.02175116e-02,\n",
       "         3.77455096e-02,   9.36969516e-02,   2.81023785e-02,\n",
       "         4.39874814e-02,   2.34149132e-02,   6.66180116e-04,\n",
       "         1.99592706e-03,   2.59688208e-03,   6.11296329e-04,\n",
       "         1.27275090e-03])"
      ]
     },
     "execution_count": 37,
     "metadata": {},
     "output_type": "execute_result"
    }
   ],
   "source": [
    "influence = fitted.get_influence()\n",
    "#c is the distance and p is p-value\n",
    "c, p = influence.cooks_distance\n",
    "c"
   ]
  },
  {
   "cell_type": "code",
   "execution_count": 38,
   "metadata": {
    "collapsed": true
   },
   "outputs": [],
   "source": [
    "df4 = pd.DataFrame.copy(df1)\n",
    "for i in range(36, -1, -1):\n",
    "    if c[i] > 0.1:\n",
    "        #print(i)\n",
    "        df4 = df4.drop(df4.index[i])"
   ]
  },
  {
   "cell_type": "code",
   "execution_count": 39,
   "metadata": {},
   "outputs": [
    {
     "data": {
      "text/html": [
       "<div>\n",
       "<style>\n",
       "    .dataframe thead tr:only-child th {\n",
       "        text-align: right;\n",
       "    }\n",
       "\n",
       "    .dataframe thead th {\n",
       "        text-align: left;\n",
       "    }\n",
       "\n",
       "    .dataframe tbody tr th {\n",
       "        vertical-align: top;\n",
       "    }\n",
       "</style>\n",
       "<table border=\"1\" class=\"dataframe\">\n",
       "  <thead>\n",
       "    <tr style=\"text-align: right;\">\n",
       "      <th></th>\n",
       "      <th>id</th>\n",
       "      <th>date</th>\n",
       "      <th>max_temp</th>\n",
       "      <th>min_temp</th>\n",
       "      <th>mean_temp</th>\n",
       "      <th>nelson_kwh</th>\n",
       "      <th>norfolk_kwh</th>\n",
       "      <th>victory_kwh</th>\n",
       "    </tr>\n",
       "  </thead>\n",
       "  <tbody>\n",
       "    <tr>\n",
       "      <th>0</th>\n",
       "      <td>1.0</td>\n",
       "      <td>b'August 2008'</td>\n",
       "      <td>21.7</td>\n",
       "      <td>12.8</td>\n",
       "      <td>17.25</td>\n",
       "      <td>2565.0</td>\n",
       "      <td>1832.0</td>\n",
       "      <td>861.0</td>\n",
       "    </tr>\n",
       "    <tr>\n",
       "      <th>1</th>\n",
       "      <td>2.0</td>\n",
       "      <td>b'September 2008'</td>\n",
       "      <td>18.4</td>\n",
       "      <td>9.1</td>\n",
       "      <td>13.75</td>\n",
       "      <td>2574.0</td>\n",
       "      <td>3653.0</td>\n",
       "      <td>1160.0</td>\n",
       "    </tr>\n",
       "    <tr>\n",
       "      <th>2</th>\n",
       "      <td>3.0</td>\n",
       "      <td>b'October 2008'</td>\n",
       "      <td>14.2</td>\n",
       "      <td>5.4</td>\n",
       "      <td>9.80</td>\n",
       "      <td>2747.0</td>\n",
       "      <td>4176.0</td>\n",
       "      <td>1834.0</td>\n",
       "    </tr>\n",
       "    <tr>\n",
       "      <th>3</th>\n",
       "      <td>4.0</td>\n",
       "      <td>b'November 2008'</td>\n",
       "      <td>10.1</td>\n",
       "      <td>5.1</td>\n",
       "      <td>7.60</td>\n",
       "      <td>4873.0</td>\n",
       "      <td>4477.0</td>\n",
       "      <td>1787.0</td>\n",
       "    </tr>\n",
       "    <tr>\n",
       "      <th>7</th>\n",
       "      <td>8.0</td>\n",
       "      <td>b'March 2009'</td>\n",
       "      <td>11.1</td>\n",
       "      <td>1.6</td>\n",
       "      <td>6.35</td>\n",
       "      <td>4525.0</td>\n",
       "      <td>3675.0</td>\n",
       "      <td>3225.0</td>\n",
       "    </tr>\n",
       "  </tbody>\n",
       "</table>\n",
       "</div>"
      ],
      "text/plain": [
       "    id               date  max_temp  min_temp  mean_temp  nelson_kwh  \\\n",
       "0  1.0     b'August 2008'      21.7      12.8      17.25      2565.0   \n",
       "1  2.0  b'September 2008'      18.4       9.1      13.75      2574.0   \n",
       "2  3.0    b'October 2008'      14.2       5.4       9.80      2747.0   \n",
       "3  4.0   b'November 2008'      10.1       5.1       7.60      4873.0   \n",
       "7  8.0      b'March 2009'      11.1       1.6       6.35      4525.0   \n",
       "\n",
       "   norfolk_kwh  victory_kwh  \n",
       "0       1832.0        861.0  \n",
       "1       3653.0       1160.0  \n",
       "2       4176.0       1834.0  \n",
       "3       4477.0       1787.0  \n",
       "7       3675.0       3225.0  "
      ]
     },
     "execution_count": 39,
     "metadata": {},
     "output_type": "execute_result"
    }
   ],
   "source": [
    "df4.head()"
   ]
  },
  {
   "cell_type": "code",
   "execution_count": 40,
   "metadata": {},
   "outputs": [
    {
     "data": {
      "image/png": "[encoded data removed]",
      "text/plain": [
       "<matplotlib.figure.Figure at 0x119777080>"
      ]
     },
     "metadata": {},
     "output_type": "display_data"
    }
   ],
   "source": [
    "sns.regplot(x=df4[\"mean_temp\"][0:37], y=df4[\"norfolk_kwh\"][0:37], fit_reg=True)\n",
    "plt.show()"
   ]
  },
  {
   "cell_type": "code",
   "execution_count": 41,
   "metadata": {},
   "outputs": [
    {
     "name": "stdout",
     "output_type": "stream",
     "text": [
      "LinregressResult(slope=-741.7615970309547, intercept=14447.362507478272, rvalue=-0.90582653279709324, pvalue=1.7797759316011384e-13, stderr=61.326797005689976)\n"
     ]
    }
   ],
   "source": [
    "norfolk_mean2 = stats.linregress(df4[\"mean_temp\"][0:34], df4[\"norfolk_kwh\"][0:34])\n",
    "print(norfolk_mean2)\n"
   ]
  },
  {
   "cell_type": "code",
   "execution_count": 42,
   "metadata": {
    "collapsed": true
   },
   "outputs": [],
   "source": [
    "#9_11"
   ]
  },
  {
   "cell_type": "code",
   "execution_count": 43,
   "metadata": {},
   "outputs": [
    {
     "data": {
      "text/html": [
       "<div>\n",
       "<style>\n",
       "    .dataframe thead tr:only-child th {\n",
       "        text-align: right;\n",
       "    }\n",
       "\n",
       "    .dataframe thead th {\n",
       "        text-align: left;\n",
       "    }\n",
       "\n",
       "    .dataframe tbody tr th {\n",
       "        vertical-align: top;\n",
       "    }\n",
       "</style>\n",
       "<table border=\"1\" class=\"dataframe\">\n",
       "  <thead>\n",
       "    <tr style=\"text-align: right;\">\n",
       "      <th></th>\n",
       "      <th>id</th>\n",
       "      <th>date</th>\n",
       "      <th>max_temp</th>\n",
       "      <th>min_temp</th>\n",
       "      <th>mean_temp</th>\n",
       "      <th>nelson_kwh</th>\n",
       "      <th>norfolk_kwh</th>\n",
       "      <th>victory_kwh</th>\n",
       "    </tr>\n",
       "  </thead>\n",
       "  <tbody>\n",
       "    <tr>\n",
       "      <th>0</th>\n",
       "      <td>1.0</td>\n",
       "      <td>b'August 2008'</td>\n",
       "      <td>21.7</td>\n",
       "      <td>12.8</td>\n",
       "      <td>17.25</td>\n",
       "      <td>2565.0</td>\n",
       "      <td>1832.0</td>\n",
       "      <td>861.0</td>\n",
       "    </tr>\n",
       "    <tr>\n",
       "      <th>1</th>\n",
       "      <td>2.0</td>\n",
       "      <td>b'September 2008'</td>\n",
       "      <td>18.4</td>\n",
       "      <td>9.1</td>\n",
       "      <td>13.75</td>\n",
       "      <td>2574.0</td>\n",
       "      <td>3653.0</td>\n",
       "      <td>1160.0</td>\n",
       "    </tr>\n",
       "    <tr>\n",
       "      <th>8</th>\n",
       "      <td>9.0</td>\n",
       "      <td>b'April 2009'</td>\n",
       "      <td>15.5</td>\n",
       "      <td>4.3</td>\n",
       "      <td>9.90</td>\n",
       "      <td>2865.0</td>\n",
       "      <td>6019.0</td>\n",
       "      <td>1941.0</td>\n",
       "    </tr>\n",
       "    <tr>\n",
       "      <th>9</th>\n",
       "      <td>10.0</td>\n",
       "      <td>b'May 2009'</td>\n",
       "      <td>17.4</td>\n",
       "      <td>7.3</td>\n",
       "      <td>12.35</td>\n",
       "      <td>3635.0</td>\n",
       "      <td>5386.0</td>\n",
       "      <td>2297.0</td>\n",
       "    </tr>\n",
       "    <tr>\n",
       "      <th>10</th>\n",
       "      <td>11.0</td>\n",
       "      <td>b'June 2009'</td>\n",
       "      <td>19.2</td>\n",
       "      <td>9.3</td>\n",
       "      <td>14.25</td>\n",
       "      <td>1851.0</td>\n",
       "      <td>3061.0</td>\n",
       "      <td>841.0</td>\n",
       "    </tr>\n",
       "  </tbody>\n",
       "</table>\n",
       "</div>"
      ],
      "text/plain": [
       "      id               date  max_temp  min_temp  mean_temp  nelson_kwh  \\\n",
       "0    1.0     b'August 2008'      21.7      12.8      17.25      2565.0   \n",
       "1    2.0  b'September 2008'      18.4       9.1      13.75      2574.0   \n",
       "8    9.0      b'April 2009'      15.5       4.3       9.90      2865.0   \n",
       "9   10.0        b'May 2009'      17.4       7.3      12.35      3635.0   \n",
       "10  11.0       b'June 2009'      19.2       9.3      14.25      1851.0   \n",
       "\n",
       "    norfolk_kwh  victory_kwh  \n",
       "0        1832.0        861.0  \n",
       "1        3653.0       1160.0  \n",
       "8        6019.0       1941.0  \n",
       "9        5386.0       2297.0  \n",
       "10       3061.0        841.0  "
      ]
     },
     "execution_count": 43,
     "metadata": {},
     "output_type": "execute_result"
    }
   ],
   "source": [
    "df5 = pd.DataFrame.copy(df1)\n",
    "df5 = df5.drop(df5.index[2:8])\n",
    "df5.head()"
   ]
  },
  {
   "cell_type": "code",
   "execution_count": 44,
   "metadata": {},
   "outputs": [
    {
     "name": "stdout",
     "output_type": "stream",
     "text": [
      "LinregressResult(slope=-796.97320489637889, intercept=15476.52962197633, rvalue=-0.97464654539502182, pvalue=2.0919424578721085e-20, stderr=33.975106767757708)\n"
     ]
    }
   ],
   "source": [
    "norfolk_mean3 = stats.linregress(df5[\"mean_temp\"][0:31], df5[\"norfolk_kwh\"][0:31])\n",
    "print(norfolk_mean3)"
   ]
  },
  {
   "cell_type": "code",
   "execution_count": null,
   "metadata": {
    "collapsed": true
   },
   "outputs": [],
   "source": []
  },
  {
   "cell_type": "code",
   "execution_count": null,
   "metadata": {
    "collapsed": true
   },
   "outputs": [],
   "source": []
  },
  {
   "cell_type": "code",
   "execution_count": null,
   "metadata": {
    "collapsed": true
   },
   "outputs": [],
   "source": []
  }
 ],
 "metadata": {
  "kernelspec": {
   "display_name": "Python [default]",
   "language": "python",
   "name": "python3"
  },
  "language_info": {
   "codemirror_mode": {
    "name": "ipython",
    "version": 3
   },
   "file_extension": ".py",
   "mimetype": "text/x-python",
   "name": "python",
   "nbconvert_exporter": "python",
   "pygments_lexer": "ipython3",
   "version": "3.5.3"
  }
 },
 "nbformat": 4,
 "nbformat_minor": 2
}
