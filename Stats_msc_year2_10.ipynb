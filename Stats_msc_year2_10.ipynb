{
 "cells": [
  {
   "cell_type": "code",
   "execution_count": 1,
   "metadata": {},
   "outputs": [
    {
     "name": "stderr",
     "output_type": "stream",
     "text": [
      "/Users/markprosser/anaconda/lib/python3.5/site-packages/statsmodels/compat/pandas.py:56: FutureWarning: The pandas.core.datetools module is deprecated and will be removed in a future version. Please use the pandas.tseries module instead.\n",
      "  from pandas.core import datetools\n"
     ]
    }
   ],
   "source": [
    "try:\n",
    "    from IPython import get_ipython\n",
    "    get_ipython().magic('reset -f')  \n",
    "except:\n",
    "    pass\n",
    "from IPython import get_ipython\n",
    "ipython = get_ipython().magic\n",
    "import io\n",
    "import os\n",
    "import sys\n",
    "os.chdir('/Users/markprosser/Desktop/PythonScripts')\n",
    "import MCP_functions as MCP\n",
    "import numpy as np\n",
    "import matplotlib.pyplot as plt\n",
    "import pickle\n",
    "plt.close(\"all\")\n",
    "\n",
    "import pandas as pd\n",
    "import savReaderWriter as spss\n",
    "import scipy.stats as stats\n",
    "from statsmodels.stats.multicomp import pairwise_tukeyhsd\n",
    "import statsmodels.api as sm\n",
    "import pylab\n",
    "import seaborn as sns"
   ]
  },
  {
   "cell_type": "code",
   "execution_count": 2,
   "metadata": {
    "collapsed": true
   },
   "outputs": [],
   "source": [
    "savFileName = '/Users/markprosser/Desktop/PythonScripts/Input_needed_by/Stats_msc_year2/Stats_10a.sav'\n",
    "with spss.SavReader(savFileName) as reader:\n",
    "    records = reader.all()\n",
    "df1 = pd.DataFrame(records)"
   ]
  },
  {
   "cell_type": "code",
   "execution_count": 3,
   "metadata": {
    "collapsed": true
   },
   "outputs": [],
   "source": [
    "savFileName = '/Users/markprosser/Desktop/PythonScripts/Input_needed_by/Stats_msc_year2/Stats_10b.sav'\n",
    "with spss.SavReader(savFileName) as reader:\n",
    "    records = reader.all()\n",
    "df101 = pd.DataFrame(records)"
   ]
  },
  {
   "cell_type": "code",
   "execution_count": 4,
   "metadata": {},
   "outputs": [
    {
     "data": {
      "text/html": [
       "<div>\n",
       "<style>\n",
       "    .dataframe thead tr:only-child th {\n",
       "        text-align: right;\n",
       "    }\n",
       "\n",
       "    .dataframe thead th {\n",
       "        text-align: left;\n",
       "    }\n",
       "\n",
       "    .dataframe tbody tr th {\n",
       "        vertical-align: top;\n",
       "    }\n",
       "</style>\n",
       "<table border=\"1\" class=\"dataframe\">\n",
       "  <thead>\n",
       "    <tr style=\"text-align: right;\">\n",
       "      <th></th>\n",
       "      <th>0</th>\n",
       "      <th>1</th>\n",
       "      <th>2</th>\n",
       "      <th>3</th>\n",
       "      <th>4</th>\n",
       "      <th>5</th>\n",
       "      <th>6</th>\n",
       "      <th>7</th>\n",
       "    </tr>\n",
       "  </thead>\n",
       "  <tbody>\n",
       "    <tr>\n",
       "      <th>29</th>\n",
       "      <td>b'GNB'</td>\n",
       "      <td>b'Guinea-Bissau'</td>\n",
       "      <td>2200.0</td>\n",
       "      <td>81.9</td>\n",
       "      <td>180.0</td>\n",
       "      <td>18.1</td>\n",
       "      <td>42.8894</td>\n",
       "      <td>0.0</td>\n",
       "    </tr>\n",
       "    <tr>\n",
       "      <th>30</th>\n",
       "      <td>b'MUS'</td>\n",
       "      <td>b'Mauritius'</td>\n",
       "      <td>2758.0</td>\n",
       "      <td>22.9</td>\n",
       "      <td>1100.0</td>\n",
       "      <td>41.4</td>\n",
       "      <td>31.7647</td>\n",
       "      <td>0.0</td>\n",
       "    </tr>\n",
       "    <tr>\n",
       "      <th>31</th>\n",
       "      <td>b'SEN'</td>\n",
       "      <td>b'Senegal'</td>\n",
       "      <td>2440.0</td>\n",
       "      <td>80.7</td>\n",
       "      <td>380.0</td>\n",
       "      <td>36.4</td>\n",
       "      <td>46.4894</td>\n",
       "      <td>0.0</td>\n",
       "    </tr>\n",
       "    <tr>\n",
       "      <th>32</th>\n",
       "      <td>b'SLE'</td>\n",
       "      <td>b'Sierra Leone'</td>\n",
       "      <td>1882.0</td>\n",
       "      <td>93.8</td>\n",
       "      <td>340.0</td>\n",
       "      <td>28.3</td>\n",
       "      <td>42.4466</td>\n",
       "      <td>0.0</td>\n",
       "    </tr>\n",
       "    <tr>\n",
       "      <th>33</th>\n",
       "      <td>b'SWZ'</td>\n",
       "      <td>b'Swaziland'</td>\n",
       "      <td>2506.0</td>\n",
       "      <td>34.3</td>\n",
       "      <td>800.0</td>\n",
       "      <td>26.3</td>\n",
       "      <td>48.3434</td>\n",
       "      <td>0.0</td>\n",
       "    </tr>\n",
       "  </tbody>\n",
       "</table>\n",
       "</div>"
      ],
      "text/plain": [
       "         0                 1       2     3       4     5        6    7\n",
       "29  b'GNB'  b'Guinea-Bissau'  2200.0  81.9   180.0  18.1  42.8894  0.0\n",
       "30  b'MUS'      b'Mauritius'  2758.0  22.9  1100.0  41.4  31.7647  0.0\n",
       "31  b'SEN'        b'Senegal'  2440.0  80.7   380.0  36.4  46.4894  0.0\n",
       "32  b'SLE'   b'Sierra Leone'  1882.0  93.8   340.0  28.3  42.4466  0.0\n",
       "33  b'SWZ'      b'Swaziland'  2506.0  34.3   800.0  26.3  48.3434  0.0"
      ]
     },
     "execution_count": 4,
     "metadata": {},
     "output_type": "execute_result"
    }
   ],
   "source": [
    "df1.tail()"
   ]
  },
  {
   "cell_type": "code",
   "execution_count": 5,
   "metadata": {},
   "outputs": [
    {
     "data": {
      "text/html": [
       "<div>\n",
       "<style>\n",
       "    .dataframe thead tr:only-child th {\n",
       "        text-align: right;\n",
       "    }\n",
       "\n",
       "    .dataframe thead th {\n",
       "        text-align: left;\n",
       "    }\n",
       "\n",
       "    .dataframe tbody tr th {\n",
       "        vertical-align: top;\n",
       "    }\n",
       "</style>\n",
       "<table border=\"1\" class=\"dataframe\">\n",
       "  <thead>\n",
       "    <tr style=\"text-align: right;\">\n",
       "      <th></th>\n",
       "      <th>code</th>\n",
       "      <th>name</th>\n",
       "      <th>daycal</th>\n",
       "      <th>femilit</th>\n",
       "      <th>gnp</th>\n",
       "      <th>urbpop</th>\n",
       "      <th>under15</th>\n",
       "      <th>deforest</th>\n",
       "    </tr>\n",
       "  </thead>\n",
       "  <tbody>\n",
       "    <tr>\n",
       "      <th>0</th>\n",
       "      <td>b'GMB'</td>\n",
       "      <td>b'Gambia, The'</td>\n",
       "      <td>2308.0</td>\n",
       "      <td>89.5</td>\n",
       "      <td>210.0</td>\n",
       "      <td>20.5</td>\n",
       "      <td>42.6471</td>\n",
       "      <td>3.125</td>\n",
       "    </tr>\n",
       "    <tr>\n",
       "      <th>1</th>\n",
       "      <td>b'CIV'</td>\n",
       "      <td>b\"Cote d'Ivoire\"</td>\n",
       "      <td>2654.0</td>\n",
       "      <td>65.7</td>\n",
       "      <td>670.0</td>\n",
       "      <td>37.6</td>\n",
       "      <td>47.4013</td>\n",
       "      <td>2.820</td>\n",
       "    </tr>\n",
       "    <tr>\n",
       "      <th>2</th>\n",
       "      <td>b'MWI'</td>\n",
       "      <td>b'Malawi'</td>\n",
       "      <td>2229.0</td>\n",
       "      <td>69.2</td>\n",
       "      <td>170.0</td>\n",
       "      <td>10.4</td>\n",
       "      <td>46.0072</td>\n",
       "      <td>2.560</td>\n",
       "    </tr>\n",
       "    <tr>\n",
       "      <th>3</th>\n",
       "      <td>b'NER'</td>\n",
       "      <td>b'Niger'</td>\n",
       "      <td>2267.0</td>\n",
       "      <td>88.7</td>\n",
       "      <td>230.0</td>\n",
       "      <td>16.2</td>\n",
       "      <td>46.1527</td>\n",
       "      <td>2.540</td>\n",
       "    </tr>\n",
       "    <tr>\n",
       "      <th>4</th>\n",
       "      <td>b'NGA'</td>\n",
       "      <td>b'Nigeria'</td>\n",
       "      <td>2244.0</td>\n",
       "      <td>68.9</td>\n",
       "      <td>850.0</td>\n",
       "      <td>31.0</td>\n",
       "      <td>46.9494</td>\n",
       "      <td>2.190</td>\n",
       "    </tr>\n",
       "  </tbody>\n",
       "</table>\n",
       "</div>"
      ],
      "text/plain": [
       "     code              name  daycal  femilit    gnp  urbpop  under15  deforest\n",
       "0  b'GMB'    b'Gambia, The'  2308.0     89.5  210.0    20.5  42.6471     3.125\n",
       "1  b'CIV'  b\"Cote d'Ivoire\"  2654.0     65.7  670.0    37.6  47.4013     2.820\n",
       "2  b'MWI'         b'Malawi'  2229.0     69.2  170.0    10.4  46.0072     2.560\n",
       "3  b'NER'          b'Niger'  2267.0     88.7  230.0    16.2  46.1527     2.540\n",
       "4  b'NGA'        b'Nigeria'  2244.0     68.9  850.0    31.0  46.9494     2.190"
      ]
     },
     "execution_count": 5,
     "metadata": {},
     "output_type": "execute_result"
    }
   ],
   "source": [
    "df1.columns = ['code', 'name', 'daycal', 'femilit', 'gnp', 'urbpop', 'under15', 'deforest']\n",
    "df1.head()"
   ]
  },
  {
   "cell_type": "code",
   "execution_count": 6,
   "metadata": {
    "collapsed": true
   },
   "outputs": [],
   "source": [
    "#10_1"
   ]
  },
  {
   "cell_type": "code",
   "execution_count": 7,
   "metadata": {},
   "outputs": [
    {
     "data": {
      "image/png": "[encoded data removed]",
      "text/plain": [
       "<matplotlib.figure.Figure at 0x1191b5358>"
      ]
     },
     "metadata": {},
     "output_type": "display_data"
    }
   ],
   "source": [
    "sns.regplot(x=df1[\"gnp\"], y=df1[\"daycal\"], fit_reg=False)\n",
    "plt.show()"
   ]
  },
  {
   "cell_type": "code",
   "execution_count": 8,
   "metadata": {},
   "outputs": [
    {
     "data": {
      "text/html": [
       "<div>\n",
       "<style>\n",
       "    .dataframe thead tr:only-child th {\n",
       "        text-align: right;\n",
       "    }\n",
       "\n",
       "    .dataframe thead th {\n",
       "        text-align: left;\n",
       "    }\n",
       "\n",
       "    .dataframe tbody tr th {\n",
       "        vertical-align: top;\n",
       "    }\n",
       "</style>\n",
       "<table border=\"1\" class=\"dataframe\">\n",
       "  <thead>\n",
       "    <tr style=\"text-align: right;\">\n",
       "      <th></th>\n",
       "      <th>code</th>\n",
       "      <th>name</th>\n",
       "      <th>daycal</th>\n",
       "      <th>femilit</th>\n",
       "      <th>gnp</th>\n",
       "      <th>urbpop</th>\n",
       "      <th>under15</th>\n",
       "      <th>deforest</th>\n",
       "    </tr>\n",
       "  </thead>\n",
       "  <tbody>\n",
       "    <tr>\n",
       "      <th>24</th>\n",
       "      <td>b'COG'</td>\n",
       "      <td>b'Congo'</td>\n",
       "      <td>2606.0</td>\n",
       "      <td>61.8</td>\n",
       "      <td>1040.0</td>\n",
       "      <td>38.0</td>\n",
       "      <td>44.7369</td>\n",
       "      <td>0.09</td>\n",
       "    </tr>\n",
       "    <tr>\n",
       "      <th>28</th>\n",
       "      <td>b'GAB'</td>\n",
       "      <td>b'Gabon'</td>\n",
       "      <td>2548.0</td>\n",
       "      <td>56.9</td>\n",
       "      <td>3380.0</td>\n",
       "      <td>40.9</td>\n",
       "      <td>36.9107</td>\n",
       "      <td>0.00</td>\n",
       "    </tr>\n",
       "    <tr>\n",
       "      <th>30</th>\n",
       "      <td>b'MUS'</td>\n",
       "      <td>b'Mauritius'</td>\n",
       "      <td>2758.0</td>\n",
       "      <td>22.9</td>\n",
       "      <td>1100.0</td>\n",
       "      <td>41.4</td>\n",
       "      <td>31.7647</td>\n",
       "      <td>0.00</td>\n",
       "    </tr>\n",
       "  </tbody>\n",
       "</table>\n",
       "</div>"
      ],
      "text/plain": [
       "      code          name  daycal  femilit     gnp  urbpop  under15  deforest\n",
       "24  b'COG'      b'Congo'  2606.0     61.8  1040.0    38.0  44.7369      0.09\n",
       "28  b'GAB'      b'Gabon'  2548.0     56.9  3380.0    40.9  36.9107      0.00\n",
       "30  b'MUS'  b'Mauritius'  2758.0     22.9  1100.0    41.4  31.7647      0.00"
      ]
     },
     "execution_count": 8,
     "metadata": {},
     "output_type": "execute_result"
    }
   ],
   "source": [
    "df1[df1['gnp']>1000]"
   ]
  },
  {
   "cell_type": "code",
   "execution_count": 9,
   "metadata": {},
   "outputs": [
    {
     "data": {
      "text/html": [
       "<div>\n",
       "<style>\n",
       "    .dataframe thead tr:only-child th {\n",
       "        text-align: right;\n",
       "    }\n",
       "\n",
       "    .dataframe thead th {\n",
       "        text-align: left;\n",
       "    }\n",
       "\n",
       "    .dataframe tbody tr th {\n",
       "        vertical-align: top;\n",
       "    }\n",
       "</style>\n",
       "<table border=\"1\" class=\"dataframe\">\n",
       "  <thead>\n",
       "    <tr style=\"text-align: right;\">\n",
       "      <th></th>\n",
       "      <th>code</th>\n",
       "      <th>name</th>\n",
       "      <th>daycal</th>\n",
       "      <th>femilit</th>\n",
       "      <th>gnp</th>\n",
       "      <th>urbpop</th>\n",
       "      <th>under15</th>\n",
       "      <th>deforest</th>\n",
       "    </tr>\n",
       "  </thead>\n",
       "  <tbody>\n",
       "    <tr>\n",
       "      <th>28</th>\n",
       "      <td>b'GAB'</td>\n",
       "      <td>b'Gabon'</td>\n",
       "      <td>2548.0</td>\n",
       "      <td>56.9</td>\n",
       "      <td>3380.0</td>\n",
       "      <td>40.9</td>\n",
       "      <td>36.9107</td>\n",
       "      <td>0.0</td>\n",
       "    </tr>\n",
       "  </tbody>\n",
       "</table>\n",
       "</div>"
      ],
      "text/plain": [
       "      code      name  daycal  femilit     gnp  urbpop  under15  deforest\n",
       "28  b'GAB'  b'Gabon'  2548.0     56.9  3380.0    40.9  36.9107       0.0"
      ]
     },
     "execution_count": 9,
     "metadata": {},
     "output_type": "execute_result"
    }
   ],
   "source": [
    "abc = df1[df1['name']==b'Gabon']\n",
    "abc"
   ]
  },
  {
   "cell_type": "code",
   "execution_count": 10,
   "metadata": {
    "collapsed": true
   },
   "outputs": [],
   "source": [
    "#10_2"
   ]
  },
  {
   "cell_type": "code",
   "execution_count": 11,
   "metadata": {},
   "outputs": [
    {
     "data": {
      "text/html": [
       "<div>\n",
       "<style>\n",
       "    .dataframe thead tr:only-child th {\n",
       "        text-align: right;\n",
       "    }\n",
       "\n",
       "    .dataframe thead th {\n",
       "        text-align: left;\n",
       "    }\n",
       "\n",
       "    .dataframe tbody tr th {\n",
       "        vertical-align: top;\n",
       "    }\n",
       "</style>\n",
       "<table border=\"1\" class=\"dataframe\">\n",
       "  <thead>\n",
       "    <tr style=\"text-align: right;\">\n",
       "      <th></th>\n",
       "      <th>code</th>\n",
       "      <th>name</th>\n",
       "      <th>daycal</th>\n",
       "      <th>femilit</th>\n",
       "      <th>gnp</th>\n",
       "      <th>urbpop</th>\n",
       "      <th>under15</th>\n",
       "      <th>deforest</th>\n",
       "    </tr>\n",
       "  </thead>\n",
       "  <tbody>\n",
       "    <tr>\n",
       "      <th>0</th>\n",
       "      <td>b'GMB'</td>\n",
       "      <td>b'Gambia, The'</td>\n",
       "      <td>2308.0</td>\n",
       "      <td>89.5</td>\n",
       "      <td>5.347108</td>\n",
       "      <td>20.5</td>\n",
       "      <td>42.6471</td>\n",
       "      <td>3.125</td>\n",
       "    </tr>\n",
       "    <tr>\n",
       "      <th>1</th>\n",
       "      <td>b'CIV'</td>\n",
       "      <td>b\"Cote d'Ivoire\"</td>\n",
       "      <td>2654.0</td>\n",
       "      <td>65.7</td>\n",
       "      <td>6.507278</td>\n",
       "      <td>37.6</td>\n",
       "      <td>47.4013</td>\n",
       "      <td>2.820</td>\n",
       "    </tr>\n",
       "    <tr>\n",
       "      <th>2</th>\n",
       "      <td>b'MWI'</td>\n",
       "      <td>b'Malawi'</td>\n",
       "      <td>2229.0</td>\n",
       "      <td>69.2</td>\n",
       "      <td>5.135798</td>\n",
       "      <td>10.4</td>\n",
       "      <td>46.0072</td>\n",
       "      <td>2.560</td>\n",
       "    </tr>\n",
       "    <tr>\n",
       "      <th>3</th>\n",
       "      <td>b'NER'</td>\n",
       "      <td>b'Niger'</td>\n",
       "      <td>2267.0</td>\n",
       "      <td>88.7</td>\n",
       "      <td>5.438079</td>\n",
       "      <td>16.2</td>\n",
       "      <td>46.1527</td>\n",
       "      <td>2.540</td>\n",
       "    </tr>\n",
       "    <tr>\n",
       "      <th>4</th>\n",
       "      <td>b'NGA'</td>\n",
       "      <td>b'Nigeria'</td>\n",
       "      <td>2244.0</td>\n",
       "      <td>68.9</td>\n",
       "      <td>6.745236</td>\n",
       "      <td>31.0</td>\n",
       "      <td>46.9494</td>\n",
       "      <td>2.190</td>\n",
       "    </tr>\n",
       "  </tbody>\n",
       "</table>\n",
       "</div>"
      ],
      "text/plain": [
       "     code              name  daycal  femilit       gnp  urbpop  under15  \\\n",
       "0  b'GMB'    b'Gambia, The'  2308.0     89.5  5.347108    20.5  42.6471   \n",
       "1  b'CIV'  b\"Cote d'Ivoire\"  2654.0     65.7  6.507278    37.6  47.4013   \n",
       "2  b'MWI'         b'Malawi'  2229.0     69.2  5.135798    10.4  46.0072   \n",
       "3  b'NER'          b'Niger'  2267.0     88.7  5.438079    16.2  46.1527   \n",
       "4  b'NGA'        b'Nigeria'  2244.0     68.9  6.745236    31.0  46.9494   \n",
       "\n",
       "   deforest  \n",
       "0     3.125  \n",
       "1     2.820  \n",
       "2     2.560  \n",
       "3     2.540  \n",
       "4     2.190  "
      ]
     },
     "execution_count": 11,
     "metadata": {},
     "output_type": "execute_result"
    }
   ],
   "source": [
    "df2 = pd.DataFrame.copy(df1)\n",
    "df2['gnp'] = np.log(df1['gnp'])\n",
    "df2.head()"
   ]
  },
  {
   "cell_type": "code",
   "execution_count": 12,
   "metadata": {
    "collapsed": true
   },
   "outputs": [],
   "source": [
    "#10_3"
   ]
  },
  {
   "cell_type": "code",
   "execution_count": 13,
   "metadata": {},
   "outputs": [
    {
     "data": {
      "image/png": "[encoded data removed]",
      "text/plain": [
       "<matplotlib.figure.Figure at 0x11c543710>"
      ]
     },
     "metadata": {},
     "output_type": "display_data"
    }
   ],
   "source": [
    "sns.regplot(x=df2[\"gnp\"], y=df2[\"daycal\"], fit_reg=False)\n",
    "plt.show()"
   ]
  },
  {
   "cell_type": "code",
   "execution_count": 14,
   "metadata": {},
   "outputs": [
    {
     "name": "stdout",
     "output_type": "stream",
     "text": [
      "LinregressResult(slope=0.0018036140230796279, intercept=1.9378031735539816, rvalue=0.64192956363482279, pvalue=4.275137618549785e-05, stderr=0.00038084015293750963)\n"
     ]
    }
   ],
   "source": [
    "abc2 = stats.linregress(df2[\"daycal\"], df2[\"gnp\"])\n",
    "print(abc2)\n",
    "#pvalue is for slope"
   ]
  },
  {
   "cell_type": "code",
   "execution_count": 15,
   "metadata": {},
   "outputs": [
    {
     "name": "stdout",
     "output_type": "stream",
     "text": [
      "0.412073564668\n"
     ]
    }
   ],
   "source": [
    "abc2_r2 = abc2[2]**2\n",
    "print(abc2_r2)"
   ]
  },
  {
   "cell_type": "code",
   "execution_count": 16,
   "metadata": {
    "collapsed": true
   },
   "outputs": [],
   "source": [
    "#10_5"
   ]
  },
  {
   "cell_type": "code",
   "execution_count": 17,
   "metadata": {},
   "outputs": [
    {
     "data": {
      "image/png": "[encoded data removed]",
      "text/plain": [
       "<matplotlib.figure.Figure at 0x11c69a898>"
      ]
     },
     "metadata": {},
     "output_type": "display_data"
    }
   ],
   "source": [
    "sns.regplot(x=df1[\"femilit\"], y=df1[\"daycal\"], fit_reg=False)\n",
    "plt.show()"
   ]
  },
  {
   "cell_type": "code",
   "execution_count": 18,
   "metadata": {},
   "outputs": [
    {
     "data": {
      "image/png": "[encoded data removed]",
      "text/plain": [
       "<matplotlib.figure.Figure at 0x11c5f0438>"
      ]
     },
     "metadata": {},
     "output_type": "display_data"
    }
   ],
   "source": [
    "sns.regplot(x=df1[\"urbpop\"], y=df1[\"daycal\"], fit_reg=False)\n",
    "plt.show()"
   ]
  },
  {
   "cell_type": "code",
   "execution_count": 19,
   "metadata": {},
   "outputs": [
    {
     "data": {
      "image/png": "[encoded data removed]",
      "text/plain": [
       "<matplotlib.figure.Figure at 0x11d954128>"
      ]
     },
     "metadata": {},
     "output_type": "display_data"
    }
   ],
   "source": [
    "sns.regplot(x=df1[\"under15\"], y=df1[\"daycal\"], fit_reg=False)\n",
    "plt.show()"
   ]
  },
  {
   "cell_type": "code",
   "execution_count": 20,
   "metadata": {},
   "outputs": [
    {
     "data": {
      "image/png": "[encoded data removed]",
      "text/plain": [
       "<matplotlib.figure.Figure at 0x11d84a438>"
      ]
     },
     "metadata": {},
     "output_type": "display_data"
    }
   ],
   "source": [
    "sns.regplot(x=df1[\"deforest\"], y=df1[\"daycal\"], fit_reg=False)\n",
    "plt.show()"
   ]
  },
  {
   "cell_type": "code",
   "execution_count": 81,
   "metadata": {
    "collapsed": true
   },
   "outputs": [],
   "source": [
    "y =  df1['daycal'].tolist()\n",
    "\n",
    "x1 = df2['gnp'].tolist()\n",
    "x2 = df1['femilit'].tolist()\n",
    "x3 = df1['urbpop'].tolist()\n",
    "x4 = df1['under15'].tolist()\n",
    "x5 = df1['deforest'].tolist()\n",
    "\n",
    "#NB = VARIABLES MUST BE IN REVERSE ORDER SO THAT x1_input = x1_output etc\n",
    "x = [x5, x4, x3, x2, x1]"
   ]
  },
  {
   "cell_type": "code",
   "execution_count": 83,
   "metadata": {
    "collapsed": true
   },
   "outputs": [],
   "source": [
    "import statsmodels.api as sm\n",
    "def reg_m(y, x):\n",
    "    ones = np.ones(len(x[0]))\n",
    "    X = sm.add_constant(np.column_stack((x[0], ones)))\n",
    "    for ele in x[1:]:\n",
    "        X = sm.add_constant(np.column_stack((ele, X)))\n",
    "    results = sm.OLS(y, X).fit()\n",
    "    return results"
   ]
  },
  {
   "cell_type": "code",
   "execution_count": 84,
   "metadata": {},
   "outputs": [
    {
     "name": "stdout",
     "output_type": "stream",
     "text": [
      "                            OLS Regression Results                            \n",
      "==============================================================================\n",
      "Dep. Variable:                      y   R-squared:                       0.589\n",
      "Model:                            OLS   Adj. R-squared:                  0.515\n",
      "Method:                 Least Squares   F-statistic:                     8.021\n",
      "Date:                Sat, 09 Dec 2017   Prob (F-statistic):           8.55e-05\n",
      "Time:                        16:30:38   Log-Likelihood:                -221.29\n",
      "No. Observations:                  34   AIC:                             454.6\n",
      "Df Residuals:                      28   BIC:                             463.7\n",
      "Df Model:                           5                                         \n",
      "Covariance Type:            nonrobust                                         \n",
      "==============================================================================\n",
      "                 coef    std err          t      P>|t|      [0.025      0.975]\n",
      "------------------------------------------------------------------------------\n",
      "x1           150.6680     58.617      2.570      0.016      30.597     270.739\n",
      "x2            -4.7511      1.912     -2.484      0.019      -8.668      -0.834\n",
      "x3             3.3805      3.231      1.046      0.304      -3.237       9.998\n",
      "x4            -4.0957      9.638     -0.425      0.674     -23.837      15.646\n",
      "x5           100.2611     36.762      2.727      0.011      24.958     175.564\n",
      "const       1657.1976    665.777      2.489      0.019     293.416    3020.980\n",
      "==============================================================================\n",
      "Omnibus:                        0.567   Durbin-Watson:                   2.428\n",
      "Prob(Omnibus):                  0.753   Jarque-Bera (JB):                0.686\n",
      "Skew:                          -0.212   Prob(JB):                        0.710\n",
      "Kurtosis:                       2.448   Cond. No.                     1.92e+03\n",
      "==============================================================================\n",
      "\n",
      "Warnings:\n",
      "[1] Standard Errors assume that the covariance matrix of the errors is correctly specified.\n",
      "[2] The condition number is large, 1.92e+03. This might indicate that there are\n",
      "strong multicollinearity or other numerical problems.\n"
     ]
    }
   ],
   "source": [
    "print(reg_m(y, x).summary())\n",
    "#OLS = ordinary least squares"
   ]
  },
  {
   "cell_type": "code",
   "execution_count": 32,
   "metadata": {
    "collapsed": true
   },
   "outputs": [],
   "source": [
    "#10_7"
   ]
  },
  {
   "cell_type": "code",
   "execution_count": 86,
   "metadata": {},
   "outputs": [
    {
     "name": "stdout",
     "output_type": "stream",
     "text": [
      "                            OLS Regression Results                            \n",
      "==============================================================================\n",
      "Dep. Variable:                      y   R-squared:                       0.586\n",
      "Model:                            OLS   Adj. R-squared:                  0.529\n",
      "Method:                 Least Squares   F-statistic:                     10.27\n",
      "Date:                Sat, 09 Dec 2017   Prob (F-statistic):           2.64e-05\n",
      "Time:                        16:35:50   Log-Likelihood:                -221.40\n",
      "No. Observations:                  34   AIC:                             452.8\n",
      "Df Residuals:                      29   BIC:                             460.4\n",
      "Df Model:                           4                                         \n",
      "Covariance Type:            nonrobust                                         \n",
      "==============================================================================\n",
      "                 coef    std err          t      P>|t|      [0.025      0.975]\n",
      "------------------------------------------------------------------------------\n",
      "x1           155.9227     56.482      2.761      0.010      40.403     271.442\n",
      "x2            -4.6172      1.859     -2.483      0.019      -8.420      -0.814\n",
      "x3             3.5958      3.145      1.143      0.262      -2.837      10.029\n",
      "x4            97.7655     35.773      2.733      0.011      24.601     170.930\n",
      "const       1428.6605    386.924      3.692      0.001     637.311    2220.010\n",
      "==============================================================================\n",
      "Omnibus:                        0.752   Durbin-Watson:                   2.307\n",
      "Prob(Omnibus):                  0.687   Jarque-Bera (JB):                0.803\n",
      "Skew:                          -0.204   Prob(JB):                        0.669\n",
      "Kurtosis:                       2.368   Cond. No.                         991.\n",
      "==============================================================================\n",
      "\n",
      "Warnings:\n",
      "[1] Standard Errors assume that the covariance matrix of the errors is correctly specified.\n"
     ]
    }
   ],
   "source": [
    "y =  df1['daycal'].tolist()\n",
    "\n",
    "x1 = df2['gnp'].tolist()\n",
    "x2 = df1['femilit'].tolist()\n",
    "x3 = df1['urbpop'].tolist()\n",
    "x4 = df1['deforest'].tolist()\n",
    "\n",
    "#NB = VARIABLES MUST BE IN REVERSE ORDER SO THAT x1_input = x1_output etc\n",
    "x = [x4, x3, x2, x1]\n",
    "print(reg_m(y, x).summary())"
   ]
  },
  {
   "cell_type": "code",
   "execution_count": 87,
   "metadata": {},
   "outputs": [
    {
     "name": "stdout",
     "output_type": "stream",
     "text": [
      "                            OLS Regression Results                            \n",
      "==============================================================================\n",
      "Dep. Variable:                      y   R-squared:                       0.568\n",
      "Model:                            OLS   Adj. R-squared:                  0.524\n",
      "Method:                 Least Squares   F-statistic:                     13.13\n",
      "Date:                Sat, 09 Dec 2017   Prob (F-statistic):           1.19e-05\n",
      "Time:                        16:36:19   Log-Likelihood:                -222.15\n",
      "No. Observations:                  34   AIC:                             452.3\n",
      "Df Residuals:                      30   BIC:                             458.4\n",
      "Df Model:                           3                                         \n",
      "Covariance Type:            nonrobust                                         \n",
      "==============================================================================\n",
      "                 coef    std err          t      P>|t|      [0.025      0.975]\n",
      "------------------------------------------------------------------------------\n",
      "x1           185.9030     50.281      3.697      0.001      83.216     288.590\n",
      "x2            -4.4503      1.863     -2.389      0.023      -8.255      -0.645\n",
      "x3            91.8451     35.577      2.582      0.015      19.187     164.503\n",
      "const       1339.9702    381.001      3.517      0.001     561.862    2118.079\n",
      "==============================================================================\n",
      "Omnibus:                        0.258   Durbin-Watson:                   2.133\n",
      "Prob(Omnibus):                  0.879   Jarque-Bera (JB):                0.452\n",
      "Skew:                          -0.054   Prob(JB):                        0.798\n",
      "Kurtosis:                       2.446   Cond. No.                         915.\n",
      "==============================================================================\n",
      "\n",
      "Warnings:\n",
      "[1] Standard Errors assume that the covariance matrix of the errors is correctly specified.\n"
     ]
    }
   ],
   "source": [
    "y =  df1['daycal'].tolist()\n",
    "\n",
    "x1 = df2['gnp'].tolist()\n",
    "x2 = df1['femilit'].tolist()\n",
    "x3 = df1['deforest'].tolist()\n",
    "\n",
    "#NB = VARIABLES MUST BE IN REVERSE ORDER SO THAT x1_input = x1_output etc\n",
    "x = [x3, x2, x1]\n",
    "print(reg_m(y, x).summary())"
   ]
  },
  {
   "cell_type": "code",
   "execution_count": null,
   "metadata": {
    "collapsed": true
   },
   "outputs": [],
   "source": []
  },
  {
   "cell_type": "code",
   "execution_count": null,
   "metadata": {
    "collapsed": true
   },
   "outputs": [],
   "source": []
  }
 ],
 "metadata": {
  "kernelspec": {
   "display_name": "Python [default]",
   "language": "python",
   "name": "python3"
  },
  "language_info": {
   "codemirror_mode": {
    "name": "ipython",
    "version": 3
   },
   "file_extension": ".py",
   "mimetype": "text/x-python",
   "name": "python",
   "nbconvert_exporter": "python",
   "pygments_lexer": "ipython3",
   "version": "3.5.3"
  }
 },
 "nbformat": 4,
 "nbformat_minor": 2
}
