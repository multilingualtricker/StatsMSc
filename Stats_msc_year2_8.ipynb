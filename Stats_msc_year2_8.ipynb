{
 "cells": [
  {
   "cell_type": "code",
   "execution_count": 1,
   "metadata": {},
   "outputs": [
    {
     "name": "stderr",
     "output_type": "stream",
     "text": [
      "/Users/markprosser/anaconda/lib/python3.5/site-packages/statsmodels/compat/pandas.py:56: FutureWarning: The pandas.core.datetools module is deprecated and will be removed in a future version. Please use the pandas.tseries module instead.\n",
      "  from pandas.core import datetools\n"
     ]
    }
   ],
   "source": [
    "try:\n",
    "    from IPython import get_ipython\n",
    "    get_ipython().magic('reset -f')  \n",
    "except:\n",
    "    pass\n",
    "from IPython import get_ipython\n",
    "ipython = get_ipython().magic\n",
    "import io\n",
    "import os\n",
    "import sys\n",
    "os.chdir('/Users/markprosser/Desktop/PythonScripts')\n",
    "import MCP_functions as MCP\n",
    "import numpy as np\n",
    "import matplotlib.pyplot as plt\n",
    "import pickle\n",
    "plt.close(\"all\")\n",
    "\n",
    "import pandas as pd\n",
    "import savReaderWriter as spss\n",
    "import scipy.stats as stats\n",
    "from statsmodels.stats.multicomp import pairwise_tukeyhsd\n",
    "import statsmodels.api as sm\n",
    "import pylab"
   ]
  },
  {
   "cell_type": "code",
   "execution_count": 2,
   "metadata": {
    "collapsed": true
   },
   "outputs": [],
   "source": [
    "savFileName = '/Users/markprosser/Desktop/PythonScripts/Input_needed_by/Stats_msc_year2/Stats_8.sav'\n",
    "with spss.SavReader(savFileName) as reader:\n",
    "    records = reader.all()\n",
    "df1 = pd.DataFrame(records)"
   ]
  },
  {
   "cell_type": "code",
   "execution_count": 3,
   "metadata": {},
   "outputs": [
    {
     "data": {
      "text/html": [
       "<div>\n",
       "<style>\n",
       "    .dataframe thead tr:only-child th {\n",
       "        text-align: right;\n",
       "    }\n",
       "\n",
       "    .dataframe thead th {\n",
       "        text-align: left;\n",
       "    }\n",
       "\n",
       "    .dataframe tbody tr th {\n",
       "        vertical-align: top;\n",
       "    }\n",
       "</style>\n",
       "<table border=\"1\" class=\"dataframe\">\n",
       "  <thead>\n",
       "    <tr style=\"text-align: right;\">\n",
       "      <th></th>\n",
       "      <th>0</th>\n",
       "      <th>1</th>\n",
       "      <th>2</th>\n",
       "      <th>3</th>\n",
       "      <th>4</th>\n",
       "      <th>5</th>\n",
       "      <th>6</th>\n",
       "      <th>7</th>\n",
       "    </tr>\n",
       "  </thead>\n",
       "  <tbody>\n",
       "    <tr>\n",
       "      <th>0</th>\n",
       "      <td>1.0</td>\n",
       "      <td>50.0</td>\n",
       "      <td>1.0</td>\n",
       "      <td>1.0</td>\n",
       "      <td>1.0</td>\n",
       "      <td>3.0</td>\n",
       "      <td>4.0</td>\n",
       "      <td>1.0</td>\n",
       "    </tr>\n",
       "    <tr>\n",
       "      <th>1</th>\n",
       "      <td>2.0</td>\n",
       "      <td>0.0</td>\n",
       "      <td>4.0</td>\n",
       "      <td>3.0</td>\n",
       "      <td>1.0</td>\n",
       "      <td>2.0</td>\n",
       "      <td>3.0</td>\n",
       "      <td>1.0</td>\n",
       "    </tr>\n",
       "    <tr>\n",
       "      <th>2</th>\n",
       "      <td>1.0</td>\n",
       "      <td>100.0</td>\n",
       "      <td>3.0</td>\n",
       "      <td>3.0</td>\n",
       "      <td>1.0</td>\n",
       "      <td>3.0</td>\n",
       "      <td>4.0</td>\n",
       "      <td>2.0</td>\n",
       "    </tr>\n",
       "    <tr>\n",
       "      <th>3</th>\n",
       "      <td>1.0</td>\n",
       "      <td>500.0</td>\n",
       "      <td>3.0</td>\n",
       "      <td>3.0</td>\n",
       "      <td>2.0</td>\n",
       "      <td>3.0</td>\n",
       "      <td>4.0</td>\n",
       "      <td>2.0</td>\n",
       "    </tr>\n",
       "    <tr>\n",
       "      <th>4</th>\n",
       "      <td>1.0</td>\n",
       "      <td>25.0</td>\n",
       "      <td>-999.0</td>\n",
       "      <td>3.0</td>\n",
       "      <td>2.0</td>\n",
       "      <td>3.0</td>\n",
       "      <td>3.0</td>\n",
       "      <td>1.0</td>\n",
       "    </tr>\n",
       "  </tbody>\n",
       "</table>\n",
       "</div>"
      ],
      "text/plain": [
       "     0      1      2    3    4    5    6    7\n",
       "0  1.0   50.0    1.0  1.0  1.0  3.0  4.0  1.0\n",
       "1  2.0    0.0    4.0  3.0  1.0  2.0  3.0  1.0\n",
       "2  1.0  100.0    3.0  3.0  1.0  3.0  4.0  2.0\n",
       "3  1.0  500.0    3.0  3.0  2.0  3.0  4.0  2.0\n",
       "4  1.0   25.0 -999.0  3.0  2.0  3.0  3.0  1.0"
      ]
     },
     "execution_count": 3,
     "metadata": {},
     "output_type": "execute_result"
    }
   ],
   "source": [
    "df1.head()"
   ]
  },
  {
   "cell_type": "code",
   "execution_count": 4,
   "metadata": {},
   "outputs": [
    {
     "data": {
      "text/html": [
       "<div>\n",
       "<style>\n",
       "    .dataframe thead tr:only-child th {\n",
       "        text-align: right;\n",
       "    }\n",
       "\n",
       "    .dataframe thead th {\n",
       "        text-align: left;\n",
       "    }\n",
       "\n",
       "    .dataframe tbody tr th {\n",
       "        vertical-align: top;\n",
       "    }\n",
       "</style>\n",
       "<table border=\"1\" class=\"dataframe\">\n",
       "  <thead>\n",
       "    <tr style=\"text-align: right;\">\n",
       "      <th></th>\n",
       "      <th>paytax</th>\n",
       "      <th>amount</th>\n",
       "      <th>income</th>\n",
       "      <th>age</th>\n",
       "      <th>boat</th>\n",
       "      <th>relax</th>\n",
       "      <th>visit</th>\n",
       "      <th>env</th>\n",
       "    </tr>\n",
       "  </thead>\n",
       "  <tbody>\n",
       "    <tr>\n",
       "      <th>0</th>\n",
       "      <td>1.0</td>\n",
       "      <td>50.0</td>\n",
       "      <td>1.0</td>\n",
       "      <td>1.0</td>\n",
       "      <td>1.0</td>\n",
       "      <td>3.0</td>\n",
       "      <td>4.0</td>\n",
       "      <td>1.0</td>\n",
       "    </tr>\n",
       "    <tr>\n",
       "      <th>1</th>\n",
       "      <td>2.0</td>\n",
       "      <td>0.0</td>\n",
       "      <td>4.0</td>\n",
       "      <td>3.0</td>\n",
       "      <td>1.0</td>\n",
       "      <td>2.0</td>\n",
       "      <td>3.0</td>\n",
       "      <td>1.0</td>\n",
       "    </tr>\n",
       "    <tr>\n",
       "      <th>2</th>\n",
       "      <td>1.0</td>\n",
       "      <td>100.0</td>\n",
       "      <td>3.0</td>\n",
       "      <td>3.0</td>\n",
       "      <td>1.0</td>\n",
       "      <td>3.0</td>\n",
       "      <td>4.0</td>\n",
       "      <td>2.0</td>\n",
       "    </tr>\n",
       "    <tr>\n",
       "      <th>3</th>\n",
       "      <td>1.0</td>\n",
       "      <td>500.0</td>\n",
       "      <td>3.0</td>\n",
       "      <td>3.0</td>\n",
       "      <td>2.0</td>\n",
       "      <td>3.0</td>\n",
       "      <td>4.0</td>\n",
       "      <td>2.0</td>\n",
       "    </tr>\n",
       "    <tr>\n",
       "      <th>4</th>\n",
       "      <td>1.0</td>\n",
       "      <td>25.0</td>\n",
       "      <td>-999.0</td>\n",
       "      <td>3.0</td>\n",
       "      <td>2.0</td>\n",
       "      <td>3.0</td>\n",
       "      <td>3.0</td>\n",
       "      <td>1.0</td>\n",
       "    </tr>\n",
       "  </tbody>\n",
       "</table>\n",
       "</div>"
      ],
      "text/plain": [
       "   paytax  amount  income  age  boat  relax  visit  env\n",
       "0     1.0    50.0     1.0  1.0   1.0    3.0    4.0  1.0\n",
       "1     2.0     0.0     4.0  3.0   1.0    2.0    3.0  1.0\n",
       "2     1.0   100.0     3.0  3.0   1.0    3.0    4.0  2.0\n",
       "3     1.0   500.0     3.0  3.0   2.0    3.0    4.0  2.0\n",
       "4     1.0    25.0  -999.0  3.0   2.0    3.0    3.0  1.0"
      ]
     },
     "execution_count": 4,
     "metadata": {},
     "output_type": "execute_result"
    }
   ],
   "source": [
    "df1.columns = ['paytax', 'amount', 'income', 'age', 'boat', 'relax', 'visit', 'env']\n",
    "df1.head()"
   ]
  },
  {
   "cell_type": "code",
   "execution_count": 5,
   "metadata": {},
   "outputs": [
    {
     "data": {
      "text/html": [
       "<div>\n",
       "<style>\n",
       "    .dataframe thead tr:only-child th {\n",
       "        text-align: right;\n",
       "    }\n",
       "\n",
       "    .dataframe thead th {\n",
       "        text-align: left;\n",
       "    }\n",
       "\n",
       "    .dataframe tbody tr th {\n",
       "        vertical-align: top;\n",
       "    }\n",
       "</style>\n",
       "<table border=\"1\" class=\"dataframe\">\n",
       "  <thead>\n",
       "    <tr style=\"text-align: right;\">\n",
       "      <th></th>\n",
       "      <th>paytax</th>\n",
       "      <th>amount</th>\n",
       "      <th>income</th>\n",
       "      <th>age</th>\n",
       "      <th>boat</th>\n",
       "      <th>relax</th>\n",
       "      <th>visit</th>\n",
       "      <th>env</th>\n",
       "    </tr>\n",
       "  </thead>\n",
       "  <tbody>\n",
       "    <tr>\n",
       "      <th>0</th>\n",
       "      <td>yes</td>\n",
       "      <td>50.0</td>\n",
       "      <td>0k-10k</td>\n",
       "      <td>16-24</td>\n",
       "      <td>no</td>\n",
       "      <td>often</td>\n",
       "      <td>worker</td>\n",
       "      <td>nonmember</td>\n",
       "    </tr>\n",
       "    <tr>\n",
       "      <th>1</th>\n",
       "      <td>no</td>\n",
       "      <td>0.0</td>\n",
       "      <td>30k-40k</td>\n",
       "      <td>45-64</td>\n",
       "      <td>no</td>\n",
       "      <td>sometimes</td>\n",
       "      <td>resident</td>\n",
       "      <td>nonmember</td>\n",
       "    </tr>\n",
       "    <tr>\n",
       "      <th>2</th>\n",
       "      <td>yes</td>\n",
       "      <td>100.0</td>\n",
       "      <td>20k-30k</td>\n",
       "      <td>45-64</td>\n",
       "      <td>no</td>\n",
       "      <td>often</td>\n",
       "      <td>worker</td>\n",
       "      <td>member</td>\n",
       "    </tr>\n",
       "    <tr>\n",
       "      <th>3</th>\n",
       "      <td>yes</td>\n",
       "      <td>500.0</td>\n",
       "      <td>20k-30k</td>\n",
       "      <td>45-64</td>\n",
       "      <td>yes</td>\n",
       "      <td>often</td>\n",
       "      <td>worker</td>\n",
       "      <td>member</td>\n",
       "    </tr>\n",
       "    <tr>\n",
       "      <th>4</th>\n",
       "      <td>yes</td>\n",
       "      <td>25.0</td>\n",
       "      <td>-999</td>\n",
       "      <td>45-64</td>\n",
       "      <td>yes</td>\n",
       "      <td>often</td>\n",
       "      <td>resident</td>\n",
       "      <td>nonmember</td>\n",
       "    </tr>\n",
       "  </tbody>\n",
       "</table>\n",
       "</div>"
      ],
      "text/plain": [
       "  paytax  amount   income    age boat      relax     visit        env\n",
       "0    yes    50.0   0k-10k  16-24   no      often    worker  nonmember\n",
       "1     no     0.0  30k-40k  45-64   no  sometimes  resident  nonmember\n",
       "2    yes   100.0  20k-30k  45-64   no      often    worker     member\n",
       "3    yes   500.0  20k-30k  45-64  yes      often    worker     member\n",
       "4    yes    25.0     -999  45-64  yes      often  resident  nonmember"
      ]
     },
     "execution_count": 5,
     "metadata": {},
     "output_type": "execute_result"
    }
   ],
   "source": [
    "df2 = pd.DataFrame.copy(df1)\n",
    "df2.paytax.replace([1, 2], ['yes', 'no'],  inplace=True)\n",
    "df2.income.replace([1, 2, 3, 4], ['0k-10k', '10k-20k', '20k-30k', '30k-40k'],  inplace=True)\n",
    "df2.age.replace([1, 2, 3, 4], ['16-24', '25-44', '45-64', '65+'],  inplace=True)\n",
    "df2.boat.replace([1, 2], ['no', 'yes'],  inplace=True)\n",
    "df2.relax.replace([1, 2, 3], ['never', 'sometimes', 'often'],  inplace=True)\n",
    "df2.visit.replace([1, 2, 3, 4], ['daytripper', 'onholiday', 'resident', 'worker'],  inplace=True)\n",
    "df2.env.replace([1, 2], ['nonmember', 'member'],  inplace=True)\n",
    "df2.head()"
   ]
  },
  {
   "cell_type": "code",
   "execution_count": 6,
   "metadata": {},
   "outputs": [
    {
     "data": {
      "text/html": [
       "<div>\n",
       "<style>\n",
       "    .dataframe thead tr:only-child th {\n",
       "        text-align: right;\n",
       "    }\n",
       "\n",
       "    .dataframe thead th {\n",
       "        text-align: left;\n",
       "    }\n",
       "\n",
       "    .dataframe tbody tr th {\n",
       "        vertical-align: top;\n",
       "    }\n",
       "</style>\n",
       "<table border=\"1\" class=\"dataframe\">\n",
       "  <thead>\n",
       "    <tr style=\"text-align: right;\">\n",
       "      <th></th>\n",
       "      <th>paytax</th>\n",
       "      <th>amount</th>\n",
       "      <th>income</th>\n",
       "      <th>age</th>\n",
       "      <th>boat</th>\n",
       "      <th>relax</th>\n",
       "      <th>visit</th>\n",
       "      <th>env</th>\n",
       "    </tr>\n",
       "  </thead>\n",
       "  <tbody>\n",
       "    <tr>\n",
       "      <th>28</th>\n",
       "      <td>1.0</td>\n",
       "      <td>75.0</td>\n",
       "      <td>NaN</td>\n",
       "      <td>2.0</td>\n",
       "      <td>1.0</td>\n",
       "      <td>3.0</td>\n",
       "      <td>3.0</td>\n",
       "      <td>2.0</td>\n",
       "    </tr>\n",
       "    <tr>\n",
       "      <th>29</th>\n",
       "      <td>2.0</td>\n",
       "      <td>0.0</td>\n",
       "      <td>1.0</td>\n",
       "      <td>2.0</td>\n",
       "      <td>2.0</td>\n",
       "      <td>3.0</td>\n",
       "      <td>3.0</td>\n",
       "      <td>1.0</td>\n",
       "    </tr>\n",
       "    <tr>\n",
       "      <th>30</th>\n",
       "      <td>1.0</td>\n",
       "      <td>0.0</td>\n",
       "      <td>2.0</td>\n",
       "      <td>4.0</td>\n",
       "      <td>2.0</td>\n",
       "      <td>3.0</td>\n",
       "      <td>3.0</td>\n",
       "      <td>1.0</td>\n",
       "    </tr>\n",
       "    <tr>\n",
       "      <th>31</th>\n",
       "      <td>2.0</td>\n",
       "      <td>0.0</td>\n",
       "      <td>4.0</td>\n",
       "      <td>2.0</td>\n",
       "      <td>1.0</td>\n",
       "      <td>3.0</td>\n",
       "      <td>3.0</td>\n",
       "      <td>1.0</td>\n",
       "    </tr>\n",
       "    <tr>\n",
       "      <th>32</th>\n",
       "      <td>1.0</td>\n",
       "      <td>25.0</td>\n",
       "      <td>3.0</td>\n",
       "      <td>2.0</td>\n",
       "      <td>2.0</td>\n",
       "      <td>3.0</td>\n",
       "      <td>3.0</td>\n",
       "      <td>1.0</td>\n",
       "    </tr>\n",
       "  </tbody>\n",
       "</table>\n",
       "</div>"
      ],
      "text/plain": [
       "    paytax  amount  income  age  boat  relax  visit  env\n",
       "28     1.0    75.0     NaN  2.0   1.0    3.0    3.0  2.0\n",
       "29     2.0     0.0     1.0  2.0   2.0    3.0    3.0  1.0\n",
       "30     1.0     0.0     2.0  4.0   2.0    3.0    3.0  1.0\n",
       "31     2.0     0.0     4.0  2.0   1.0    3.0    3.0  1.0\n",
       "32     1.0    25.0     3.0  2.0   2.0    3.0    3.0  1.0"
      ]
     },
     "execution_count": 6,
     "metadata": {},
     "output_type": "execute_result"
    }
   ],
   "source": [
    "df1 = df1.replace(-999.0, np.nan)\n",
    "df1[28:33]"
   ]
  },
  {
   "cell_type": "code",
   "execution_count": 7,
   "metadata": {},
   "outputs": [
    {
     "data": {
      "text/html": [
       "<div>\n",
       "<style>\n",
       "    .dataframe thead tr:only-child th {\n",
       "        text-align: right;\n",
       "    }\n",
       "\n",
       "    .dataframe thead th {\n",
       "        text-align: left;\n",
       "    }\n",
       "\n",
       "    .dataframe tbody tr th {\n",
       "        vertical-align: top;\n",
       "    }\n",
       "</style>\n",
       "<table border=\"1\" class=\"dataframe\">\n",
       "  <thead>\n",
       "    <tr style=\"text-align: right;\">\n",
       "      <th></th>\n",
       "      <th>paytax</th>\n",
       "      <th>amount</th>\n",
       "      <th>income</th>\n",
       "      <th>age</th>\n",
       "      <th>boat</th>\n",
       "      <th>relax</th>\n",
       "      <th>visit</th>\n",
       "      <th>env</th>\n",
       "    </tr>\n",
       "  </thead>\n",
       "  <tbody>\n",
       "    <tr>\n",
       "      <th>28</th>\n",
       "      <td>yes</td>\n",
       "      <td>75.0</td>\n",
       "      <td>NaN</td>\n",
       "      <td>25-44</td>\n",
       "      <td>no</td>\n",
       "      <td>often</td>\n",
       "      <td>resident</td>\n",
       "      <td>member</td>\n",
       "    </tr>\n",
       "    <tr>\n",
       "      <th>29</th>\n",
       "      <td>no</td>\n",
       "      <td>0.0</td>\n",
       "      <td>0k-10k</td>\n",
       "      <td>25-44</td>\n",
       "      <td>yes</td>\n",
       "      <td>often</td>\n",
       "      <td>resident</td>\n",
       "      <td>nonmember</td>\n",
       "    </tr>\n",
       "    <tr>\n",
       "      <th>30</th>\n",
       "      <td>yes</td>\n",
       "      <td>0.0</td>\n",
       "      <td>10k-20k</td>\n",
       "      <td>65+</td>\n",
       "      <td>yes</td>\n",
       "      <td>often</td>\n",
       "      <td>resident</td>\n",
       "      <td>nonmember</td>\n",
       "    </tr>\n",
       "    <tr>\n",
       "      <th>31</th>\n",
       "      <td>no</td>\n",
       "      <td>0.0</td>\n",
       "      <td>30k-40k</td>\n",
       "      <td>25-44</td>\n",
       "      <td>no</td>\n",
       "      <td>often</td>\n",
       "      <td>resident</td>\n",
       "      <td>nonmember</td>\n",
       "    </tr>\n",
       "    <tr>\n",
       "      <th>32</th>\n",
       "      <td>yes</td>\n",
       "      <td>25.0</td>\n",
       "      <td>20k-30k</td>\n",
       "      <td>25-44</td>\n",
       "      <td>yes</td>\n",
       "      <td>often</td>\n",
       "      <td>resident</td>\n",
       "      <td>nonmember</td>\n",
       "    </tr>\n",
       "  </tbody>\n",
       "</table>\n",
       "</div>"
      ],
      "text/plain": [
       "   paytax  amount   income    age boat  relax     visit        env\n",
       "28    yes    75.0      NaN  25-44   no  often  resident     member\n",
       "29     no     0.0   0k-10k  25-44  yes  often  resident  nonmember\n",
       "30    yes     0.0  10k-20k    65+  yes  often  resident  nonmember\n",
       "31     no     0.0  30k-40k  25-44   no  often  resident  nonmember\n",
       "32    yes    25.0  20k-30k  25-44  yes  often  resident  nonmember"
      ]
     },
     "execution_count": 7,
     "metadata": {},
     "output_type": "execute_result"
    }
   ],
   "source": [
    "df2 = df2.replace(-999.0, np.nan)\n",
    "df2[28:33]"
   ]
  },
  {
   "cell_type": "code",
   "execution_count": 8,
   "metadata": {
    "collapsed": true
   },
   "outputs": [],
   "source": [
    "#8_1"
   ]
  },
  {
   "cell_type": "code",
   "execution_count": 66,
   "metadata": {
    "collapsed": true
   },
   "outputs": [],
   "source": [
    "#len(df2[df2['paytax']!=np.isnumeric()])"
   ]
  },
  {
   "cell_type": "code",
   "execution_count": 10,
   "metadata": {},
   "outputs": [
    {
     "data": {
      "text/plain": [
       "85.26682134570765"
      ]
     },
     "execution_count": 10,
     "metadata": {},
     "output_type": "execute_result"
    }
   ],
   "source": [
    "len(df2[df2['paytax']=='yes']) / len(df2) * 100"
   ]
  },
  {
   "cell_type": "code",
   "execution_count": 11,
   "metadata": {
    "collapsed": true
   },
   "outputs": [],
   "source": [
    "#8_2"
   ]
  },
  {
   "cell_type": "code",
   "execution_count": 12,
   "metadata": {},
   "outputs": [
    {
     "data": {
      "text/html": [
       "<div>\n",
       "<style>\n",
       "    .dataframe thead tr:only-child th {\n",
       "        text-align: right;\n",
       "    }\n",
       "\n",
       "    .dataframe thead th {\n",
       "        text-align: left;\n",
       "    }\n",
       "\n",
       "    .dataframe tbody tr th {\n",
       "        vertical-align: top;\n",
       "    }\n",
       "</style>\n",
       "<table border=\"1\" class=\"dataframe\">\n",
       "  <thead>\n",
       "    <tr style=\"text-align: right;\">\n",
       "      <th>income</th>\n",
       "      <th>0k-10k</th>\n",
       "      <th>10k-20k</th>\n",
       "      <th>20k-30k</th>\n",
       "      <th>30k-40k</th>\n",
       "      <th>All</th>\n",
       "    </tr>\n",
       "    <tr>\n",
       "      <th>paytax</th>\n",
       "      <th></th>\n",
       "      <th></th>\n",
       "      <th></th>\n",
       "      <th></th>\n",
       "      <th></th>\n",
       "    </tr>\n",
       "  </thead>\n",
       "  <tbody>\n",
       "    <tr>\n",
       "      <th>no</th>\n",
       "      <td>21</td>\n",
       "      <td>38</td>\n",
       "      <td>28</td>\n",
       "      <td>24</td>\n",
       "      <td>111</td>\n",
       "    </tr>\n",
       "    <tr>\n",
       "      <th>yes</th>\n",
       "      <td>121</td>\n",
       "      <td>230</td>\n",
       "      <td>190</td>\n",
       "      <td>157</td>\n",
       "      <td>698</td>\n",
       "    </tr>\n",
       "    <tr>\n",
       "      <th>All</th>\n",
       "      <td>142</td>\n",
       "      <td>268</td>\n",
       "      <td>218</td>\n",
       "      <td>181</td>\n",
       "      <td>809</td>\n",
       "    </tr>\n",
       "  </tbody>\n",
       "</table>\n",
       "</div>"
      ],
      "text/plain": [
       "income  0k-10k  10k-20k  20k-30k  30k-40k  All\n",
       "paytax                                        \n",
       "no          21       38       28       24  111\n",
       "yes        121      230      190      157  698\n",
       "All        142      268      218      181  809"
      ]
     },
     "execution_count": 12,
     "metadata": {},
     "output_type": "execute_result"
    }
   ],
   "source": [
    "ct1 = pd.crosstab(df2.paytax, df2.income, rownames=['paytax'], colnames=['income'], margins=True, dropna=True)\n",
    "ct1"
   ]
  },
  {
   "cell_type": "code",
   "execution_count": 13,
   "metadata": {},
   "outputs": [
    {
     "data": {
      "text/html": [
       "<div>\n",
       "<style>\n",
       "    .dataframe thead tr:only-child th {\n",
       "        text-align: right;\n",
       "    }\n",
       "\n",
       "    .dataframe thead th {\n",
       "        text-align: left;\n",
       "    }\n",
       "\n",
       "    .dataframe tbody tr th {\n",
       "        vertical-align: top;\n",
       "    }\n",
       "</style>\n",
       "<table border=\"1\" class=\"dataframe\">\n",
       "  <thead>\n",
       "    <tr style=\"text-align: right;\">\n",
       "      <th>income</th>\n",
       "      <th>0k-10k</th>\n",
       "      <th>10k-20k</th>\n",
       "      <th>20k-30k</th>\n",
       "      <th>30k-40k</th>\n",
       "      <th>All</th>\n",
       "    </tr>\n",
       "    <tr>\n",
       "      <th>paytax</th>\n",
       "      <th></th>\n",
       "      <th></th>\n",
       "      <th></th>\n",
       "      <th></th>\n",
       "      <th></th>\n",
       "    </tr>\n",
       "  </thead>\n",
       "  <tbody>\n",
       "    <tr>\n",
       "      <th>no</th>\n",
       "      <td>0.147887</td>\n",
       "      <td>0.141791</td>\n",
       "      <td>0.12844</td>\n",
       "      <td>0.132597</td>\n",
       "      <td>0.137206</td>\n",
       "    </tr>\n",
       "    <tr>\n",
       "      <th>yes</th>\n",
       "      <td>0.852113</td>\n",
       "      <td>0.858209</td>\n",
       "      <td>0.87156</td>\n",
       "      <td>0.867403</td>\n",
       "      <td>0.862794</td>\n",
       "    </tr>\n",
       "  </tbody>\n",
       "</table>\n",
       "</div>"
      ],
      "text/plain": [
       "income    0k-10k   10k-20k  20k-30k   30k-40k       All\n",
       "paytax                                                 \n",
       "no      0.147887  0.141791  0.12844  0.132597  0.137206\n",
       "yes     0.852113  0.858209  0.87156  0.867403  0.862794"
      ]
     },
     "execution_count": 13,
     "metadata": {},
     "output_type": "execute_result"
    }
   ],
   "source": [
    "ct2 = pd.crosstab(df2.paytax, df2.income, rownames=['paytax'], colnames=['income'], \\\n",
    "                  margins=True, dropna=True, normalize='columns')\n",
    "ct2"
   ]
  },
  {
   "cell_type": "code",
   "execution_count": 14,
   "metadata": {
    "collapsed": true
   },
   "outputs": [],
   "source": [
    "#8_3"
   ]
  },
  {
   "cell_type": "code",
   "execution_count": 15,
   "metadata": {},
   "outputs": [
    {
     "data": {
      "text/plain": [
       "array([[ 21,  38,  28,  24],\n",
       "       [121, 230, 190, 157]])"
      ]
     },
     "execution_count": 15,
     "metadata": {},
     "output_type": "execute_result"
    }
   ],
   "source": [
    "arr1 = np.array(ct1)\n",
    "arr1_row1 = arr1[0][0:4]\n",
    "arr1_row2 = arr1[1][0:4]\n",
    "arr1 = np.vstack((arr1_row1, arr1_row2)) \n",
    "arr1"
   ]
  },
  {
   "cell_type": "code",
   "execution_count": 16,
   "metadata": {},
   "outputs": [
    {
     "name": "stdout",
     "output_type": "stream",
     "text": [
      "Pearson Chi-Square\n",
      "0.358425855723\n",
      "p\n",
      "0.948690264543\n",
      "dof\n",
      "3\n",
      "expected\n",
      "[[  19.48331273   36.77132262   29.91100124   24.83436341]\n",
      " [ 122.51668727  231.22867738  188.08899876  156.16563659]]\n"
     ]
    }
   ],
   "source": [
    "chi2, p, dof, expected = stats.chi2_contingency(observed=arr1, correction=True, lambda_=None)\n",
    "print('Pearson Chi-Square')\n",
    "print(chi2)\n",
    "print('p')\n",
    "print(p)\n",
    "print('dof')\n",
    "print(dof)\n",
    "print('expected')\n",
    "print(expected)"
   ]
  },
  {
   "cell_type": "code",
   "execution_count": 17,
   "metadata": {
    "collapsed": true
   },
   "outputs": [],
   "source": [
    "#8_4"
   ]
  },
  {
   "cell_type": "code",
   "execution_count": 18,
   "metadata": {},
   "outputs": [
    {
     "data": {
      "text/html": [
       "<div>\n",
       "<style>\n",
       "    .dataframe thead tr:only-child th {\n",
       "        text-align: right;\n",
       "    }\n",
       "\n",
       "    .dataframe thead th {\n",
       "        text-align: left;\n",
       "    }\n",
       "\n",
       "    .dataframe tbody tr th {\n",
       "        vertical-align: top;\n",
       "    }\n",
       "</style>\n",
       "<table border=\"1\" class=\"dataframe\">\n",
       "  <thead>\n",
       "    <tr style=\"text-align: right;\">\n",
       "      <th>visit</th>\n",
       "      <th>daytripper</th>\n",
       "      <th>onholiday</th>\n",
       "      <th>resident</th>\n",
       "      <th>worker</th>\n",
       "      <th>All</th>\n",
       "    </tr>\n",
       "    <tr>\n",
       "      <th>paytax</th>\n",
       "      <th></th>\n",
       "      <th></th>\n",
       "      <th></th>\n",
       "      <th></th>\n",
       "      <th></th>\n",
       "    </tr>\n",
       "  </thead>\n",
       "  <tbody>\n",
       "    <tr>\n",
       "      <th>no</th>\n",
       "      <td>34</td>\n",
       "      <td>66</td>\n",
       "      <td>19</td>\n",
       "      <td>0</td>\n",
       "      <td>119</td>\n",
       "    </tr>\n",
       "    <tr>\n",
       "      <th>yes</th>\n",
       "      <td>149</td>\n",
       "      <td>447</td>\n",
       "      <td>132</td>\n",
       "      <td>5</td>\n",
       "      <td>733</td>\n",
       "    </tr>\n",
       "    <tr>\n",
       "      <th>All</th>\n",
       "      <td>183</td>\n",
       "      <td>513</td>\n",
       "      <td>151</td>\n",
       "      <td>5</td>\n",
       "      <td>852</td>\n",
       "    </tr>\n",
       "  </tbody>\n",
       "</table>\n",
       "</div>"
      ],
      "text/plain": [
       "visit   daytripper  onholiday  resident  worker  All\n",
       "paytax                                              \n",
       "no              34         66        19       0  119\n",
       "yes            149        447       132       5  733\n",
       "All            183        513       151       5  852"
      ]
     },
     "execution_count": 18,
     "metadata": {},
     "output_type": "execute_result"
    }
   ],
   "source": [
    "ct3 = pd.crosstab(df2.paytax, df2.visit, rownames=['paytax'], colnames=['visit'], margins=True, dropna=True)\n",
    "ct3"
   ]
  },
  {
   "cell_type": "code",
   "execution_count": 19,
   "metadata": {},
   "outputs": [
    {
     "data": {
      "text/html": [
       "<div>\n",
       "<style>\n",
       "    .dataframe thead tr:only-child th {\n",
       "        text-align: right;\n",
       "    }\n",
       "\n",
       "    .dataframe thead th {\n",
       "        text-align: left;\n",
       "    }\n",
       "\n",
       "    .dataframe tbody tr th {\n",
       "        vertical-align: top;\n",
       "    }\n",
       "</style>\n",
       "<table border=\"1\" class=\"dataframe\">\n",
       "  <thead>\n",
       "    <tr style=\"text-align: right;\">\n",
       "      <th>visit</th>\n",
       "      <th>daytripper</th>\n",
       "      <th>onholiday</th>\n",
       "      <th>resident</th>\n",
       "      <th>worker</th>\n",
       "      <th>All</th>\n",
       "    </tr>\n",
       "    <tr>\n",
       "      <th>paytax</th>\n",
       "      <th></th>\n",
       "      <th></th>\n",
       "      <th></th>\n",
       "      <th></th>\n",
       "      <th></th>\n",
       "    </tr>\n",
       "  </thead>\n",
       "  <tbody>\n",
       "    <tr>\n",
       "      <th>no</th>\n",
       "      <td>0.185792</td>\n",
       "      <td>0.128655</td>\n",
       "      <td>0.125828</td>\n",
       "      <td>0.0</td>\n",
       "      <td>0.139671</td>\n",
       "    </tr>\n",
       "    <tr>\n",
       "      <th>yes</th>\n",
       "      <td>0.814208</td>\n",
       "      <td>0.871345</td>\n",
       "      <td>0.874172</td>\n",
       "      <td>1.0</td>\n",
       "      <td>0.860329</td>\n",
       "    </tr>\n",
       "  </tbody>\n",
       "</table>\n",
       "</div>"
      ],
      "text/plain": [
       "visit   daytripper  onholiday  resident  worker       All\n",
       "paytax                                                   \n",
       "no        0.185792   0.128655  0.125828     0.0  0.139671\n",
       "yes       0.814208   0.871345  0.874172     1.0  0.860329"
      ]
     },
     "execution_count": 19,
     "metadata": {},
     "output_type": "execute_result"
    }
   ],
   "source": [
    "ct4 = pd.crosstab(df2.paytax, df2.visit, rownames=['paytax'], colnames=['visit'], \\\n",
    "                  margins=True, dropna=True, normalize='columns')\n",
    "ct4"
   ]
  },
  {
   "cell_type": "code",
   "execution_count": 20,
   "metadata": {},
   "outputs": [
    {
     "data": {
      "text/plain": [
       "array([[ 34,  66,  19,   0],\n",
       "       [149, 447, 132,   5]])"
      ]
     },
     "execution_count": 20,
     "metadata": {},
     "output_type": "execute_result"
    }
   ],
   "source": [
    "arr3 = np.array(ct3)\n",
    "arr3_row1 = arr3[0][0:4]\n",
    "arr3_row2 = arr3[1][0:4]\n",
    "arr3 = np.vstack((arr3_row1, arr3_row2)) \n",
    "arr3"
   ]
  },
  {
   "cell_type": "code",
   "execution_count": 21,
   "metadata": {},
   "outputs": [
    {
     "name": "stdout",
     "output_type": "stream",
     "text": [
      "Pearson Chi-Square\n",
      "4.81015877787\n",
      "p\n",
      "0.18623786685\n",
      "dof\n",
      "3\n",
      "expected\n",
      "[[  25.55985915   71.65140845   21.09037559    0.69835681]\n",
      " [ 157.44014085  441.34859155  129.90962441    4.30164319]]\n"
     ]
    }
   ],
   "source": [
    "chi2, p, dof, expected = stats.chi2_contingency(observed=arr3, correction=True, lambda_=None)\n",
    "print('Pearson Chi-Square')\n",
    "print(chi2)\n",
    "print('p')\n",
    "print(p)\n",
    "print('dof')\n",
    "print(dof)\n",
    "print('expected')\n",
    "print(expected)"
   ]
  },
  {
   "cell_type": "code",
   "execution_count": 22,
   "metadata": {
    "collapsed": true
   },
   "outputs": [],
   "source": [
    "#8_5"
   ]
  },
  {
   "cell_type": "code",
   "execution_count": 23,
   "metadata": {},
   "outputs": [
    {
     "data": {
      "text/html": [
       "<div>\n",
       "<style>\n",
       "    .dataframe thead tr:only-child th {\n",
       "        text-align: right;\n",
       "    }\n",
       "\n",
       "    .dataframe thead th {\n",
       "        text-align: left;\n",
       "    }\n",
       "\n",
       "    .dataframe tbody tr th {\n",
       "        vertical-align: top;\n",
       "    }\n",
       "</style>\n",
       "<table border=\"1\" class=\"dataframe\">\n",
       "  <thead>\n",
       "    <tr style=\"text-align: right;\">\n",
       "      <th></th>\n",
       "      <th>paytax</th>\n",
       "      <th>amount</th>\n",
       "      <th>income</th>\n",
       "      <th>age</th>\n",
       "      <th>boat</th>\n",
       "      <th>relax</th>\n",
       "      <th>visit</th>\n",
       "      <th>env</th>\n",
       "    </tr>\n",
       "  </thead>\n",
       "  <tbody>\n",
       "    <tr>\n",
       "      <th>0</th>\n",
       "      <td>1.0</td>\n",
       "      <td>50.0</td>\n",
       "      <td>1.0</td>\n",
       "      <td>1.0</td>\n",
       "      <td>1.0</td>\n",
       "      <td>3.0</td>\n",
       "      <td>3.0</td>\n",
       "      <td>1.0</td>\n",
       "    </tr>\n",
       "    <tr>\n",
       "      <th>1</th>\n",
       "      <td>2.0</td>\n",
       "      <td>0.0</td>\n",
       "      <td>4.0</td>\n",
       "      <td>3.0</td>\n",
       "      <td>1.0</td>\n",
       "      <td>2.0</td>\n",
       "      <td>3.0</td>\n",
       "      <td>1.0</td>\n",
       "    </tr>\n",
       "    <tr>\n",
       "      <th>2</th>\n",
       "      <td>1.0</td>\n",
       "      <td>100.0</td>\n",
       "      <td>3.0</td>\n",
       "      <td>3.0</td>\n",
       "      <td>1.0</td>\n",
       "      <td>3.0</td>\n",
       "      <td>3.0</td>\n",
       "      <td>2.0</td>\n",
       "    </tr>\n",
       "    <tr>\n",
       "      <th>3</th>\n",
       "      <td>1.0</td>\n",
       "      <td>500.0</td>\n",
       "      <td>3.0</td>\n",
       "      <td>3.0</td>\n",
       "      <td>2.0</td>\n",
       "      <td>3.0</td>\n",
       "      <td>3.0</td>\n",
       "      <td>2.0</td>\n",
       "    </tr>\n",
       "    <tr>\n",
       "      <th>4</th>\n",
       "      <td>1.0</td>\n",
       "      <td>25.0</td>\n",
       "      <td>NaN</td>\n",
       "      <td>3.0</td>\n",
       "      <td>2.0</td>\n",
       "      <td>3.0</td>\n",
       "      <td>3.0</td>\n",
       "      <td>1.0</td>\n",
       "    </tr>\n",
       "  </tbody>\n",
       "</table>\n",
       "</div>"
      ],
      "text/plain": [
       "   paytax  amount  income  age  boat  relax  visit  env\n",
       "0     1.0    50.0     1.0  1.0   1.0    3.0    3.0  1.0\n",
       "1     2.0     0.0     4.0  3.0   1.0    2.0    3.0  1.0\n",
       "2     1.0   100.0     3.0  3.0   1.0    3.0    3.0  2.0\n",
       "3     1.0   500.0     3.0  3.0   2.0    3.0    3.0  2.0\n",
       "4     1.0    25.0     NaN  3.0   2.0    3.0    3.0  1.0"
      ]
     },
     "execution_count": 23,
     "metadata": {},
     "output_type": "execute_result"
    }
   ],
   "source": [
    "df3 = pd.DataFrame.copy(df1)\n",
    "df3.visit[df3.visit == 3] = 3\n",
    "df3.visit[df3.visit == 4] = 3\n",
    "df3.head()"
   ]
  },
  {
   "cell_type": "code",
   "execution_count": 24,
   "metadata": {},
   "outputs": [
    {
     "name": "stderr",
     "output_type": "stream",
     "text": [
      "/Users/markprosser/anaconda/lib/python3.5/site-packages/ipykernel/__main__.py:2: SettingWithCopyWarning: \n",
      "A value is trying to be set on a copy of a slice from a DataFrame\n",
      "\n",
      "See the caveats in the documentation: http://pandas.pydata.org/pandas-docs/stable/indexing.html#indexing-view-versus-copy\n",
      "  from ipykernel import kernelapp as app\n",
      "/Users/markprosser/anaconda/lib/python3.5/site-packages/ipykernel/__main__.py:3: SettingWithCopyWarning: \n",
      "A value is trying to be set on a copy of a slice from a DataFrame\n",
      "\n",
      "See the caveats in the documentation: http://pandas.pydata.org/pandas-docs/stable/indexing.html#indexing-view-versus-copy\n",
      "  app.launch_new_instance()\n"
     ]
    },
    {
     "data": {
      "text/html": [
       "<div>\n",
       "<style>\n",
       "    .dataframe thead tr:only-child th {\n",
       "        text-align: right;\n",
       "    }\n",
       "\n",
       "    .dataframe thead th {\n",
       "        text-align: left;\n",
       "    }\n",
       "\n",
       "    .dataframe tbody tr th {\n",
       "        vertical-align: top;\n",
       "    }\n",
       "</style>\n",
       "<table border=\"1\" class=\"dataframe\">\n",
       "  <thead>\n",
       "    <tr style=\"text-align: right;\">\n",
       "      <th></th>\n",
       "      <th>paytax</th>\n",
       "      <th>amount</th>\n",
       "      <th>income</th>\n",
       "      <th>age</th>\n",
       "      <th>boat</th>\n",
       "      <th>relax</th>\n",
       "      <th>visit</th>\n",
       "      <th>env</th>\n",
       "    </tr>\n",
       "  </thead>\n",
       "  <tbody>\n",
       "    <tr>\n",
       "      <th>857</th>\n",
       "      <td>yes</td>\n",
       "      <td>10.0</td>\n",
       "      <td>10k-20k</td>\n",
       "      <td>25-44</td>\n",
       "      <td>NaN</td>\n",
       "      <td>NaN</td>\n",
       "      <td>daytripper</td>\n",
       "      <td>nonmember</td>\n",
       "    </tr>\n",
       "    <tr>\n",
       "      <th>858</th>\n",
       "      <td>no</td>\n",
       "      <td>0.0</td>\n",
       "      <td>0k-10k</td>\n",
       "      <td>16-24</td>\n",
       "      <td>no</td>\n",
       "      <td>sometimes</td>\n",
       "      <td>daytripper</td>\n",
       "      <td>nonmember</td>\n",
       "    </tr>\n",
       "    <tr>\n",
       "      <th>859</th>\n",
       "      <td>yes</td>\n",
       "      <td>52.0</td>\n",
       "      <td>NaN</td>\n",
       "      <td>65+</td>\n",
       "      <td>no</td>\n",
       "      <td>sometimes</td>\n",
       "      <td>daytripper</td>\n",
       "      <td>nonmember</td>\n",
       "    </tr>\n",
       "    <tr>\n",
       "      <th>860</th>\n",
       "      <td>yes</td>\n",
       "      <td>260.0</td>\n",
       "      <td>0k-10k</td>\n",
       "      <td>25-44</td>\n",
       "      <td>yes</td>\n",
       "      <td>often</td>\n",
       "      <td>NaN</td>\n",
       "      <td>member</td>\n",
       "    </tr>\n",
       "    <tr>\n",
       "      <th>861</th>\n",
       "      <td>yes</td>\n",
       "      <td>2.0</td>\n",
       "      <td>10k-20k</td>\n",
       "      <td>25-44</td>\n",
       "      <td>no</td>\n",
       "      <td>sometimes</td>\n",
       "      <td>NaN</td>\n",
       "      <td>member</td>\n",
       "    </tr>\n",
       "  </tbody>\n",
       "</table>\n",
       "</div>"
      ],
      "text/plain": [
       "    paytax  amount   income    age boat      relax       visit        env\n",
       "857    yes    10.0  10k-20k  25-44  NaN        NaN  daytripper  nonmember\n",
       "858     no     0.0   0k-10k  16-24   no  sometimes  daytripper  nonmember\n",
       "859    yes    52.0      NaN    65+   no  sometimes  daytripper  nonmember\n",
       "860    yes   260.0   0k-10k  25-44  yes      often         NaN     member\n",
       "861    yes     2.0  10k-20k  25-44   no  sometimes         NaN     member"
      ]
     },
     "execution_count": 24,
     "metadata": {},
     "output_type": "execute_result"
    }
   ],
   "source": [
    "df4 = pd.DataFrame.copy(df2)\n",
    "df4.visit[df4.visit == 'resident'] = 'res/work'\n",
    "df4.visit[df4.visit == 'worker'] = 'res/work'\n",
    "df4.tail()"
   ]
  },
  {
   "cell_type": "code",
   "execution_count": 25,
   "metadata": {},
   "outputs": [
    {
     "data": {
      "text/html": [
       "<div>\n",
       "<style>\n",
       "    .dataframe thead tr:only-child th {\n",
       "        text-align: right;\n",
       "    }\n",
       "\n",
       "    .dataframe thead th {\n",
       "        text-align: left;\n",
       "    }\n",
       "\n",
       "    .dataframe tbody tr th {\n",
       "        vertical-align: top;\n",
       "    }\n",
       "</style>\n",
       "<table border=\"1\" class=\"dataframe\">\n",
       "  <thead>\n",
       "    <tr style=\"text-align: right;\">\n",
       "      <th>visit</th>\n",
       "      <th>daytripper</th>\n",
       "      <th>onholiday</th>\n",
       "      <th>res/work</th>\n",
       "      <th>All</th>\n",
       "    </tr>\n",
       "    <tr>\n",
       "      <th>paytax</th>\n",
       "      <th></th>\n",
       "      <th></th>\n",
       "      <th></th>\n",
       "      <th></th>\n",
       "    </tr>\n",
       "  </thead>\n",
       "  <tbody>\n",
       "    <tr>\n",
       "      <th>no</th>\n",
       "      <td>34</td>\n",
       "      <td>66</td>\n",
       "      <td>19</td>\n",
       "      <td>119</td>\n",
       "    </tr>\n",
       "    <tr>\n",
       "      <th>yes</th>\n",
       "      <td>149</td>\n",
       "      <td>447</td>\n",
       "      <td>137</td>\n",
       "      <td>733</td>\n",
       "    </tr>\n",
       "    <tr>\n",
       "      <th>All</th>\n",
       "      <td>183</td>\n",
       "      <td>513</td>\n",
       "      <td>156</td>\n",
       "      <td>852</td>\n",
       "    </tr>\n",
       "  </tbody>\n",
       "</table>\n",
       "</div>"
      ],
      "text/plain": [
       "visit   daytripper  onholiday  res/work  All\n",
       "paytax                                      \n",
       "no              34         66        19  119\n",
       "yes            149        447       137  733\n",
       "All            183        513       156  852"
      ]
     },
     "execution_count": 25,
     "metadata": {},
     "output_type": "execute_result"
    }
   ],
   "source": [
    "ct5 = pd.crosstab(df4.paytax, df4.visit, rownames=['paytax'], colnames=['visit'], margins=True, dropna=True)\n",
    "ct5"
   ]
  },
  {
   "cell_type": "code",
   "execution_count": 26,
   "metadata": {},
   "outputs": [
    {
     "data": {
      "text/html": [
       "<div>\n",
       "<style>\n",
       "    .dataframe thead tr:only-child th {\n",
       "        text-align: right;\n",
       "    }\n",
       "\n",
       "    .dataframe thead th {\n",
       "        text-align: left;\n",
       "    }\n",
       "\n",
       "    .dataframe tbody tr th {\n",
       "        vertical-align: top;\n",
       "    }\n",
       "</style>\n",
       "<table border=\"1\" class=\"dataframe\">\n",
       "  <thead>\n",
       "    <tr style=\"text-align: right;\">\n",
       "      <th>visit</th>\n",
       "      <th>daytripper</th>\n",
       "      <th>onholiday</th>\n",
       "      <th>res/work</th>\n",
       "      <th>All</th>\n",
       "    </tr>\n",
       "    <tr>\n",
       "      <th>paytax</th>\n",
       "      <th></th>\n",
       "      <th></th>\n",
       "      <th></th>\n",
       "      <th></th>\n",
       "    </tr>\n",
       "  </thead>\n",
       "  <tbody>\n",
       "    <tr>\n",
       "      <th>no</th>\n",
       "      <td>0.185792</td>\n",
       "      <td>0.128655</td>\n",
       "      <td>0.121795</td>\n",
       "      <td>0.139671</td>\n",
       "    </tr>\n",
       "    <tr>\n",
       "      <th>yes</th>\n",
       "      <td>0.814208</td>\n",
       "      <td>0.871345</td>\n",
       "      <td>0.878205</td>\n",
       "      <td>0.860329</td>\n",
       "    </tr>\n",
       "  </tbody>\n",
       "</table>\n",
       "</div>"
      ],
      "text/plain": [
       "visit   daytripper  onholiday  res/work       All\n",
       "paytax                                           \n",
       "no        0.185792   0.128655  0.121795  0.139671\n",
       "yes       0.814208   0.871345  0.878205  0.860329"
      ]
     },
     "execution_count": 26,
     "metadata": {},
     "output_type": "execute_result"
    }
   ],
   "source": [
    "ct6 = pd.crosstab(df4.paytax, df4.visit, rownames=['paytax'], colnames=['visit'], \\\n",
    "                  margins=True, dropna=True, normalize='columns')\n",
    "ct6"
   ]
  },
  {
   "cell_type": "code",
   "execution_count": 27,
   "metadata": {},
   "outputs": [
    {
     "data": {
      "text/plain": [
       "array([[ 34,  66,  19],\n",
       "       [149, 447, 132]])"
      ]
     },
     "execution_count": 27,
     "metadata": {},
     "output_type": "execute_result"
    }
   ],
   "source": [
    "arr5 = np.array(ct5)\n",
    "arr5_row1 = arr3[0][0:3]\n",
    "arr5_row2 = arr3[1][0:3]\n",
    "arr5 = np.vstack((arr5_row1, arr5_row2)) \n",
    "arr5"
   ]
  },
  {
   "cell_type": "code",
   "execution_count": 28,
   "metadata": {},
   "outputs": [
    {
     "name": "stdout",
     "output_type": "stream",
     "text": [
      "Pearson Chi-Square\n",
      "3.97400607719\n",
      "p\n",
      "0.137105710858\n",
      "dof\n",
      "2\n",
      "expected\n",
      "[[  25.7107438    72.07438017   21.21487603]\n",
      " [ 157.2892562   440.92561983  129.78512397]]\n"
     ]
    }
   ],
   "source": [
    "chi2, p, dof, expected = stats.chi2_contingency(observed=arr5, correction=True, lambda_=None)\n",
    "print('Pearson Chi-Square')\n",
    "print(chi2)\n",
    "print('p')\n",
    "print(p)\n",
    "print('dof')\n",
    "print(dof)\n",
    "print('expected')\n",
    "print(expected)"
   ]
  },
  {
   "cell_type": "code",
   "execution_count": 29,
   "metadata": {
    "collapsed": true
   },
   "outputs": [],
   "source": [
    "#8_7"
   ]
  },
  {
   "cell_type": "code",
   "execution_count": 30,
   "metadata": {},
   "outputs": [
    {
     "data": {
      "text/html": [
       "<div>\n",
       "<style>\n",
       "    .dataframe thead tr:only-child th {\n",
       "        text-align: right;\n",
       "    }\n",
       "\n",
       "    .dataframe thead th {\n",
       "        text-align: left;\n",
       "    }\n",
       "\n",
       "    .dataframe tbody tr th {\n",
       "        vertical-align: top;\n",
       "    }\n",
       "</style>\n",
       "<table border=\"1\" class=\"dataframe\">\n",
       "  <thead>\n",
       "    <tr style=\"text-align: right;\">\n",
       "      <th>env</th>\n",
       "      <th>member</th>\n",
       "      <th>nonmember</th>\n",
       "      <th>All</th>\n",
       "    </tr>\n",
       "    <tr>\n",
       "      <th>paytax</th>\n",
       "      <th></th>\n",
       "      <th></th>\n",
       "      <th></th>\n",
       "    </tr>\n",
       "  </thead>\n",
       "  <tbody>\n",
       "    <tr>\n",
       "      <th>no</th>\n",
       "      <td>35</td>\n",
       "      <td>84</td>\n",
       "      <td>119</td>\n",
       "    </tr>\n",
       "    <tr>\n",
       "      <th>yes</th>\n",
       "      <td>330</td>\n",
       "      <td>405</td>\n",
       "      <td>735</td>\n",
       "    </tr>\n",
       "    <tr>\n",
       "      <th>All</th>\n",
       "      <td>365</td>\n",
       "      <td>489</td>\n",
       "      <td>854</td>\n",
       "    </tr>\n",
       "  </tbody>\n",
       "</table>\n",
       "</div>"
      ],
      "text/plain": [
       "env     member  nonmember  All\n",
       "paytax                        \n",
       "no          35         84  119\n",
       "yes        330        405  735\n",
       "All        365        489  854"
      ]
     },
     "execution_count": 30,
     "metadata": {},
     "output_type": "execute_result"
    }
   ],
   "source": [
    "ct7 = pd.crosstab(df2.paytax, df2.env, rownames=['paytax'], colnames=['env'], margins=True, dropna=True)\n",
    "ct7"
   ]
  },
  {
   "cell_type": "code",
   "execution_count": 31,
   "metadata": {},
   "outputs": [
    {
     "data": {
      "text/html": [
       "<div>\n",
       "<style>\n",
       "    .dataframe thead tr:only-child th {\n",
       "        text-align: right;\n",
       "    }\n",
       "\n",
       "    .dataframe thead th {\n",
       "        text-align: left;\n",
       "    }\n",
       "\n",
       "    .dataframe tbody tr th {\n",
       "        vertical-align: top;\n",
       "    }\n",
       "</style>\n",
       "<table border=\"1\" class=\"dataframe\">\n",
       "  <thead>\n",
       "    <tr style=\"text-align: right;\">\n",
       "      <th>env</th>\n",
       "      <th>member</th>\n",
       "      <th>nonmember</th>\n",
       "      <th>All</th>\n",
       "    </tr>\n",
       "    <tr>\n",
       "      <th>paytax</th>\n",
       "      <th></th>\n",
       "      <th></th>\n",
       "      <th></th>\n",
       "    </tr>\n",
       "  </thead>\n",
       "  <tbody>\n",
       "    <tr>\n",
       "      <th>no</th>\n",
       "      <td>0.09589</td>\n",
       "      <td>0.171779</td>\n",
       "      <td>0.139344</td>\n",
       "    </tr>\n",
       "    <tr>\n",
       "      <th>yes</th>\n",
       "      <td>0.90411</td>\n",
       "      <td>0.828221</td>\n",
       "      <td>0.860656</td>\n",
       "    </tr>\n",
       "  </tbody>\n",
       "</table>\n",
       "</div>"
      ],
      "text/plain": [
       "env      member  nonmember       All\n",
       "paytax                              \n",
       "no      0.09589   0.171779  0.139344\n",
       "yes     0.90411   0.828221  0.860656"
      ]
     },
     "execution_count": 31,
     "metadata": {},
     "output_type": "execute_result"
    }
   ],
   "source": [
    "ct8 = pd.crosstab(df2.paytax, df2.env, rownames=['paytax'], colnames=['env'], \\\n",
    "                  margins=True, dropna=True, normalize='columns')\n",
    "ct8"
   ]
  },
  {
   "cell_type": "code",
   "execution_count": 32,
   "metadata": {},
   "outputs": [
    {
     "data": {
      "text/plain": [
       "array([[ 35,  84],\n",
       "       [330, 405]])"
      ]
     },
     "execution_count": 32,
     "metadata": {},
     "output_type": "execute_result"
    }
   ],
   "source": [
    "arr7 = np.array(ct7)\n",
    "arr7_row1 = arr7[0][0:2]\n",
    "arr7_row2 = arr7[1][0:2]\n",
    "arr7 = np.vstack((arr7_row1, arr7_row2)) \n",
    "arr7"
   ]
  },
  {
   "cell_type": "code",
   "execution_count": 33,
   "metadata": {},
   "outputs": [
    {
     "name": "stdout",
     "output_type": "stream",
     "text": [
      "Pearson Chi-Square\n",
      "9.41362946411\n",
      "p\n",
      "0.00215378483946\n",
      "dof\n",
      "1\n",
      "expected\n",
      "[[  50.86065574   68.13934426]\n",
      " [ 314.13934426  420.86065574]]\n"
     ]
    }
   ],
   "source": [
    "chi2, p, dof, expected = stats.chi2_contingency(observed=arr7, correction=True, lambda_=None)\n",
    "print('Pearson Chi-Square')\n",
    "print(chi2)\n",
    "print('p')\n",
    "print(p)\n",
    "print('dof')\n",
    "print(dof)\n",
    "print('expected')\n",
    "print(expected)"
   ]
  },
  {
   "cell_type": "code",
   "execution_count": 34,
   "metadata": {
    "collapsed": true
   },
   "outputs": [],
   "source": [
    "#8_8"
   ]
  },
  {
   "cell_type": "code",
   "execution_count": 35,
   "metadata": {},
   "outputs": [
    {
     "data": {
      "text/html": [
       "<div>\n",
       "<style>\n",
       "    .dataframe thead tr:only-child th {\n",
       "        text-align: right;\n",
       "    }\n",
       "\n",
       "    .dataframe thead th {\n",
       "        text-align: left;\n",
       "    }\n",
       "\n",
       "    .dataframe tbody tr th {\n",
       "        vertical-align: top;\n",
       "    }\n",
       "</style>\n",
       "<table border=\"1\" class=\"dataframe\">\n",
       "  <thead>\n",
       "    <tr style=\"text-align: right;\">\n",
       "      <th>relax</th>\n",
       "      <th>never</th>\n",
       "      <th>often</th>\n",
       "      <th>sometimes</th>\n",
       "      <th>All</th>\n",
       "    </tr>\n",
       "    <tr>\n",
       "      <th>paytax</th>\n",
       "      <th></th>\n",
       "      <th></th>\n",
       "      <th></th>\n",
       "      <th></th>\n",
       "    </tr>\n",
       "  </thead>\n",
       "  <tbody>\n",
       "    <tr>\n",
       "      <th>no</th>\n",
       "      <td>24</td>\n",
       "      <td>58</td>\n",
       "      <td>35</td>\n",
       "      <td>117</td>\n",
       "    </tr>\n",
       "    <tr>\n",
       "      <th>yes</th>\n",
       "      <td>74</td>\n",
       "      <td>474</td>\n",
       "      <td>181</td>\n",
       "      <td>729</td>\n",
       "    </tr>\n",
       "    <tr>\n",
       "      <th>All</th>\n",
       "      <td>98</td>\n",
       "      <td>532</td>\n",
       "      <td>216</td>\n",
       "      <td>846</td>\n",
       "    </tr>\n",
       "  </tbody>\n",
       "</table>\n",
       "</div>"
      ],
      "text/plain": [
       "relax   never  often  sometimes  All\n",
       "paytax                              \n",
       "no         24     58         35  117\n",
       "yes        74    474        181  729\n",
       "All        98    532        216  846"
      ]
     },
     "execution_count": 35,
     "metadata": {},
     "output_type": "execute_result"
    }
   ],
   "source": [
    "ct9 = pd.crosstab(df2.paytax, df2.relax, rownames=['paytax'], colnames=['relax'], margins=True, dropna=True)\n",
    "ct9"
   ]
  },
  {
   "cell_type": "code",
   "execution_count": 36,
   "metadata": {},
   "outputs": [
    {
     "data": {
      "text/html": [
       "<div>\n",
       "<style>\n",
       "    .dataframe thead tr:only-child th {\n",
       "        text-align: right;\n",
       "    }\n",
       "\n",
       "    .dataframe thead th {\n",
       "        text-align: left;\n",
       "    }\n",
       "\n",
       "    .dataframe tbody tr th {\n",
       "        vertical-align: top;\n",
       "    }\n",
       "</style>\n",
       "<table border=\"1\" class=\"dataframe\">\n",
       "  <thead>\n",
       "    <tr style=\"text-align: right;\">\n",
       "      <th>relax</th>\n",
       "      <th>never</th>\n",
       "      <th>often</th>\n",
       "      <th>sometimes</th>\n",
       "      <th>All</th>\n",
       "    </tr>\n",
       "    <tr>\n",
       "      <th>paytax</th>\n",
       "      <th></th>\n",
       "      <th></th>\n",
       "      <th></th>\n",
       "      <th></th>\n",
       "    </tr>\n",
       "  </thead>\n",
       "  <tbody>\n",
       "    <tr>\n",
       "      <th>no</th>\n",
       "      <td>0.244898</td>\n",
       "      <td>0.109023</td>\n",
       "      <td>0.162037</td>\n",
       "      <td>0.138298</td>\n",
       "    </tr>\n",
       "    <tr>\n",
       "      <th>yes</th>\n",
       "      <td>0.755102</td>\n",
       "      <td>0.890977</td>\n",
       "      <td>0.837963</td>\n",
       "      <td>0.861702</td>\n",
       "    </tr>\n",
       "  </tbody>\n",
       "</table>\n",
       "</div>"
      ],
      "text/plain": [
       "relax      never     often  sometimes       All\n",
       "paytax                                         \n",
       "no      0.244898  0.109023   0.162037  0.138298\n",
       "yes     0.755102  0.890977   0.837963  0.861702"
      ]
     },
     "execution_count": 36,
     "metadata": {},
     "output_type": "execute_result"
    }
   ],
   "source": [
    "ct10 = pd.crosstab(df2.paytax, df2.relax, rownames=['paytax'], colnames=['relax'], \\\n",
    "                  margins=True, dropna=True, normalize='columns')\n",
    "ct10"
   ]
  },
  {
   "cell_type": "code",
   "execution_count": 37,
   "metadata": {},
   "outputs": [
    {
     "data": {
      "text/plain": [
       "array([[ 24,  58,  35],\n",
       "       [ 74, 474, 181]])"
      ]
     },
     "execution_count": 37,
     "metadata": {},
     "output_type": "execute_result"
    }
   ],
   "source": [
    "arr9 = np.array(ct9)\n",
    "arr9_row1 = arr9[0][0:3]\n",
    "arr9_row2 = arr9[1][0:3]\n",
    "arr9 = np.vstack((arr9_row1, arr9_row2)) \n",
    "arr9"
   ]
  },
  {
   "cell_type": "code",
   "execution_count": 38,
   "metadata": {},
   "outputs": [
    {
     "name": "stdout",
     "output_type": "stream",
     "text": [
      "Pearson Chi-Square\n",
      "14.1921811682\n",
      "p\n",
      "0.000828336915062\n",
      "dof\n",
      "2\n",
      "expected\n",
      "[[  13.55319149   73.57446809   29.87234043]\n",
      " [  84.44680851  458.42553191  186.12765957]]\n"
     ]
    }
   ],
   "source": [
    "chi2, p, dof, expected = stats.chi2_contingency(observed=arr9, correction=True, lambda_=None)\n",
    "print('Pearson Chi-Square')\n",
    "print(chi2)\n",
    "print('p')\n",
    "print(p)\n",
    "print('dof')\n",
    "print(dof)\n",
    "print('expected')\n",
    "print(expected)"
   ]
  },
  {
   "cell_type": "code",
   "execution_count": 39,
   "metadata": {
    "collapsed": true
   },
   "outputs": [],
   "source": [
    "#8_9"
   ]
  },
  {
   "cell_type": "code",
   "execution_count": 40,
   "metadata": {},
   "outputs": [
    {
     "name": "stdout",
     "output_type": "stream",
     "text": [
      "Mean of AMOUNT is:\n",
      "67.19434988179668\n",
      "\n",
      "Median of AMOUNT is:\n",
      "30.0\n",
      "\n",
      "Mode of AMOUNT is:\n",
      "0    50.0\n",
      "dtype: float64\n",
      "\n",
      "Max of AMOUNT is:\n",
      "1250.0\n",
      "\n",
      "Min of AMOUNT is:\n",
      "0.0\n",
      "\n",
      "Range of AMOUNT is:\n",
      "1250.0\n",
      "\n",
      "Quantile of AMOUNT is:\n",
      "0.25      5.0\n",
      "0.50     30.0\n",
      "0.75    100.0\n",
      "Name: amount, dtype: float64\n"
     ]
    }
   ],
   "source": [
    "print('Mean of AMOUNT is:')\n",
    "print(df2['amount'].mean())\n",
    "print('')\n",
    "print('Median of AMOUNT is:')\n",
    "print(df2['amount'].median())\n",
    "print('')\n",
    "print('Mode of AMOUNT is:')\n",
    "print(df2['amount'].mode())\n",
    "print('')\n",
    "print('Max of AMOUNT is:')\n",
    "print(df2['amount'].max())\n",
    "print('')\n",
    "print('Min of AMOUNT is:')\n",
    "print(df2['amount'].min())\n",
    "print('')\n",
    "print('Range of AMOUNT is:')\n",
    "print(df2['amount'].max()-df2['amount'].min())\n",
    "print('')\n",
    "print('Quantile of AMOUNT is:')\n",
    "print(df1['amount'].quantile([0.25, 0.5, 0.75]))"
   ]
  },
  {
   "cell_type": "code",
   "execution_count": 41,
   "metadata": {
    "collapsed": true
   },
   "outputs": [],
   "source": [
    "#8_10"
   ]
  },
  {
   "cell_type": "code",
   "execution_count": 42,
   "metadata": {},
   "outputs": [
    {
     "data": {
      "image/png": "[encoded data removed]",
      "text/plain": [
       "<matplotlib.figure.Figure at 0x111f85438>"
      ]
     },
     "metadata": {},
     "output_type": "display_data"
    }
   ],
   "source": [
    "plt.figure(1, figsize=(8, 6));\n",
    "\n",
    "# Make a fake dataset:\n",
    "height = df2.groupby('income')['amount'].mean().tolist()\n",
    "bars = df2.groupby('income')['amount'].mean().index.tolist()\n",
    "y_pos = np.arange(len(bars))\n",
    " \n",
    "stdev = df2.groupby('income')['amount'].std().tolist()\n",
    "error_bars = (stdev / (df2.amount.count()**0.5)) * 1.96\n",
    "    \n",
    "# Create bars\n",
    "plt.bar(y_pos, height, color = (0.5,0.1,0.5,0.6), yerr=error_bars, capsize=7)\n",
    "\n",
    "plt.title('Bar chart')\n",
    "plt.xlabel('income')\n",
    "plt.ylabel('mean amount')\n",
    " \n",
    "# Create names on the x-axis\n",
    "plt.xticks(y_pos, bars)\n",
    " \n",
    "# Show graphic\n",
    "plt.show()"
   ]
  },
  {
   "cell_type": "code",
   "execution_count": 43,
   "metadata": {
    "collapsed": true
   },
   "outputs": [],
   "source": [
    "#8_11"
   ]
  },
  {
   "cell_type": "code",
   "execution_count": 67,
   "metadata": {},
   "outputs": [
    {
     "data": {
      "text/plain": [
       "F_onewayResult(statistic=3.5980022832099543, pvalue=0.013286193024309167)"
      ]
     },
     "execution_count": 67,
     "metadata": {},
     "output_type": "execute_result"
    }
   ],
   "source": [
    "x1 = df2[df2['income']=='0k-10k']['amount'].dropna()\n",
    "x2 = df2[df2['income']=='10k-20k']['amount'].dropna()\n",
    "x3 = df2[df2['income']=='20k-30k']['amount'].dropna()\n",
    "x4 = df2[df2['income']=='30k-40k']['amount'].dropna()\n",
    "stats.f_oneway(x1, x2, x3, x4)"
   ]
  },
  {
   "cell_type": "code",
   "execution_count": 45,
   "metadata": {},
   "outputs": [
    {
     "data": {
      "text/html": [
       "<div>\n",
       "<style>\n",
       "    .dataframe thead tr:only-child th {\n",
       "        text-align: right;\n",
       "    }\n",
       "\n",
       "    .dataframe thead th {\n",
       "        text-align: left;\n",
       "    }\n",
       "\n",
       "    .dataframe tbody tr th {\n",
       "        vertical-align: top;\n",
       "    }\n",
       "</style>\n",
       "<table border=\"1\" class=\"dataframe\">\n",
       "  <thead>\n",
       "    <tr style=\"text-align: right;\">\n",
       "      <th></th>\n",
       "      <th>paytax</th>\n",
       "      <th>amount</th>\n",
       "      <th>income</th>\n",
       "      <th>age</th>\n",
       "      <th>boat</th>\n",
       "      <th>relax</th>\n",
       "      <th>visit</th>\n",
       "      <th>env</th>\n",
       "    </tr>\n",
       "  </thead>\n",
       "  <tbody>\n",
       "    <tr>\n",
       "      <th>0</th>\n",
       "      <td>yes</td>\n",
       "      <td>50.0</td>\n",
       "      <td>0k-10k</td>\n",
       "      <td>16-24</td>\n",
       "      <td>no</td>\n",
       "      <td>often</td>\n",
       "      <td>worker</td>\n",
       "      <td>nonmember</td>\n",
       "    </tr>\n",
       "    <tr>\n",
       "      <th>1</th>\n",
       "      <td>no</td>\n",
       "      <td>0.0</td>\n",
       "      <td>30k-40k</td>\n",
       "      <td>45-64</td>\n",
       "      <td>no</td>\n",
       "      <td>sometimes</td>\n",
       "      <td>resident</td>\n",
       "      <td>nonmember</td>\n",
       "    </tr>\n",
       "    <tr>\n",
       "      <th>2</th>\n",
       "      <td>yes</td>\n",
       "      <td>100.0</td>\n",
       "      <td>20k-30k</td>\n",
       "      <td>45-64</td>\n",
       "      <td>no</td>\n",
       "      <td>often</td>\n",
       "      <td>worker</td>\n",
       "      <td>member</td>\n",
       "    </tr>\n",
       "    <tr>\n",
       "      <th>3</th>\n",
       "      <td>yes</td>\n",
       "      <td>500.0</td>\n",
       "      <td>20k-30k</td>\n",
       "      <td>45-64</td>\n",
       "      <td>yes</td>\n",
       "      <td>often</td>\n",
       "      <td>worker</td>\n",
       "      <td>member</td>\n",
       "    </tr>\n",
       "    <tr>\n",
       "      <th>7</th>\n",
       "      <td>yes</td>\n",
       "      <td>10.0</td>\n",
       "      <td>30k-40k</td>\n",
       "      <td>25-44</td>\n",
       "      <td>yes</td>\n",
       "      <td>sometimes</td>\n",
       "      <td>resident</td>\n",
       "      <td>member</td>\n",
       "    </tr>\n",
       "  </tbody>\n",
       "</table>\n",
       "</div>"
      ],
      "text/plain": [
       "  paytax  amount   income    age boat      relax     visit        env\n",
       "0    yes    50.0   0k-10k  16-24   no      often    worker  nonmember\n",
       "1     no     0.0  30k-40k  45-64   no  sometimes  resident  nonmember\n",
       "2    yes   100.0  20k-30k  45-64   no      often    worker     member\n",
       "3    yes   500.0  20k-30k  45-64  yes      often    worker     member\n",
       "7    yes    10.0  30k-40k  25-44  yes  sometimes  resident     member"
      ]
     },
     "execution_count": 45,
     "metadata": {},
     "output_type": "execute_result"
    }
   ],
   "source": [
    "#get rid of NaNs\n",
    "df5 = pd.DataFrame.copy(df2)\n",
    "df5 = df5.dropna(subset=['amount'])\n",
    "df5 = df5.dropna(subset=['income'])\n",
    "df5.head()"
   ]
  },
  {
   "cell_type": "code",
   "execution_count": 46,
   "metadata": {},
   "outputs": [
    {
     "name": "stdout",
     "output_type": "stream",
     "text": [
      "Multiple Comparison of Means - Tukey HSD,FWER=0.05\n",
      "================================================\n",
      " group1  group2 meandiff  lower    upper  reject\n",
      "------------------------------------------------\n",
      " 0k-10k 10k-20k 20.6913  -9.8063  51.1889 False \n",
      " 0k-10k 20k-30k 24.5232  -7.1625   56.209 False \n",
      " 0k-10k 30k-40k 41.7947   8.8161  74.7733  True \n",
      "10k-20k 20k-30k  3.8319  -22.9664 30.6302 False \n",
      "10k-20k 30k-40k 21.1034  -7.2118  49.4186 False \n",
      "20k-30k 30k-40k 17.2715  -12.3197 46.8627 False \n",
      "------------------------------------------------\n"
     ]
    }
   ],
   "source": [
    "ans1 = pairwise_tukeyhsd(df5['amount'], df5['income'],  alpha=0.05)\n",
    "print(ans1)"
   ]
  },
  {
   "cell_type": "code",
   "execution_count": 47,
   "metadata": {},
   "outputs": [
    {
     "data": {
      "image/png": "[encoded data removed]",
      "text/plain": [
       "<matplotlib.figure.Figure at 0x11162a5f8>"
      ]
     },
     "metadata": {},
     "output_type": "display_data"
    }
   ],
   "source": [
    "plt.figure(2, figsize=(8, 6));\n",
    "\n",
    "# Make a fake dataset:\n",
    "height = df2.groupby('relax')['amount'].mean().tolist()\n",
    "bars = df2.groupby('relax')['amount'].mean().index.tolist()\n",
    "y_pos = np.arange(len(bars))\n",
    " \n",
    "stdev = df2.groupby('relax')['amount'].std().tolist()\n",
    "error_bars = (stdev / (df2.amount.count()**0.5)) * 1.96\n",
    "    \n",
    "# Create bars\n",
    "plt.bar(y_pos, height, color = (0.5,0.1,0.5,0.6), yerr=error_bars, capsize=7)\n",
    "\n",
    "plt.title('Bar chart')\n",
    "plt.xlabel('relax')\n",
    "plt.ylabel('mean amount')\n",
    " \n",
    "# Create names on the x-axis\n",
    "plt.xticks(y_pos, bars)\n",
    " \n",
    "# Show graphic\n",
    "plt.show()"
   ]
  },
  {
   "cell_type": "code",
   "execution_count": 48,
   "metadata": {},
   "outputs": [
    {
     "data": {
      "text/plain": [
       "F_onewayResult(statistic=1.6837168957757411, pvalue=0.18631231448119093)"
      ]
     },
     "execution_count": 48,
     "metadata": {},
     "output_type": "execute_result"
    }
   ],
   "source": [
    "y1 = df2[df2['relax']=='never']['amount'].dropna()\n",
    "y2 = df2[df2['relax']=='often']['amount'].dropna()\n",
    "y3 = df2[df2['relax']=='sometimes']['amount'].dropna()\n",
    "\n",
    "stats.f_oneway(y1, y2, y3)"
   ]
  },
  {
   "cell_type": "code",
   "execution_count": 49,
   "metadata": {},
   "outputs": [
    {
     "data": {
      "text/html": [
       "<div>\n",
       "<style>\n",
       "    .dataframe thead tr:only-child th {\n",
       "        text-align: right;\n",
       "    }\n",
       "\n",
       "    .dataframe thead th {\n",
       "        text-align: left;\n",
       "    }\n",
       "\n",
       "    .dataframe tbody tr th {\n",
       "        vertical-align: top;\n",
       "    }\n",
       "</style>\n",
       "<table border=\"1\" class=\"dataframe\">\n",
       "  <thead>\n",
       "    <tr style=\"text-align: right;\">\n",
       "      <th></th>\n",
       "      <th>paytax</th>\n",
       "      <th>amount</th>\n",
       "      <th>income</th>\n",
       "      <th>age</th>\n",
       "      <th>boat</th>\n",
       "      <th>relax</th>\n",
       "      <th>visit</th>\n",
       "      <th>env</th>\n",
       "    </tr>\n",
       "  </thead>\n",
       "  <tbody>\n",
       "    <tr>\n",
       "      <th>855</th>\n",
       "      <td>yes</td>\n",
       "      <td>60.0</td>\n",
       "      <td>10k-20k</td>\n",
       "      <td>65+</td>\n",
       "      <td>no</td>\n",
       "      <td>often</td>\n",
       "      <td>daytripper</td>\n",
       "      <td>nonmember</td>\n",
       "    </tr>\n",
       "    <tr>\n",
       "      <th>856</th>\n",
       "      <td>yes</td>\n",
       "      <td>50.0</td>\n",
       "      <td>20k-30k</td>\n",
       "      <td>45-64</td>\n",
       "      <td>yes</td>\n",
       "      <td>never</td>\n",
       "      <td>daytripper</td>\n",
       "      <td>nonmember</td>\n",
       "    </tr>\n",
       "    <tr>\n",
       "      <th>858</th>\n",
       "      <td>no</td>\n",
       "      <td>0.0</td>\n",
       "      <td>0k-10k</td>\n",
       "      <td>16-24</td>\n",
       "      <td>no</td>\n",
       "      <td>sometimes</td>\n",
       "      <td>daytripper</td>\n",
       "      <td>nonmember</td>\n",
       "    </tr>\n",
       "    <tr>\n",
       "      <th>860</th>\n",
       "      <td>yes</td>\n",
       "      <td>260.0</td>\n",
       "      <td>0k-10k</td>\n",
       "      <td>25-44</td>\n",
       "      <td>yes</td>\n",
       "      <td>often</td>\n",
       "      <td>NaN</td>\n",
       "      <td>member</td>\n",
       "    </tr>\n",
       "    <tr>\n",
       "      <th>861</th>\n",
       "      <td>yes</td>\n",
       "      <td>2.0</td>\n",
       "      <td>10k-20k</td>\n",
       "      <td>25-44</td>\n",
       "      <td>no</td>\n",
       "      <td>sometimes</td>\n",
       "      <td>NaN</td>\n",
       "      <td>member</td>\n",
       "    </tr>\n",
       "  </tbody>\n",
       "</table>\n",
       "</div>"
      ],
      "text/plain": [
       "    paytax  amount   income    age boat      relax       visit        env\n",
       "855    yes    60.0  10k-20k    65+   no      often  daytripper  nonmember\n",
       "856    yes    50.0  20k-30k  45-64  yes      never  daytripper  nonmember\n",
       "858     no     0.0   0k-10k  16-24   no  sometimes  daytripper  nonmember\n",
       "860    yes   260.0   0k-10k  25-44  yes      often         NaN     member\n",
       "861    yes     2.0  10k-20k  25-44   no  sometimes         NaN     member"
      ]
     },
     "execution_count": 49,
     "metadata": {},
     "output_type": "execute_result"
    }
   ],
   "source": [
    "#get rid of NaNs\n",
    "df5 = df5.dropna(subset=['relax'])\n",
    "df5.tail()"
   ]
  },
  {
   "cell_type": "code",
   "execution_count": 50,
   "metadata": {},
   "outputs": [
    {
     "name": "stdout",
     "output_type": "stream",
     "text": [
      "Multiple Comparison of Means - Tukey HSD,FWER=0.05\n",
      "=================================================\n",
      "group1   group2  meandiff  lower    upper  reject\n",
      "-------------------------------------------------\n",
      "never    often   19.7287  -10.995  50.4524 False \n",
      "never  sometimes  6.8991   -27.24  41.0383 False \n",
      "often  sometimes -12.8296 -35.3549  9.6957 False \n",
      "-------------------------------------------------\n"
     ]
    }
   ],
   "source": [
    "ans2 = pairwise_tukeyhsd(df5['amount'], df5['relax'],  alpha=0.05)\n",
    "print(ans2)"
   ]
  },
  {
   "cell_type": "code",
   "execution_count": 51,
   "metadata": {
    "collapsed": true
   },
   "outputs": [],
   "source": [
    "#8_14"
   ]
  },
  {
   "cell_type": "code",
   "execution_count": 52,
   "metadata": {},
   "outputs": [
    {
     "data": {
      "image/png": "[encoded data removed]",
      "text/plain": [
       "<matplotlib.figure.Figure at 0x11166be10>"
      ]
     },
     "metadata": {},
     "output_type": "display_data"
    }
   ],
   "source": [
    "plt.figure(3, figsize=(8, 6));\n",
    "\n",
    "# Make a fake dataset:\n",
    "height = df2.groupby('visit')['amount'].mean().tolist()\n",
    "bars = df2.groupby('visit')['amount'].mean().index.tolist()\n",
    "y_pos = np.arange(len(bars))\n",
    " \n",
    "stdev = df2.groupby('visit')['amount'].std().tolist()\n",
    "error_bars = (stdev / (df2.amount.count()**0.5)) * 1.96\n",
    "    \n",
    "# Create bars\n",
    "plt.bar(y_pos, height, color = (0.5,0.1,0.5,0.6), yerr=error_bars, capsize=7)\n",
    "\n",
    "plt.title('Bar chart')\n",
    "plt.xlabel('visit')\n",
    "plt.ylabel('mean amount')\n",
    " \n",
    "# Create names on the x-axis\n",
    "plt.xticks(y_pos, bars)\n",
    " \n",
    "# Show graphic\n",
    "plt.show()"
   ]
  },
  {
   "cell_type": "code",
   "execution_count": 53,
   "metadata": {},
   "outputs": [
    {
     "data": {
      "text/plain": [
       "F_onewayResult(statistic=2.5188913868233822, pvalue=0.056859635741036113)"
      ]
     },
     "execution_count": 53,
     "metadata": {},
     "output_type": "execute_result"
    }
   ],
   "source": [
    "z1 = df2[df2['visit']=='daytripper']['amount'].dropna()\n",
    "z2 = df2[df2['visit']=='onholiday']['amount'].dropna()\n",
    "z3 = df2[df2['visit']=='resident']['amount'].dropna()\n",
    "z4 = df2[df2['visit']=='worker']['amount'].dropna()\n",
    "\n",
    "stats.f_oneway(z1, z2, z3, z4)"
   ]
  },
  {
   "cell_type": "code",
   "execution_count": 54,
   "metadata": {},
   "outputs": [
    {
     "data": {
      "text/html": [
       "<div>\n",
       "<style>\n",
       "    .dataframe thead tr:only-child th {\n",
       "        text-align: right;\n",
       "    }\n",
       "\n",
       "    .dataframe thead th {\n",
       "        text-align: left;\n",
       "    }\n",
       "\n",
       "    .dataframe tbody tr th {\n",
       "        vertical-align: top;\n",
       "    }\n",
       "</style>\n",
       "<table border=\"1\" class=\"dataframe\">\n",
       "  <thead>\n",
       "    <tr style=\"text-align: right;\">\n",
       "      <th></th>\n",
       "      <th>paytax</th>\n",
       "      <th>amount</th>\n",
       "      <th>income</th>\n",
       "      <th>age</th>\n",
       "      <th>boat</th>\n",
       "      <th>relax</th>\n",
       "      <th>visit</th>\n",
       "      <th>env</th>\n",
       "    </tr>\n",
       "  </thead>\n",
       "  <tbody>\n",
       "    <tr>\n",
       "      <th>852</th>\n",
       "      <td>yes</td>\n",
       "      <td>50.0</td>\n",
       "      <td>20k-30k</td>\n",
       "      <td>16-24</td>\n",
       "      <td>no</td>\n",
       "      <td>often</td>\n",
       "      <td>daytripper</td>\n",
       "      <td>member</td>\n",
       "    </tr>\n",
       "    <tr>\n",
       "      <th>854</th>\n",
       "      <td>yes</td>\n",
       "      <td>250.0</td>\n",
       "      <td>10k-20k</td>\n",
       "      <td>45-64</td>\n",
       "      <td>no</td>\n",
       "      <td>sometimes</td>\n",
       "      <td>daytripper</td>\n",
       "      <td>member</td>\n",
       "    </tr>\n",
       "    <tr>\n",
       "      <th>855</th>\n",
       "      <td>yes</td>\n",
       "      <td>60.0</td>\n",
       "      <td>10k-20k</td>\n",
       "      <td>65+</td>\n",
       "      <td>no</td>\n",
       "      <td>often</td>\n",
       "      <td>daytripper</td>\n",
       "      <td>nonmember</td>\n",
       "    </tr>\n",
       "    <tr>\n",
       "      <th>856</th>\n",
       "      <td>yes</td>\n",
       "      <td>50.0</td>\n",
       "      <td>20k-30k</td>\n",
       "      <td>45-64</td>\n",
       "      <td>yes</td>\n",
       "      <td>never</td>\n",
       "      <td>daytripper</td>\n",
       "      <td>nonmember</td>\n",
       "    </tr>\n",
       "    <tr>\n",
       "      <th>858</th>\n",
       "      <td>no</td>\n",
       "      <td>0.0</td>\n",
       "      <td>0k-10k</td>\n",
       "      <td>16-24</td>\n",
       "      <td>no</td>\n",
       "      <td>sometimes</td>\n",
       "      <td>daytripper</td>\n",
       "      <td>nonmember</td>\n",
       "    </tr>\n",
       "  </tbody>\n",
       "</table>\n",
       "</div>"
      ],
      "text/plain": [
       "    paytax  amount   income    age boat      relax       visit        env\n",
       "852    yes    50.0  20k-30k  16-24   no      often  daytripper     member\n",
       "854    yes   250.0  10k-20k  45-64   no  sometimes  daytripper     member\n",
       "855    yes    60.0  10k-20k    65+   no      often  daytripper  nonmember\n",
       "856    yes    50.0  20k-30k  45-64  yes      never  daytripper  nonmember\n",
       "858     no     0.0   0k-10k  16-24   no  sometimes  daytripper  nonmember"
      ]
     },
     "execution_count": 54,
     "metadata": {},
     "output_type": "execute_result"
    }
   ],
   "source": [
    "#get rid of NaNs\n",
    "df5 = df5.dropna(subset=['visit'])\n",
    "df5.tail()"
   ]
  },
  {
   "cell_type": "code",
   "execution_count": 55,
   "metadata": {},
   "outputs": [
    {
     "name": "stdout",
     "output_type": "stream",
     "text": [
      "  Multiple Comparison of Means - Tukey HSD,FWER=0.05  \n",
      "======================================================\n",
      "  group1     group2  meandiff  lower    upper   reject\n",
      "------------------------------------------------------\n",
      "daytripper onholiday  4.3956  -22.2126 31.0038  False \n",
      "daytripper  resident 24.1069  -9.7028  57.9166  False \n",
      "daytripper   worker  155.3648 -16.4745 327.2041 False \n",
      "onholiday   resident 19.7113  -8.3988  47.8215  False \n",
      "onholiday    worker  150.9692 -19.8401 321.7785 False \n",
      " resident    worker  131.2579 -40.8204 303.3361 False \n",
      "------------------------------------------------------\n"
     ]
    }
   ],
   "source": [
    "ans3 = pairwise_tukeyhsd(df5['amount'], df5['visit'],  alpha=0.05)\n",
    "print(ans3)"
   ]
  },
  {
   "cell_type": "code",
   "execution_count": 56,
   "metadata": {
    "collapsed": true
   },
   "outputs": [],
   "source": [
    "#8_15"
   ]
  },
  {
   "cell_type": "code",
   "execution_count": 57,
   "metadata": {},
   "outputs": [
    {
     "data": {
      "image/png": "[encoded data removed]",
      "text/plain": [
       "<matplotlib.figure.Figure at 0x111673320>"
      ]
     },
     "metadata": {},
     "output_type": "display_data"
    }
   ],
   "source": [
    "x = df2['amount'].dropna().tolist()\n",
    "plt.figure(5, figsize=(8, 6));\n",
    "n, bins, patches = plt.hist(x, 10, normed=1, facecolor='green', alpha=0.5)\n",
    "plt.xlabel('Score')\n",
    "plt.ylabel('Probability')\n",
    "plt.title(r'$\\mathrm{Willingness\\ to\\ pay}$')\n",
    "plt.grid(True)\n",
    "plt.show()"
   ]
  },
  {
   "cell_type": "code",
   "execution_count": 58,
   "metadata": {},
   "outputs": [
    {
     "data": {
      "image/png": "[encoded data removed]",
      "text/plain": [
       "<matplotlib.figure.Figure at 0x1156430f0>"
      ]
     },
     "metadata": {},
     "output_type": "display_data"
    }
   ],
   "source": [
    "sm.qqplot(df2['amount'])#, line='r')\n",
    "pylab.show()"
   ]
  },
  {
   "cell_type": "code",
   "execution_count": 59,
   "metadata": {},
   "outputs": [
    {
     "data": {
      "text/plain": [
       "KstestResult(statistic=0.78602033821443162, pvalue=0.0)"
      ]
     },
     "execution_count": 59,
     "metadata": {},
     "output_type": "execute_result"
    }
   ],
   "source": [
    "#Kolmogorov-Smirnov\n",
    "stats.kstest(df2['amount'].dropna(), 'norm', N=20, alternative='two-sided', mode='approx')\n",
    "\n",
    "#(rvs, cdf, args=(), N=20, alternative='two-sided', mode='approx')[source]"
   ]
  },
  {
   "cell_type": "code",
   "execution_count": 60,
   "metadata": {},
   "outputs": [
    {
     "data": {
      "text/plain": [
       "(0.5670703053474426, 2.2535681903271708e-41)"
      ]
     },
     "execution_count": 60,
     "metadata": {},
     "output_type": "execute_result"
    }
   ],
   "source": [
    "stats.shapiro(df2['amount'].dropna(), a=None, reta=False)"
   ]
  },
  {
   "cell_type": "code",
   "execution_count": 61,
   "metadata": {},
   "outputs": [
    {
     "data": {
      "text/plain": [
       "KruskalResult(statistic=14.732059428607492, pvalue=0.0020605469921174658)"
      ]
     },
     "execution_count": 61,
     "metadata": {},
     "output_type": "execute_result"
    }
   ],
   "source": [
    "x1 = df2[df2['income']=='0k-10k']['amount'].dropna()\n",
    "x2 = df2[df2['income']=='10k-20k']['amount'].dropna()\n",
    "x3 = df2[df2['income']=='20k-30k']['amount'].dropna()\n",
    "x4 = df2[df2['income']=='30k-40k']['amount'].dropna()\n",
    "\n",
    "stats.kruskal(x1, x2, x3, x4, nan_policy='propagate')"
   ]
  },
  {
   "cell_type": "code",
   "execution_count": 62,
   "metadata": {
    "collapsed": true
   },
   "outputs": [],
   "source": [
    "#8_18\n",
    "group1 = np.array((x1.tolist(), x2.tolist(), x3.tolist(), x4.tolist()))"
   ]
  },
  {
   "cell_type": "code",
   "execution_count": 63,
   "metadata": {},
   "outputs": [
    {
     "name": "stdout",
     "output_type": "stream",
     "text": [
      "H\n",
      "14.7320594286\n",
      "\n",
      "p_omnibus\n",
      "0.00206054699212\n",
      "\n",
      "Z_pairs\n",
      "[ 1.20618826  2.01518352  3.58710462  1.0100171   2.87872988  1.83991387]\n",
      "\n",
      "p_corrected\n",
      "[ 1.          0.26331254  0.00200622  1.          0.02395681  0.3946853 ]\n",
      "\n",
      "reject\n",
      "[False False  True False  True False]\n",
      "\n"
     ]
    }
   ],
   "source": [
    "#https://gist.github.com/alimuldal/fbb19b73fa25423f02e8\n",
    "H, p_omnibus, Z_pairs, p_corrected, reject = MCP.kw_dunn(group1, to_compare=None, alpha=0.05, method='bonf')\n",
    "print('H')\n",
    "print(H)\n",
    "print('')\n",
    "print('p_omnibus')\n",
    "print(p_omnibus)\n",
    "print('')\n",
    "print('Z_pairs')\n",
    "print(Z_pairs)\n",
    "print('')\n",
    "print('p_corrected')\n",
    "print(p_corrected)\n",
    "print('')\n",
    "print('reject')\n",
    "print(reject)\n",
    "print('')"
   ]
  },
  {
   "cell_type": "code",
   "execution_count": null,
   "metadata": {
    "collapsed": true
   },
   "outputs": [],
   "source": []
  },
  {
   "cell_type": "code",
   "execution_count": null,
   "metadata": {
    "collapsed": true
   },
   "outputs": [],
   "source": []
  },
  {
   "cell_type": "code",
   "execution_count": null,
   "metadata": {
    "collapsed": true
   },
   "outputs": [],
   "source": []
  }
 ],
 "metadata": {
  "kernelspec": {
   "display_name": "Python [default]",
   "language": "python",
   "name": "python3"
  },
  "language_info": {
   "codemirror_mode": {
    "name": "ipython",
    "version": 3
   },
   "file_extension": ".py",
   "mimetype": "text/x-python",
   "name": "python",
   "nbconvert_exporter": "python",
   "pygments_lexer": "ipython3",
   "version": "3.5.3"
  }
 },
 "nbformat": 4,
 "nbformat_minor": 2
}
