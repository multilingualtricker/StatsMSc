{
 "cells": [
  {
   "cell_type": "code",
   "execution_count": 1,
   "metadata": {},
   "outputs": [
    {
     "name": "stderr",
     "output_type": "stream",
     "text": [
      "/Users/markprosser/anaconda/lib/python3.5/site-packages/statsmodels/compat/pandas.py:56: FutureWarning: The pandas.core.datetools module is deprecated and will be removed in a future version. Please use the pandas.tseries module instead.\n",
      "  from pandas.core import datetools\n"
     ]
    }
   ],
   "source": [
    "try:\n",
    "    from IPython import get_ipython\n",
    "    get_ipython().magic('reset -f')  \n",
    "except:\n",
    "    pass\n",
    "from IPython import get_ipython\n",
    "ipython = get_ipython().magic\n",
    "import io\n",
    "import os\n",
    "import sys\n",
    "os.chdir('/Users/markprosser/Desktop/PythonScripts')\n",
    "import MCP_functions as MCP\n",
    "import numpy as np\n",
    "import matplotlib.pyplot as plt\n",
    "import pickle\n",
    "plt.close(\"all\")\n",
    "\n",
    "import pandas as pd\n",
    "import savReaderWriter as spss\n",
    "import scipy.stats as stats\n",
    "import statsmodels.api as sm\n",
    "import pylab"
   ]
  },
  {
   "cell_type": "code",
   "execution_count": 2,
   "metadata": {
    "collapsed": true
   },
   "outputs": [],
   "source": [
    "savFileName = '/Users/markprosser/Desktop/PythonScripts/Input_needed_by/Stats_msc_year2/Stats_7.sav'\n",
    "with spss.SavReader(savFileName) as reader:\n",
    "    records = reader.all()\n",
    "df1 = pd.DataFrame(records)"
   ]
  },
  {
   "cell_type": "code",
   "execution_count": 3,
   "metadata": {},
   "outputs": [
    {
     "data": {
      "text/html": [
       "<div>\n",
       "<style>\n",
       "    .dataframe thead tr:only-child th {\n",
       "        text-align: right;\n",
       "    }\n",
       "\n",
       "    .dataframe thead th {\n",
       "        text-align: left;\n",
       "    }\n",
       "\n",
       "    .dataframe tbody tr th {\n",
       "        vertical-align: top;\n",
       "    }\n",
       "</style>\n",
       "<table border=\"1\" class=\"dataframe\">\n",
       "  <thead>\n",
       "    <tr style=\"text-align: right;\">\n",
       "      <th></th>\n",
       "      <th>0</th>\n",
       "      <th>1</th>\n",
       "      <th>2</th>\n",
       "      <th>3</th>\n",
       "      <th>4</th>\n",
       "    </tr>\n",
       "  </thead>\n",
       "  <tbody>\n",
       "    <tr>\n",
       "      <th>0</th>\n",
       "      <td>1.0</td>\n",
       "      <td>2.0</td>\n",
       "      <td>1.0</td>\n",
       "      <td>28.0</td>\n",
       "      <td>43.0</td>\n",
       "    </tr>\n",
       "    <tr>\n",
       "      <th>1</th>\n",
       "      <td>2.0</td>\n",
       "      <td>2.0</td>\n",
       "      <td>1.0</td>\n",
       "      <td>31.0</td>\n",
       "      <td>46.0</td>\n",
       "    </tr>\n",
       "    <tr>\n",
       "      <th>2</th>\n",
       "      <td>2.0</td>\n",
       "      <td>2.0</td>\n",
       "      <td>1.0</td>\n",
       "      <td>34.0</td>\n",
       "      <td>39.0</td>\n",
       "    </tr>\n",
       "    <tr>\n",
       "      <th>3</th>\n",
       "      <td>2.0</td>\n",
       "      <td>2.0</td>\n",
       "      <td>2.0</td>\n",
       "      <td>34.0</td>\n",
       "      <td>45.0</td>\n",
       "    </tr>\n",
       "    <tr>\n",
       "      <th>4</th>\n",
       "      <td>2.0</td>\n",
       "      <td>2.0</td>\n",
       "      <td>1.0</td>\n",
       "      <td>34.0</td>\n",
       "      <td>41.0</td>\n",
       "    </tr>\n",
       "  </tbody>\n",
       "</table>\n",
       "</div>"
      ],
      "text/plain": [
       "     0    1    2     3     4\n",
       "0  1.0  2.0  1.0  28.0  43.0\n",
       "1  2.0  2.0  1.0  31.0  46.0\n",
       "2  2.0  2.0  1.0  34.0  39.0\n",
       "3  2.0  2.0  2.0  34.0  45.0\n",
       "4  2.0  2.0  1.0  34.0  41.0"
      ]
     },
     "execution_count": 3,
     "metadata": {},
     "output_type": "execute_result"
    }
   ],
   "source": [
    "df1.head()"
   ]
  },
  {
   "cell_type": "code",
   "execution_count": 4,
   "metadata": {},
   "outputs": [
    {
     "data": {
      "text/html": [
       "<div>\n",
       "<style>\n",
       "    .dataframe thead tr:only-child th {\n",
       "        text-align: right;\n",
       "    }\n",
       "\n",
       "    .dataframe thead th {\n",
       "        text-align: left;\n",
       "    }\n",
       "\n",
       "    .dataframe tbody tr th {\n",
       "        vertical-align: top;\n",
       "    }\n",
       "</style>\n",
       "<table border=\"1\" class=\"dataframe\">\n",
       "  <thead>\n",
       "    <tr style=\"text-align: right;\">\n",
       "      <th></th>\n",
       "      <th>age</th>\n",
       "      <th>sex</th>\n",
       "      <th>science_student</th>\n",
       "      <th>env1</th>\n",
       "      <th>env2</th>\n",
       "    </tr>\n",
       "  </thead>\n",
       "  <tbody>\n",
       "    <tr>\n",
       "      <th>0</th>\n",
       "      <td>1.0</td>\n",
       "      <td>2.0</td>\n",
       "      <td>1.0</td>\n",
       "      <td>28.0</td>\n",
       "      <td>43.0</td>\n",
       "    </tr>\n",
       "    <tr>\n",
       "      <th>1</th>\n",
       "      <td>2.0</td>\n",
       "      <td>2.0</td>\n",
       "      <td>1.0</td>\n",
       "      <td>31.0</td>\n",
       "      <td>46.0</td>\n",
       "    </tr>\n",
       "    <tr>\n",
       "      <th>2</th>\n",
       "      <td>2.0</td>\n",
       "      <td>2.0</td>\n",
       "      <td>1.0</td>\n",
       "      <td>34.0</td>\n",
       "      <td>39.0</td>\n",
       "    </tr>\n",
       "    <tr>\n",
       "      <th>3</th>\n",
       "      <td>2.0</td>\n",
       "      <td>2.0</td>\n",
       "      <td>2.0</td>\n",
       "      <td>34.0</td>\n",
       "      <td>45.0</td>\n",
       "    </tr>\n",
       "    <tr>\n",
       "      <th>4</th>\n",
       "      <td>2.0</td>\n",
       "      <td>2.0</td>\n",
       "      <td>1.0</td>\n",
       "      <td>34.0</td>\n",
       "      <td>41.0</td>\n",
       "    </tr>\n",
       "  </tbody>\n",
       "</table>\n",
       "</div>"
      ],
      "text/plain": [
       "   age  sex  science_student  env1  env2\n",
       "0  1.0  2.0              1.0  28.0  43.0\n",
       "1  2.0  2.0              1.0  31.0  46.0\n",
       "2  2.0  2.0              1.0  34.0  39.0\n",
       "3  2.0  2.0              2.0  34.0  45.0\n",
       "4  2.0  2.0              1.0  34.0  41.0"
      ]
     },
     "execution_count": 4,
     "metadata": {},
     "output_type": "execute_result"
    }
   ],
   "source": [
    "df1.columns = ['age', 'sex', 'science_student', 'env1', 'env2']\n",
    "df1.head()"
   ]
  },
  {
   "cell_type": "code",
   "execution_count": 5,
   "metadata": {},
   "outputs": [
    {
     "data": {
      "text/html": [
       "<div>\n",
       "<style>\n",
       "    .dataframe thead tr:only-child th {\n",
       "        text-align: right;\n",
       "    }\n",
       "\n",
       "    .dataframe thead th {\n",
       "        text-align: left;\n",
       "    }\n",
       "\n",
       "    .dataframe tbody tr th {\n",
       "        vertical-align: top;\n",
       "    }\n",
       "</style>\n",
       "<table border=\"1\" class=\"dataframe\">\n",
       "  <thead>\n",
       "    <tr style=\"text-align: right;\">\n",
       "      <th></th>\n",
       "      <th>age</th>\n",
       "      <th>sex</th>\n",
       "      <th>science_student</th>\n",
       "      <th>env1</th>\n",
       "      <th>env2</th>\n",
       "    </tr>\n",
       "  </thead>\n",
       "  <tbody>\n",
       "    <tr>\n",
       "      <th>0</th>\n",
       "      <td>under20</td>\n",
       "      <td>male</td>\n",
       "      <td>bumke</td>\n",
       "      <td>28.0</td>\n",
       "      <td>43.0</td>\n",
       "    </tr>\n",
       "    <tr>\n",
       "      <th>1</th>\n",
       "      <td>over20</td>\n",
       "      <td>male</td>\n",
       "      <td>bumke</td>\n",
       "      <td>31.0</td>\n",
       "      <td>46.0</td>\n",
       "    </tr>\n",
       "    <tr>\n",
       "      <th>2</th>\n",
       "      <td>over20</td>\n",
       "      <td>male</td>\n",
       "      <td>bumke</td>\n",
       "      <td>34.0</td>\n",
       "      <td>39.0</td>\n",
       "    </tr>\n",
       "    <tr>\n",
       "      <th>3</th>\n",
       "      <td>over20</td>\n",
       "      <td>male</td>\n",
       "      <td>rike</td>\n",
       "      <td>34.0</td>\n",
       "      <td>45.0</td>\n",
       "    </tr>\n",
       "    <tr>\n",
       "      <th>4</th>\n",
       "      <td>over20</td>\n",
       "      <td>male</td>\n",
       "      <td>bumke</td>\n",
       "      <td>34.0</td>\n",
       "      <td>41.0</td>\n",
       "    </tr>\n",
       "  </tbody>\n",
       "</table>\n",
       "</div>"
      ],
      "text/plain": [
       "       age   sex science_student  env1  env2\n",
       "0  under20  male           bumke  28.0  43.0\n",
       "1   over20  male           bumke  31.0  46.0\n",
       "2   over20  male           bumke  34.0  39.0\n",
       "3   over20  male            rike  34.0  45.0\n",
       "4   over20  male           bumke  34.0  41.0"
      ]
     },
     "execution_count": 5,
     "metadata": {},
     "output_type": "execute_result"
    }
   ],
   "source": [
    "df2 = pd.DataFrame.copy(df1)\n",
    "df2.age.replace([1, 2], ['under20', 'over20'],  inplace=True)\n",
    "df2.sex.replace([1, 2], ['female', 'male'],  inplace=True)\n",
    "df2.science_student.replace([1, 2], ['bumke', 'rike'],  inplace=True)\n",
    "df2.head()"
   ]
  },
  {
   "cell_type": "code",
   "execution_count": 6,
   "metadata": {},
   "outputs": [
    {
     "data": {
      "text/html": [
       "<div>\n",
       "<style>\n",
       "    .dataframe thead tr:only-child th {\n",
       "        text-align: right;\n",
       "    }\n",
       "\n",
       "    .dataframe thead th {\n",
       "        text-align: left;\n",
       "    }\n",
       "\n",
       "    .dataframe tbody tr th {\n",
       "        vertical-align: top;\n",
       "    }\n",
       "</style>\n",
       "<table border=\"1\" class=\"dataframe\">\n",
       "  <thead>\n",
       "    <tr style=\"text-align: right;\">\n",
       "      <th></th>\n",
       "      <th>env1</th>\n",
       "      <th>env2</th>\n",
       "    </tr>\n",
       "    <tr>\n",
       "      <th>sex</th>\n",
       "      <th></th>\n",
       "      <th></th>\n",
       "    </tr>\n",
       "  </thead>\n",
       "  <tbody>\n",
       "    <tr>\n",
       "      <th>female</th>\n",
       "      <td>54.292929</td>\n",
       "      <td>55.141414</td>\n",
       "    </tr>\n",
       "    <tr>\n",
       "      <th>male</th>\n",
       "      <td>50.029703</td>\n",
       "      <td>51.564356</td>\n",
       "    </tr>\n",
       "  </tbody>\n",
       "</table>\n",
       "</div>"
      ],
      "text/plain": [
       "             env1       env2\n",
       "sex                         \n",
       "female  54.292929  55.141414\n",
       "male    50.029703  51.564356"
      ]
     },
     "execution_count": 6,
     "metadata": {},
     "output_type": "execute_result"
    }
   ],
   "source": [
    "#7_1\n",
    "df2.groupby(['sex']).mean()"
   ]
  },
  {
   "cell_type": "code",
   "execution_count": 7,
   "metadata": {},
   "outputs": [
    {
     "data": {
      "image/png": "[encoded data removed]",
      "text/plain": [
       "<matplotlib.figure.Figure at 0x1181fea20>"
      ]
     },
     "metadata": {},
     "output_type": "display_data"
    }
   ],
   "source": [
    "plt.figure(1, figsize=(8, 6));\n",
    "\n",
    "# Make a fake dataset:\n",
    "height = df2.groupby('sex')['env1'].mean().tolist()\n",
    "bars = df2.groupby('sex')['env1'].mean().index.tolist()\n",
    "y_pos = np.arange(len(bars))\n",
    " \n",
    "stdev = df2.groupby('sex')['env1'].std().tolist()\n",
    "error_bars = (stdev / (df2.env1.count()**0.5)) * 1.96\n",
    "    \n",
    "# Create bars\n",
    "plt.bar(y_pos, height, color = (0.5,0.1,0.5,0.6), yerr=error_bars, capsize=7)\n",
    "\n",
    "plt.title('Bar chart')\n",
    "plt.xlabel('Sex')\n",
    "plt.ylabel('Env1_score')\n",
    " \n",
    "# Create names on the x-axis\n",
    "plt.xticks(y_pos, bars)\n",
    " \n",
    "# Show graphic\n",
    "plt.show()"
   ]
  },
  {
   "cell_type": "code",
   "execution_count": 8,
   "metadata": {
    "collapsed": true
   },
   "outputs": [],
   "source": [
    "#7_2"
   ]
  },
  {
   "cell_type": "code",
   "execution_count": 9,
   "metadata": {},
   "outputs": [
    {
     "data": {
      "image/png": "[encoded data removed]",
      "text/plain": [
       "<matplotlib.figure.Figure at 0x119b12ba8>"
      ]
     },
     "metadata": {},
     "output_type": "display_data"
    }
   ],
   "source": [
    "plt.figure(2, figsize=(8, 6));\n",
    "\n",
    "# Make a fake dataset:\n",
    "height = df2.groupby('age')['env1'].mean().tolist()\n",
    "bars = df2.groupby('age')['env1'].mean().index.tolist()\n",
    "y_pos = np.arange(len(bars))\n",
    " \n",
    "stdev = df2.groupby('age')['env1'].std().tolist()\n",
    "error_bars = (stdev / (df2.env1.count()**0.5)) * 1.96\n",
    "    \n",
    "# Create bars\n",
    "plt.bar(y_pos, height, color = (0.5,0.1,0.5,0.6), yerr=error_bars, capsize=7)\n",
    "\n",
    "plt.title('Bar chart')\n",
    "plt.xlabel('Age')\n",
    "plt.ylabel('Env1_score')\n",
    " \n",
    "# Create names on the x-axis\n",
    "plt.xticks(y_pos, bars)\n",
    " \n",
    "# Show graphic\n",
    "plt.show()"
   ]
  },
  {
   "cell_type": "code",
   "execution_count": 10,
   "metadata": {},
   "outputs": [
    {
     "data": {
      "image/png": "[encoded data removed]",
      "text/plain": [
       "<matplotlib.figure.Figure at 0x119b384e0>"
      ]
     },
     "metadata": {},
     "output_type": "display_data"
    }
   ],
   "source": [
    "plt.figure(3, figsize=(8, 6));\n",
    "\n",
    "# Make a fake dataset:\n",
    "height = df2.groupby('science_student')['env1'].mean().tolist()\n",
    "bars = df2.groupby('science_student')['env1'].mean().index.tolist()\n",
    "y_pos = np.arange(len(bars))\n",
    " \n",
    "stdev = df2.groupby('science_student')['env1'].std().tolist()\n",
    "error_bars = (stdev / (df2.env1.count()**0.5)) * 1.96\n",
    "    \n",
    "# Create bars\n",
    "plt.bar(y_pos, height, color = (0.5,0.1,0.5,0.6), yerr=error_bars, capsize=7)\n",
    "\n",
    "plt.title('Bar chart')\n",
    "plt.xlabel('Science_student')\n",
    "plt.ylabel('Env1_score')\n",
    " \n",
    "# Create names on the x-axis\n",
    "plt.xticks(y_pos, bars)\n",
    " \n",
    "# Show graphic\n",
    "plt.show()"
   ]
  },
  {
   "cell_type": "code",
   "execution_count": 11,
   "metadata": {
    "collapsed": true
   },
   "outputs": [],
   "source": [
    "#7_3"
   ]
  },
  {
   "cell_type": "code",
   "execution_count": 12,
   "metadata": {},
   "outputs": [
    {
     "data": {
      "text/plain": [
       "Ttest_indResult(statistic=5.826027359291194, pvalue=2.2682872019046873e-08)"
      ]
     },
     "execution_count": 12,
     "metadata": {},
     "output_type": "execute_result"
    }
   ],
   "source": [
    "# import csv\n",
    "# with open('/Volumes/SD/LIST1', 'w', newline='') as myfile:\n",
    "#     wr = csv.writer(myfile, quoting=csv.QUOTE_ALL)\n",
    "#     wr.writerow(rike)\n",
    "\n",
    "rike = df2[df2['science_student']=='rike']['env1']\n",
    "bumke= df2[df2['science_student']=='bumke']['env1']\n",
    "stats.ttest_ind(rike, bumke, axis=0, equal_var=True, nan_policy='propagate') #2tailed. The one-tail P value is half the two-tail P value."
   ]
  },
  {
   "cell_type": "code",
   "execution_count": 13,
   "metadata": {
    "collapsed": true
   },
   "outputs": [],
   "source": [
    "#7_4"
   ]
  },
  {
   "cell_type": "code",
   "execution_count": 14,
   "metadata": {},
   "outputs": [
    {
     "data": {
      "text/plain": [
       "LeveneResult(statistic=1.2527823789500241, pvalue=0.26437769484370288)"
      ]
     },
     "execution_count": 14,
     "metadata": {},
     "output_type": "execute_result"
    }
   ],
   "source": [
    "stats.levene(rike, bumke, center='mean')"
   ]
  },
  {
   "cell_type": "code",
   "execution_count": 15,
   "metadata": {},
   "outputs": [
    {
     "data": {
      "text/plain": [
       "Ttest_indResult(statistic=3.0136890122274642, pvalue=0.0029182900926526881)"
      ]
     },
     "execution_count": 15,
     "metadata": {},
     "output_type": "execute_result"
    }
   ],
   "source": [
    "fem = df2[df2['sex']=='female']['env1']\n",
    "male = df2[df2['sex']=='male']['env1']\n",
    "stats.ttest_ind(fem, male, axis=0, equal_var=True, nan_policy='propagate')"
   ]
  },
  {
   "cell_type": "code",
   "execution_count": 16,
   "metadata": {
    "collapsed": true
   },
   "outputs": [],
   "source": [
    "#7_6"
   ]
  },
  {
   "cell_type": "code",
   "execution_count": 17,
   "metadata": {},
   "outputs": [
    {
     "name": "stdout",
     "output_type": "stream",
     "text": [
      "Mean of ENV1 is:\n",
      "52.14\n",
      "\n",
      "Median of ENV1 is:\n",
      "50.0\n",
      "\n",
      "Mode of ENV1 is:\n",
      "0    47.0\n",
      "dtype: float64\n",
      "\n",
      "Standard Error of ENV1 is:\n",
      "1.41412984527\n"
     ]
    }
   ],
   "source": [
    "print('Mean of ENV1 is:')\n",
    "print(df2['env1'].mean())\n",
    "print('')\n",
    "print('Median of ENV1 is:')\n",
    "print(df2['env1'].median())\n",
    "print('')\n",
    "print('Mode of ENV1 is:')\n",
    "print(df2['env1'].mode())\n",
    "print('')\n",
    "stdev = df2['env1'].std()\n",
    "standard_error = (stdev / (df2.env1.count()**0.5)) * 1.96\n",
    "print('Standard Error of ENV1 is:')\n",
    "print(standard_error)"
   ]
  },
  {
   "cell_type": "code",
   "execution_count": 18,
   "metadata": {},
   "outputs": [
    {
     "name": "stdout",
     "output_type": "stream",
     "text": [
      "Mean of ENV2 is:\n",
      "53.335\n",
      "\n",
      "Median of ENV2 is:\n",
      "53.5\n",
      "\n",
      "Mode of ENV2 is:\n",
      "0    54.0\n",
      "1    57.0\n",
      "dtype: float64\n",
      "\n",
      "Standard Error of ENV2 is:\n",
      "1.33298230722\n"
     ]
    }
   ],
   "source": [
    "print('Mean of ENV2 is:')\n",
    "print(df2['env2'].mean())\n",
    "print('')\n",
    "print('Median of ENV2 is:')\n",
    "print(df2['env2'].median())\n",
    "print('')\n",
    "print('Mode of ENV2 is:')\n",
    "print(df2['env2'].mode())\n",
    "print('')\n",
    "stdev = df2['env2'].std()\n",
    "standard_error = (stdev / (df2.env1.count()**0.5)) * 1.96\n",
    "print('Standard Error of ENV2 is:')\n",
    "print(standard_error)"
   ]
  },
  {
   "cell_type": "code",
   "execution_count": 19,
   "metadata": {
    "collapsed": true
   },
   "outputs": [],
   "source": [
    "#7_7"
   ]
  },
  {
   "cell_type": "code",
   "execution_count": 20,
   "metadata": {},
   "outputs": [
    {
     "data": {
      "text/plain": [
       "Ttest_relResult(statistic=-2.221428352276718, pvalue=0.027449009265019714)"
      ]
     },
     "execution_count": 20,
     "metadata": {},
     "output_type": "execute_result"
    }
   ],
   "source": [
    "env1_scores = df2['env1']\n",
    "env2_scores = df2['env2']\n",
    "stats.ttest_rel(env1_scores, env2_scores, axis=0)"
   ]
  },
  {
   "cell_type": "code",
   "execution_count": 21,
   "metadata": {
    "collapsed": true
   },
   "outputs": [],
   "source": [
    "#7_8"
   ]
  },
  {
   "cell_type": "code",
   "execution_count": 22,
   "metadata": {},
   "outputs": [
    {
     "data": {
      "image/png": "[encoded data removed]",
      "text/plain": [
       "<matplotlib.figure.Figure at 0x11cff10b8>"
      ]
     },
     "metadata": {},
     "output_type": "display_data"
    }
   ],
   "source": [
    "x = df2['env1'].dropna().tolist()\n",
    "plt.figure(4, figsize=(8, 6));\n",
    "n, bins, patches = plt.hist(x, 10, normed=1, facecolor='green', alpha=0.5)\n",
    "plt.xlabel('Score')\n",
    "plt.ylabel('Probability')\n",
    "plt.title(r'$\\mathrm{Histogram\\ of\\ Env1 scores}$')\n",
    "plt.grid(True)\n",
    "plt.show()"
   ]
  },
  {
   "cell_type": "code",
   "execution_count": 23,
   "metadata": {},
   "outputs": [
    {
     "data": {
      "image/png": "[encoded data removed]",
      "text/plain": [
       "<matplotlib.figure.Figure at 0x11d143c88>"
      ]
     },
     "metadata": {},
     "output_type": "display_data"
    }
   ],
   "source": [
    "x = df2['env2'].dropna().tolist()\n",
    "plt.figure(5, figsize=(8, 6));\n",
    "n, bins, patches = plt.hist(x, 10, normed=1, facecolor='green', alpha=0.5)\n",
    "plt.xlabel('Score')\n",
    "plt.ylabel('Probability')\n",
    "plt.title(r'$\\mathrm{Histogram\\ of\\ Env2 scores}$')\n",
    "plt.grid(True)\n",
    "plt.show()"
   ]
  },
  {
   "cell_type": "code",
   "execution_count": 24,
   "metadata": {
    "collapsed": true
   },
   "outputs": [],
   "source": [
    "#7_9"
   ]
  },
  {
   "cell_type": "code",
   "execution_count": 25,
   "metadata": {},
   "outputs": [
    {
     "data": {
      "image/png": "[encoded data removed]",
      "text/plain": [
       "<matplotlib.figure.Figure at 0x11d2ffd30>"
      ]
     },
     "metadata": {},
     "output_type": "display_data"
    }
   ],
   "source": [
    "sm.qqplot(df2['env1'])#, line='r')\n",
    "pylab.show()"
   ]
  },
  {
   "cell_type": "code",
   "execution_count": 26,
   "metadata": {},
   "outputs": [
    {
     "data": {
      "image/png": "[encoded data removed]",
      "text/plain": [
       "<matplotlib.figure.Figure at 0x11d403be0>"
      ]
     },
     "metadata": {},
     "output_type": "display_data"
    }
   ],
   "source": [
    "sm.qqplot(df2['env2'])#, line='r')\n",
    "pylab.show()"
   ]
  },
  {
   "cell_type": "code",
   "execution_count": 27,
   "metadata": {
    "collapsed": true
   },
   "outputs": [],
   "source": [
    "#7_10"
   ]
  },
  {
   "cell_type": "code",
   "execution_count": 28,
   "metadata": {},
   "outputs": [
    {
     "data": {
      "text/plain": [
       "KstestResult(statistic=1.0, pvalue=0.0)"
      ]
     },
     "execution_count": 28,
     "metadata": {},
     "output_type": "execute_result"
    }
   ],
   "source": [
    "#Kolmogorov-Smirnov\n",
    "stats.kstest(df2['env1'].tolist(), 'norm')"
   ]
  },
  {
   "cell_type": "code",
   "execution_count": 29,
   "metadata": {},
   "outputs": [
    {
     "data": {
      "text/plain": [
       "KstestResult(statistic=1.0, pvalue=0.0)"
      ]
     },
     "execution_count": 29,
     "metadata": {},
     "output_type": "execute_result"
    }
   ],
   "source": [
    "#Kolmogorov-Smirnov\n",
    "stats.kstest(df2['env2'], 'norm', N=20, alternative='two-sided', mode='approx')"
   ]
  },
  {
   "cell_type": "code",
   "execution_count": 30,
   "metadata": {
    "collapsed": true
   },
   "outputs": [],
   "source": [
    "#7_11"
   ]
  },
  {
   "cell_type": "code",
   "execution_count": 31,
   "metadata": {},
   "outputs": [
    {
     "data": {
      "text/plain": [
       "(0.9806275367736816, 0.0073057617992162704)"
      ]
     },
     "execution_count": 31,
     "metadata": {},
     "output_type": "execute_result"
    }
   ],
   "source": [
    "stats.shapiro(df2['env1'], a=None, reta=False)"
   ]
  },
  {
   "cell_type": "code",
   "execution_count": 32,
   "metadata": {},
   "outputs": [
    {
     "data": {
      "text/plain": [
       "(0.976353108882904, 0.0018621913623064756)"
      ]
     },
     "execution_count": 32,
     "metadata": {},
     "output_type": "execute_result"
    }
   ],
   "source": [
    "stats.shapiro(df2['env2'], a=None, reta=False)"
   ]
  },
  {
   "cell_type": "code",
   "execution_count": 33,
   "metadata": {
    "collapsed": true
   },
   "outputs": [],
   "source": [
    "#7_12"
   ]
  },
  {
   "cell_type": "code",
   "execution_count": 34,
   "metadata": {},
   "outputs": [
    {
     "data": {
      "text/plain": [
       "MannwhitneyuResult(statistic=2692.0, pvalue=1.3668492175300268e-08)"
      ]
     },
     "execution_count": 34,
     "metadata": {},
     "output_type": "execute_result"
    }
   ],
   "source": [
    "stats.mannwhitneyu(df2[df2['science_student']=='rike']['env1'], df2[df2['science_student']=='bumke']['env1'], \\\n",
    "                   use_continuity=True, alternative=None)"
   ]
  },
  {
   "cell_type": "code",
   "execution_count": 35,
   "metadata": {
    "collapsed": true
   },
   "outputs": [],
   "source": [
    "#7_13"
   ]
  },
  {
   "cell_type": "code",
   "execution_count": 36,
   "metadata": {},
   "outputs": [
    {
     "data": {
      "text/plain": [
       "MannwhitneyuResult(statistic=3803.5, pvalue=0.0017026342602475481)"
      ]
     },
     "execution_count": 36,
     "metadata": {},
     "output_type": "execute_result"
    }
   ],
   "source": [
    "stats.mannwhitneyu(df2[df2['sex']=='female']['env1'], df2[df2['sex']=='male']['env1'], \\\n",
    "                   use_continuity=True, alternative=None)"
   ]
  },
  {
   "cell_type": "code",
   "execution_count": 37,
   "metadata": {
    "collapsed": true
   },
   "outputs": [],
   "source": [
    "#7_14"
   ]
  },
  {
   "cell_type": "code",
   "execution_count": 38,
   "metadata": {},
   "outputs": [
    {
     "data": {
      "text/plain": [
       "WilcoxonResult(statistic=7377.5, pvalue=0.010627109993796879)"
      ]
     },
     "execution_count": 38,
     "metadata": {},
     "output_type": "execute_result"
    }
   ],
   "source": [
    "stats.wilcoxon(df2['env1'], df2['env2'], zero_method='wilcox')"
   ]
  },
  {
   "cell_type": "code",
   "execution_count": null,
   "metadata": {
    "collapsed": true
   },
   "outputs": [],
   "source": []
  },
  {
   "cell_type": "code",
   "execution_count": null,
   "metadata": {
    "collapsed": true
   },
   "outputs": [],
   "source": []
  }
 ],
 "metadata": {
  "kernelspec": {
   "display_name": "Python 3",
   "language": "python",
   "name": "python3"
  },
  "language_info": {
   "codemirror_mode": {
    "name": "ipython",
    "version": 3
   },
   "file_extension": ".py",
   "mimetype": "text/x-python",
   "name": "python",
   "nbconvert_exporter": "python",
   "pygments_lexer": "ipython3",
   "version": "3.6.4"
  }
 },
 "nbformat": 4,
 "nbformat_minor": 2
}
