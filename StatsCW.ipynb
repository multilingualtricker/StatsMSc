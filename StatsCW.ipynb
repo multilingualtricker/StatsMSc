{
 "cells": [
  {
   "cell_type": "code",
   "execution_count": 1,
   "metadata": {
    "collapsed": true
   },
   "outputs": [],
   "source": [
    "try:\n",
    "    from IPython import get_ipython\n",
    "    get_ipython().magic('reset -f')  \n",
    "except:\n",
    "    pass\n",
    "from IPython import get_ipython\n",
    "ipython = get_ipython().magic\n",
    "import io\n",
    "import os\n",
    "import sys\n",
    "os.chdir('/Users/markprosser/Desktop/PythonScripts')\n",
    "import MCP_functions as MCP\n",
    "import numpy as np\n",
    "import matplotlib.pyplot as plt\n",
    "import pickle\n",
    "plt.close(\"all\")\n",
    "import warnings\n",
    "warnings.filterwarnings('ignore')\n",
    "\n",
    "import pandas as pd\n",
    "import savReaderWriter as spss\n",
    "import scipy.stats as stats\n",
    "from statsmodels.stats.multicomp import pairwise_tukeyhsd\n",
    "import statsmodels.api as sm\n",
    "import pylab\n",
    "import seaborn as sns"
   ]
  },
  {
   "cell_type": "code",
   "execution_count": 2,
   "metadata": {
    "collapsed": true
   },
   "outputs": [],
   "source": [
    "df1 = pd.read_excel(\"/Users/markprosser/Desktop/MScSTATS/assessment/data.xlsx\")"
   ]
  },
  {
   "cell_type": "code",
   "execution_count": 3,
   "metadata": {},
   "outputs": [
    {
     "data": {
      "text/html": [
       "<div>\n",
       "<style>\n",
       "    .dataframe thead tr:only-child th {\n",
       "        text-align: right;\n",
       "    }\n",
       "\n",
       "    .dataframe thead th {\n",
       "        text-align: left;\n",
       "    }\n",
       "\n",
       "    .dataframe tbody tr th {\n",
       "        vertical-align: top;\n",
       "    }\n",
       "</style>\n",
       "<table border=\"1\" class=\"dataframe\">\n",
       "  <thead>\n",
       "    <tr style=\"text-align: right;\">\n",
       "      <th></th>\n",
       "      <th>Country</th>\n",
       "      <th>Region</th>\n",
       "      <th>Incomegroup</th>\n",
       "      <th>GHG</th>\n",
       "      <th>percurbanpopulation</th>\n",
       "      <th>Population (People)</th>\n",
       "      <th>area</th>\n",
       "      <th>GDP</th>\n",
       "      <th>netmigration</th>\n",
       "      <th>gini</th>\n",
       "      <th>annual_temp</th>\n",
       "    </tr>\n",
       "  </thead>\n",
       "  <tbody>\n",
       "    <tr>\n",
       "      <th>0</th>\n",
       "      <td>Afghanistan</td>\n",
       "      <td>6</td>\n",
       "      <td>4</td>\n",
       "      <td>33.366148</td>\n",
       "      <td>26</td>\n",
       "      <td>32758020</td>\n",
       "      <td>652860</td>\n",
       "      <td>19990.31716</td>\n",
       "      <td>473</td>\n",
       "      <td>-9.0</td>\n",
       "      <td>26.00</td>\n",
       "    </tr>\n",
       "    <tr>\n",
       "      <th>1</th>\n",
       "      <td>Albania</td>\n",
       "      <td>2</td>\n",
       "      <td>2</td>\n",
       "      <td>8.678753</td>\n",
       "      <td>56</td>\n",
       "      <td>2889104</td>\n",
       "      <td>27400</td>\n",
       "      <td>12768.22939</td>\n",
       "      <td>-92</td>\n",
       "      <td>29.0</td>\n",
       "      <td>25.50</td>\n",
       "    </tr>\n",
       "    <tr>\n",
       "      <th>2</th>\n",
       "      <td>Algeria</td>\n",
       "      <td>4</td>\n",
       "      <td>2</td>\n",
       "      <td>201.685126</td>\n",
       "      <td>70</td>\n",
       "      <td>39113313</td>\n",
       "      <td>2381740</td>\n",
       "      <td>182889.35450</td>\n",
       "      <td>-143</td>\n",
       "      <td>-9.0</td>\n",
       "      <td>27.00</td>\n",
       "    </tr>\n",
       "    <tr>\n",
       "      <th>3</th>\n",
       "      <td>Andorra</td>\n",
       "      <td>2</td>\n",
       "      <td>1</td>\n",
       "      <td>0.496379</td>\n",
       "      <td>86</td>\n",
       "      <td>79223</td>\n",
       "      <td>470</td>\n",
       "      <td>NaN</td>\n",
       "      <td>-9</td>\n",
       "      <td>-9.0</td>\n",
       "      <td>24.55</td>\n",
       "    </tr>\n",
       "    <tr>\n",
       "      <th>4</th>\n",
       "      <td>Angola</td>\n",
       "      <td>7</td>\n",
       "      <td>2</td>\n",
       "      <td>252.092930</td>\n",
       "      <td>43</td>\n",
       "      <td>26920466</td>\n",
       "      <td>1246700</td>\n",
       "      <td>100886.28660</td>\n",
       "      <td>102</td>\n",
       "      <td>42.7</td>\n",
       "      <td>-9.00</td>\n",
       "    </tr>\n",
       "  </tbody>\n",
       "</table>\n",
       "</div>"
      ],
      "text/plain": [
       "       Country  Region  Incomegroup         GHG  percurbanpopulation  \\\n",
       "0  Afghanistan       6            4   33.366148                   26   \n",
       "1      Albania       2            2    8.678753                   56   \n",
       "2      Algeria       4            2  201.685126                   70   \n",
       "3      Andorra       2            1    0.496379                   86   \n",
       "4       Angola       7            2  252.092930                   43   \n",
       "\n",
       "   Population (People)     area           GDP  netmigration  gini  annual_temp  \n",
       "0             32758020   652860   19990.31716           473  -9.0        26.00  \n",
       "1              2889104    27400   12768.22939           -92  29.0        25.50  \n",
       "2             39113313  2381740  182889.35450          -143  -9.0        27.00  \n",
       "3                79223      470           NaN            -9  -9.0        24.55  \n",
       "4             26920466  1246700  100886.28660           102  42.7        -9.00  "
      ]
     },
     "execution_count": 3,
     "metadata": {},
     "output_type": "execute_result"
    }
   ],
   "source": [
    "df1.head()"
   ]
  },
  {
   "cell_type": "code",
   "execution_count": 4,
   "metadata": {
    "collapsed": true
   },
   "outputs": [],
   "source": [
    "df1['ghgpc'] = df1['GHG'] / (df1['Population (People)']/1000000)"
   ]
  },
  {
   "cell_type": "code",
   "execution_count": 17,
   "metadata": {},
   "outputs": [
    {
     "data": {
      "text/html": [
       "<div>\n",
       "<style>\n",
       "    .dataframe thead tr:only-child th {\n",
       "        text-align: right;\n",
       "    }\n",
       "\n",
       "    .dataframe thead th {\n",
       "        text-align: left;\n",
       "    }\n",
       "\n",
       "    .dataframe tbody tr th {\n",
       "        vertical-align: top;\n",
       "    }\n",
       "</style>\n",
       "<table border=\"1\" class=\"dataframe\">\n",
       "  <thead>\n",
       "    <tr style=\"text-align: right;\">\n",
       "      <th></th>\n",
       "      <th>Country</th>\n",
       "      <th>Region</th>\n",
       "      <th>Incomegroup</th>\n",
       "      <th>GHG</th>\n",
       "      <th>percurbanpopulation</th>\n",
       "      <th>Population (People)</th>\n",
       "      <th>area</th>\n",
       "      <th>GDP</th>\n",
       "      <th>netmigration</th>\n",
       "      <th>gini</th>\n",
       "      <th>annual_temp</th>\n",
       "      <th>ghgpc</th>\n",
       "    </tr>\n",
       "  </thead>\n",
       "  <tbody>\n",
       "    <tr>\n",
       "      <th>177</th>\n",
       "      <td>Venezuela, RB</td>\n",
       "      <td>3</td>\n",
       "      <td>2</td>\n",
       "      <td>337.535041</td>\n",
       "      <td>89</td>\n",
       "      <td>30738378</td>\n",
       "      <td>882050</td>\n",
       "      <td>NaN</td>\n",
       "      <td>-69</td>\n",
       "      <td>46.9</td>\n",
       "      <td>2.1</td>\n",
       "      <td>10.980900</td>\n",
       "    </tr>\n",
       "    <tr>\n",
       "      <th>178</th>\n",
       "      <td>Vietnam</td>\n",
       "      <td>1</td>\n",
       "      <td>3</td>\n",
       "      <td>251.945226</td>\n",
       "      <td>33</td>\n",
       "      <td>90728900</td>\n",
       "      <td>310070</td>\n",
       "      <td>144834.68890</td>\n",
       "      <td>-200</td>\n",
       "      <td>38.7</td>\n",
       "      <td>21.8</td>\n",
       "      <td>2.776902</td>\n",
       "    </tr>\n",
       "    <tr>\n",
       "      <th>179</th>\n",
       "      <td>Yemen, Rep.</td>\n",
       "      <td>4</td>\n",
       "      <td>3</td>\n",
       "      <td>34.008206</td>\n",
       "      <td>34</td>\n",
       "      <td>26246327</td>\n",
       "      <td>527970</td>\n",
       "      <td>28900.28849</td>\n",
       "      <td>-50</td>\n",
       "      <td>-9.0</td>\n",
       "      <td>-9.0</td>\n",
       "      <td>1.295732</td>\n",
       "    </tr>\n",
       "    <tr>\n",
       "      <th>180</th>\n",
       "      <td>Zambia</td>\n",
       "      <td>7</td>\n",
       "      <td>3</td>\n",
       "      <td>379.890668</td>\n",
       "      <td>40</td>\n",
       "      <td>15620974</td>\n",
       "      <td>743390</td>\n",
       "      <td>25318.83846</td>\n",
       "      <td>-34</td>\n",
       "      <td>55.6</td>\n",
       "      <td>25.4</td>\n",
       "      <td>24.319269</td>\n",
       "    </tr>\n",
       "    <tr>\n",
       "      <th>181</th>\n",
       "      <td>Zimbabwe</td>\n",
       "      <td>7</td>\n",
       "      <td>4</td>\n",
       "      <td>63.791731</td>\n",
       "      <td>33</td>\n",
       "      <td>15411675</td>\n",
       "      <td>386850</td>\n",
       "      <td>14372.13260</td>\n",
       "      <td>-220</td>\n",
       "      <td>43.2</td>\n",
       "      <td>-9.0</td>\n",
       "      <td>4.139182</td>\n",
       "    </tr>\n",
       "  </tbody>\n",
       "</table>\n",
       "</div>"
      ],
      "text/plain": [
       "           Country  Region  Incomegroup         GHG  percurbanpopulation  \\\n",
       "177  Venezuela, RB       3            2  337.535041                   89   \n",
       "178        Vietnam       1            3  251.945226                   33   \n",
       "179    Yemen, Rep.       4            3   34.008206                   34   \n",
       "180         Zambia       7            3  379.890668                   40   \n",
       "181       Zimbabwe       7            4   63.791731                   33   \n",
       "\n",
       "     Population (People)    area           GDP  netmigration  gini  \\\n",
       "177             30738378  882050           NaN           -69  46.9   \n",
       "178             90728900  310070  144834.68890          -200  38.7   \n",
       "179             26246327  527970   28900.28849           -50  -9.0   \n",
       "180             15620974  743390   25318.83846           -34  55.6   \n",
       "181             15411675  386850   14372.13260          -220  43.2   \n",
       "\n",
       "     annual_temp      ghgpc  \n",
       "177          2.1  10.980900  \n",
       "178         21.8   2.776902  \n",
       "179         -9.0   1.295732  \n",
       "180         25.4  24.319269  \n",
       "181         -9.0   4.139182  "
      ]
     },
     "execution_count": 17,
     "metadata": {},
     "output_type": "execute_result"
    }
   ],
   "source": [
    "df1.tail()"
   ]
  },
  {
   "cell_type": "code",
   "execution_count": 18,
   "metadata": {},
   "outputs": [
    {
     "name": "stdout",
     "output_type": "stream",
     "text": [
      "182\n",
      "182\n",
      "182\n"
     ]
    }
   ],
   "source": [
    "print(len(df1))\n",
    "df1 = df1.dropna(subset=['GHG'])\n",
    "print(len(df1))\n",
    "df1 = df1.dropna(subset=['Population (People)'])\n",
    "print(len(df1))"
   ]
  },
  {
   "cell_type": "code",
   "execution_count": 12,
   "metadata": {},
   "outputs": [
    {
     "data": {
      "image/png": "[encoded data removed]",
      "text/plain": [
       "<matplotlib.figure.Figure at 0x11ae905f8>"
      ]
     },
     "metadata": {},
     "output_type": "display_data"
    }
   ],
   "source": [
    "x = df1['ghgpc'].dropna().tolist()\n",
    "plt.figure(1, figsize=(8, 6));\n",
    "n, bins, patches = plt.hist(x, 20, normed=1, facecolor='green', alpha=0.5)\n",
    "plt.xlabel('Tonnes/person')\n",
    "plt.ylabel('Probability')\n",
    "plt.title(r'$\\mathrm{Histogram\\ of\\ GHG\\ per\\ capita\\ in\\ 182\\ different\\ countries}$')\n",
    "plt.grid(True)\n",
    "plt.show()"
   ]
  },
  {
   "cell_type": "code",
   "execution_count": 8,
   "metadata": {},
   "outputs": [
    {
     "name": "stdout",
     "output_type": "stream",
     "text": [
      "Mean of ghgpc is:\n",
      "7.935571770214615\n",
      "\n",
      "Median of ghgpc is:\n",
      "5.478352076653998\n",
      "\n",
      "Stdev of ghgpc is:\n",
      "8.418009179045622\n",
      "\n",
      "Max of ghgpc is:\n",
      "52.5993961057\n",
      "\n",
      "Min of ghgpc is:\n",
      "0.532735932487\n",
      "\n",
      "Range of ghgpc is:\n",
      "52.0666601732\n",
      "\n",
      "Var of ghgpc is:\n",
      "70.86287853849636\n",
      "\n",
      "Quantile of ghgpc is:\n",
      "0.25    2.475999\n",
      "0.50    5.478352\n",
      "0.75    9.661915\n",
      "Name: ghgpc, dtype: float64\n"
     ]
    }
   ],
   "source": [
    "print('Mean of ghgpc is:')\n",
    "print(df1['ghgpc'].mean())\n",
    "print('')\n",
    "print('Median of ghgpc is:')\n",
    "print(df1['ghgpc'].median())\n",
    "print('')\n",
    "# print('Mode of ghgpc is:')\n",
    "# print(df1['ghgpc'].mode())\n",
    "# print('')\n",
    "print('Stdev of ghgpc is:')\n",
    "print(df1['ghgpc'].std())\n",
    "print('')\n",
    "print('Max of ghgpc is:')\n",
    "print(df1['ghgpc'].max())\n",
    "print('')\n",
    "print('Min of ghgpc is:')\n",
    "print(df1['ghgpc'].min())\n",
    "print('')\n",
    "print('Range of ghgpc is:')\n",
    "print(df1['ghgpc'].max()-df1['ghgpc'].min())\n",
    "print('')\n",
    "print('Var of ghgpc is:')\n",
    "print(df1['ghgpc'].var())\n",
    "print('')\n",
    "print('Quantile of ghgpc is:')\n",
    "print(df1['ghgpc'].quantile([0.25, 0.5, 0.75]))"
   ]
  },
  {
   "cell_type": "code",
   "execution_count": 9,
   "metadata": {},
   "outputs": [
    {
     "name": "stdout",
     "output_type": "stream",
     "text": [
      "47495.51869248402\n",
      "7167144722\n",
      "6.626839632063456\n"
     ]
    }
   ],
   "source": [
    "#to find global median, mean\n",
    "totghg = sum(df1['GHG'].tolist())\n",
    "print(totghg)\n",
    "totpop = sum(df1['Population (People)'].tolist())\n",
    "print(totpop)\n",
    "meanghgpc = (totghg*1000000) / totpop\n",
    "print(meanghgpc)"
   ]
  },
  {
   "cell_type": "code",
   "execution_count": 10,
   "metadata": {},
   "outputs": [
    {
     "data": {
      "text/html": [
       "<div>\n",
       "<style>\n",
       "    .dataframe thead tr:only-child th {\n",
       "        text-align: right;\n",
       "    }\n",
       "\n",
       "    .dataframe thead th {\n",
       "        text-align: left;\n",
       "    }\n",
       "\n",
       "    .dataframe tbody tr th {\n",
       "        vertical-align: top;\n",
       "    }\n",
       "</style>\n",
       "<table border=\"1\" class=\"dataframe\">\n",
       "  <thead>\n",
       "    <tr style=\"text-align: right;\">\n",
       "      <th></th>\n",
       "      <th>Country</th>\n",
       "      <th>Region</th>\n",
       "      <th>Incomegroup</th>\n",
       "      <th>GHG</th>\n",
       "      <th>percurbanpopulation</th>\n",
       "      <th>Population (People)</th>\n",
       "      <th>area</th>\n",
       "      <th>GDP</th>\n",
       "      <th>netmigration</th>\n",
       "      <th>gini</th>\n",
       "      <th>annual_temp</th>\n",
       "      <th>ghgpc</th>\n",
       "      <th>cumpop</th>\n",
       "    </tr>\n",
       "  </thead>\n",
       "  <tbody>\n",
       "    <tr>\n",
       "      <th>0</th>\n",
       "      <td>Costa Rica</td>\n",
       "      <td>3</td>\n",
       "      <td>2</td>\n",
       "      <td>2.534531</td>\n",
       "      <td>76</td>\n",
       "      <td>4757575</td>\n",
       "      <td>51060</td>\n",
       "      <td>43186.481740</td>\n",
       "      <td>20</td>\n",
       "      <td>49.2</td>\n",
       "      <td>25.25</td>\n",
       "      <td>0.532736</td>\n",
       "      <td>4757575</td>\n",
       "    </tr>\n",
       "    <tr>\n",
       "      <th>1</th>\n",
       "      <td>Burundi</td>\n",
       "      <td>7</td>\n",
       "      <td>4</td>\n",
       "      <td>5.558833</td>\n",
       "      <td>12</td>\n",
       "      <td>9891790</td>\n",
       "      <td>25680</td>\n",
       "      <td>2404.713060</td>\n",
       "      <td>40</td>\n",
       "      <td>33.4</td>\n",
       "      <td>-9.00</td>\n",
       "      <td>0.561964</td>\n",
       "      <td>14649365</td>\n",
       "    </tr>\n",
       "    <tr>\n",
       "      <th>2</th>\n",
       "      <td>Comoros</td>\n",
       "      <td>7</td>\n",
       "      <td>4</td>\n",
       "      <td>0.464842</td>\n",
       "      <td>28</td>\n",
       "      <td>759385</td>\n",
       "      <td>1861</td>\n",
       "      <td>592.198663</td>\n",
       "      <td>-10</td>\n",
       "      <td>55.9</td>\n",
       "      <td>5.60</td>\n",
       "      <td>0.612129</td>\n",
       "      <td>15408750</td>\n",
       "    </tr>\n",
       "    <tr>\n",
       "      <th>3</th>\n",
       "      <td>Kenya</td>\n",
       "      <td>7</td>\n",
       "      <td>3</td>\n",
       "      <td>29.294122</td>\n",
       "      <td>25</td>\n",
       "      <td>46024250</td>\n",
       "      <td>569140</td>\n",
       "      <td>49505.467340</td>\n",
       "      <td>-50</td>\n",
       "      <td>48.5</td>\n",
       "      <td>25.85</td>\n",
       "      <td>0.636493</td>\n",
       "      <td>61433000</td>\n",
       "    </tr>\n",
       "    <tr>\n",
       "      <th>4</th>\n",
       "      <td>Rwanda</td>\n",
       "      <td>7</td>\n",
       "      <td>4</td>\n",
       "      <td>7.589997</td>\n",
       "      <td>28</td>\n",
       "      <td>11345357</td>\n",
       "      <td>24670</td>\n",
       "      <td>7632.576654</td>\n",
       "      <td>-75</td>\n",
       "      <td>50.4</td>\n",
       "      <td>11.50</td>\n",
       "      <td>0.668996</td>\n",
       "      <td>72778357</td>\n",
       "    </tr>\n",
       "  </tbody>\n",
       "</table>\n",
       "</div>"
      ],
      "text/plain": [
       "      Country  Region  Incomegroup        GHG  percurbanpopulation  \\\n",
       "0  Costa Rica       3            2   2.534531                   76   \n",
       "1     Burundi       7            4   5.558833                   12   \n",
       "2     Comoros       7            4   0.464842                   28   \n",
       "3       Kenya       7            3  29.294122                   25   \n",
       "4      Rwanda       7            4   7.589997                   28   \n",
       "\n",
       "   Population (People)    area           GDP  netmigration  gini  annual_temp  \\\n",
       "0              4757575   51060  43186.481740            20  49.2        25.25   \n",
       "1              9891790   25680   2404.713060            40  33.4        -9.00   \n",
       "2               759385    1861    592.198663           -10  55.9         5.60   \n",
       "3             46024250  569140  49505.467340           -50  48.5        25.85   \n",
       "4             11345357   24670   7632.576654           -75  50.4        11.50   \n",
       "\n",
       "      ghgpc    cumpop  \n",
       "0  0.532736   4757575  \n",
       "1  0.561964  14649365  \n",
       "2  0.612129  15408750  \n",
       "3  0.636493  61433000  \n",
       "4  0.668996  72778357  "
      ]
     },
     "execution_count": 10,
     "metadata": {},
     "output_type": "execute_result"
    }
   ],
   "source": [
    "df2 = pd.DataFrame.copy(df1)\n",
    "df2 = df2.sort_values(by='ghgpc', ascending=True)\n",
    "# df2['cumpop'] = 'NaN'\n",
    "df2 = df2.reset_index(drop=True)\n",
    "df2['cumpop'] = 'NaN'\n",
    "df2['cumpop'][0] = df2['Population (People)'][0]\n",
    "df2\n",
    "\n",
    "for i in range(1, len(df2)):\n",
    "     df2['cumpop'][i] = df2['cumpop'][i-1] + df2['Population (People)'][i]\n",
    "    \n",
    "df2.head()"
   ]
  },
  {
   "cell_type": "code",
   "execution_count": 11,
   "metadata": {},
   "outputs": [
    {
     "data": {
      "text/plain": [
       "5.8693550799538894"
      ]
     },
     "execution_count": 11,
     "metadata": {},
     "output_type": "execute_result"
    }
   ],
   "source": [
    "df2[97:100]\n",
    "#lives in mexico\n",
    "df2['ghgpc'][98]"
   ]
  },
  {
   "cell_type": "markdown",
   "metadata": {},
   "source": [
    "#sample answer 1\n",
    "Descriptive statistics for per capita annual greenhouse gas emissions (tonnes per person) for 182 countries.\n",
    "\n",
    "Here is a histogram of the data\n",
    "\"histogram here\"\n",
    "\n",
    "#########central tendency\n",
    "if we treat every country as having equal population we get a \n",
    "mean = 7.94 tonnes/GHG/year/capita \n",
    "median = 5.48 tonnes, \n",
    "\n",
    "however if we take into account that countries populations vary then\n",
    "\n",
    "mean = 6.63 tonnes\n",
    "median = 5.87 tonnes (middle man living in Mexico)\n",
    "\n",
    "#########dispersion\n",
    "if we treat each country as having equal population we get a\n",
    "standard deviation of \n",
    "\n",
    "taking into account the varying populations would have made the standard deviation calculation hard as it would have involved creating a dataset 7 billion long.\n",
    "\n",
    "Even this wouldn't true global per capita GHG emissions as it fails to take into account that not everyone within a given country will have the same emissions - no actually it will as more or less..."
   ]
  },
  {
   "cell_type": "code",
   "execution_count": 12,
   "metadata": {},
   "outputs": [
    {
     "data": {
      "text/html": [
       "<div>\n",
       "<style>\n",
       "    .dataframe thead tr:only-child th {\n",
       "        text-align: right;\n",
       "    }\n",
       "\n",
       "    .dataframe thead th {\n",
       "        text-align: left;\n",
       "    }\n",
       "\n",
       "    .dataframe tbody tr th {\n",
       "        vertical-align: top;\n",
       "    }\n",
       "</style>\n",
       "<table border=\"1\" class=\"dataframe\">\n",
       "  <thead>\n",
       "    <tr style=\"text-align: right;\">\n",
       "      <th></th>\n",
       "      <th>Country</th>\n",
       "      <th>Region</th>\n",
       "      <th>Incomegroup</th>\n",
       "      <th>GHG</th>\n",
       "      <th>percurbanpopulation</th>\n",
       "      <th>Population (People)</th>\n",
       "      <th>area</th>\n",
       "      <th>GDP</th>\n",
       "      <th>netmigration</th>\n",
       "      <th>gini</th>\n",
       "      <th>annual_temp</th>\n",
       "      <th>ghgpc</th>\n",
       "    </tr>\n",
       "  </thead>\n",
       "  <tbody>\n",
       "    <tr>\n",
       "      <th>129</th>\n",
       "      <td>Philippines</td>\n",
       "      <td>1</td>\n",
       "      <td>3</td>\n",
       "      <td>121.338722</td>\n",
       "      <td>44</td>\n",
       "      <td>100102249</td>\n",
       "      <td>298170</td>\n",
       "      <td>2.508381e+05</td>\n",
       "      <td>-700</td>\n",
       "      <td>43.0</td>\n",
       "      <td>5.65</td>\n",
       "      <td>1.212148</td>\n",
       "    </tr>\n",
       "    <tr>\n",
       "      <th>27</th>\n",
       "      <td>Cambodia</td>\n",
       "      <td>1</td>\n",
       "      <td>3</td>\n",
       "      <td>52.617046</td>\n",
       "      <td>21</td>\n",
       "      <td>15270790</td>\n",
       "      <td>176520</td>\n",
       "      <td>1.485816e+04</td>\n",
       "      <td>-150</td>\n",
       "      <td>30.8</td>\n",
       "      <td>8.65</td>\n",
       "      <td>3.445601</td>\n",
       "    </tr>\n",
       "    <tr>\n",
       "      <th>135</th>\n",
       "      <td>Samoa</td>\n",
       "      <td>1</td>\n",
       "      <td>3</td>\n",
       "      <td>0.470930</td>\n",
       "      <td>19</td>\n",
       "      <td>192290</td>\n",
       "      <td>2830</td>\n",
       "      <td>6.777549e+02</td>\n",
       "      <td>-13</td>\n",
       "      <td>42.7</td>\n",
       "      <td>27.65</td>\n",
       "      <td>2.449064</td>\n",
       "    </tr>\n",
       "    <tr>\n",
       "      <th>32</th>\n",
       "      <td>China</td>\n",
       "      <td>1</td>\n",
       "      <td>2</td>\n",
       "      <td>11600.629250</td>\n",
       "      <td>54</td>\n",
       "      <td>1364270000</td>\n",
       "      <td>9388211</td>\n",
       "      <td>8.333287e+06</td>\n",
       "      <td>-1800</td>\n",
       "      <td>42.2</td>\n",
       "      <td>26.70</td>\n",
       "      <td>8.503177</td>\n",
       "    </tr>\n",
       "    <tr>\n",
       "      <th>168</th>\n",
       "      <td>Tuvalu</td>\n",
       "      <td>1</td>\n",
       "      <td>2</td>\n",
       "      <td>0.017971</td>\n",
       "      <td>59</td>\n",
       "      <td>10908</td>\n",
       "      <td>30</td>\n",
       "      <td>3.580577e+01</td>\n",
       "      <td>-9</td>\n",
       "      <td>41.1</td>\n",
       "      <td>27.15</td>\n",
       "      <td>1.647467</td>\n",
       "    </tr>\n",
       "  </tbody>\n",
       "</table>\n",
       "</div>"
      ],
      "text/plain": [
       "         Country  Region  Incomegroup           GHG  percurbanpopulation  \\\n",
       "129  Philippines       1            3    121.338722                   44   \n",
       "27      Cambodia       1            3     52.617046                   21   \n",
       "135        Samoa       1            3      0.470930                   19   \n",
       "32         China       1            2  11600.629250                   54   \n",
       "168       Tuvalu       1            2      0.017971                   59   \n",
       "\n",
       "     Population (People)     area           GDP  netmigration  gini  \\\n",
       "129            100102249   298170  2.508381e+05          -700  43.0   \n",
       "27              15270790   176520  1.485816e+04          -150  30.8   \n",
       "135               192290     2830  6.777549e+02           -13  42.7   \n",
       "32            1364270000  9388211  8.333287e+06         -1800  42.2   \n",
       "168                10908       30  3.580577e+01            -9  41.1   \n",
       "\n",
       "     annual_temp     ghgpc  \n",
       "129         5.65  1.212148  \n",
       "27          8.65  3.445601  \n",
       "135        27.65  2.449064  \n",
       "32         26.70  8.503177  \n",
       "168        27.15  1.647467  "
      ]
     },
     "execution_count": 12,
     "metadata": {},
     "output_type": "execute_result"
    }
   ],
   "source": [
    "df3 = pd.DataFrame.copy(df1)\n",
    "df3 = df3.sort_values(by='Region', ascending=True)\n",
    "df3.head()"
   ]
  },
  {
   "cell_type": "code",
   "execution_count": 13,
   "metadata": {
    "collapsed": true
   },
   "outputs": [],
   "source": [
    "#boxplot by regions is a good chart for qu2\n",
    "#or would a bar chart be better?\n",
    "#do we have to worry about error bars, surely we are doing population mean not sample mean?\n",
    "#should set up null hypothesis\n",
    "#if not normal, try ln() or 2 others?\n",
    "#assumptions of Anova 8_15 qq histogram, kolm/smir, shap-wilk\n",
    "#kruskal wallis if not normal +dunnn bonferroni?\n",
    "#post hoc multiple comparison tests"
   ]
  },
  {
   "cell_type": "code",
   "execution_count": 14,
   "metadata": {},
   "outputs": [
    {
     "data": {
      "text/html": [
       "<div>\n",
       "<style>\n",
       "    .dataframe thead tr:only-child th {\n",
       "        text-align: right;\n",
       "    }\n",
       "\n",
       "    .dataframe thead th {\n",
       "        text-align: left;\n",
       "    }\n",
       "\n",
       "    .dataframe tbody tr th {\n",
       "        vertical-align: top;\n",
       "    }\n",
       "</style>\n",
       "<table border=\"1\" class=\"dataframe\">\n",
       "  <thead>\n",
       "    <tr style=\"text-align: right;\">\n",
       "      <th></th>\n",
       "      <th>Incomegroup</th>\n",
       "      <th>GHG</th>\n",
       "      <th>percurbanpopulation</th>\n",
       "      <th>Population (People)</th>\n",
       "      <th>area</th>\n",
       "      <th>GDP</th>\n",
       "      <th>netmigration</th>\n",
       "      <th>gini</th>\n",
       "      <th>annual_temp</th>\n",
       "      <th>ghgpc</th>\n",
       "    </tr>\n",
       "    <tr>\n",
       "      <th>Region</th>\n",
       "      <th></th>\n",
       "      <th></th>\n",
       "      <th></th>\n",
       "      <th></th>\n",
       "      <th></th>\n",
       "      <th></th>\n",
       "      <th></th>\n",
       "      <th></th>\n",
       "      <th></th>\n",
       "      <th></th>\n",
       "    </tr>\n",
       "  </thead>\n",
       "  <tbody>\n",
       "    <tr>\n",
       "      <th>1</th>\n",
       "      <td>2.321429</td>\n",
       "      <td>647.906957</td>\n",
       "      <td>51.321429</td>\n",
       "      <td>7.970581e+07</td>\n",
       "      <td>8.676512e+05</td>\n",
       "      <td>7.174369e+05</td>\n",
       "      <td>-57.321429</td>\n",
       "      <td>23.760714</td>\n",
       "      <td>17.046429</td>\n",
       "      <td>8.636066</td>\n",
       "    </tr>\n",
       "    <tr>\n",
       "      <th>2</th>\n",
       "      <td>1.510204</td>\n",
       "      <td>151.675876</td>\n",
       "      <td>65.918367</td>\n",
       "      <td>1.797772e+07</td>\n",
       "      <td>5.466755e+05</td>\n",
       "      <td>4.631736e+05</td>\n",
       "      <td>121.714286</td>\n",
       "      <td>30.312245</td>\n",
       "      <td>15.646939</td>\n",
       "      <td>7.609717</td>\n",
       "    </tr>\n",
       "    <tr>\n",
       "      <th>3</th>\n",
       "      <td>2.031250</td>\n",
       "      <td>123.368119</td>\n",
       "      <td>59.812500</td>\n",
       "      <td>1.883211e+07</td>\n",
       "      <td>6.027187e+05</td>\n",
       "      <td>1.660499e+05</td>\n",
       "      <td>-68.750000</td>\n",
       "      <td>32.521875</td>\n",
       "      <td>17.367187</td>\n",
       "      <td>9.280165</td>\n",
       "    </tr>\n",
       "    <tr>\n",
       "      <th>4</th>\n",
       "      <td>1.900000</td>\n",
       "      <td>165.082188</td>\n",
       "      <td>75.850000</td>\n",
       "      <td>2.083641e+07</td>\n",
       "      <td>5.615000e+05</td>\n",
       "      <td>1.671104e+05</td>\n",
       "      <td>-8.450000</td>\n",
       "      <td>3.290000</td>\n",
       "      <td>10.172500</td>\n",
       "      <td>13.633096</td>\n",
       "    </tr>\n",
       "    <tr>\n",
       "      <th>5</th>\n",
       "      <td>1.000000</td>\n",
       "      <td>3593.010337</td>\n",
       "      <td>81.500000</td>\n",
       "      <td>1.770540e+08</td>\n",
       "      <td>9.120465e+06</td>\n",
       "      <td>8.978533e+06</td>\n",
       "      <td>3092.000000</td>\n",
       "      <td>37.400000</td>\n",
       "      <td>3.200000</td>\n",
       "      <td>22.113908</td>\n",
       "    </tr>\n",
       "    <tr>\n",
       "      <th>6</th>\n",
       "      <td>3.142857</td>\n",
       "      <td>555.045809</td>\n",
       "      <td>30.000000</td>\n",
       "      <td>2.458663e+08</td>\n",
       "      <td>6.762086e+05</td>\n",
       "      <td>3.712456e+05</td>\n",
       "      <td>-898.571429</td>\n",
       "      <td>28.485714</td>\n",
       "      <td>17.371429</td>\n",
       "      <td>1.995484</td>\n",
       "    </tr>\n",
       "    <tr>\n",
       "      <th>7</th>\n",
       "      <td>3.386364</td>\n",
       "      <td>81.846388</td>\n",
       "      <td>39.204545</td>\n",
       "      <td>2.181695e+07</td>\n",
       "      <td>5.285376e+05</td>\n",
       "      <td>3.681976e+04</td>\n",
       "      <td>-54.250000</td>\n",
       "      <td>41.629545</td>\n",
       "      <td>13.730682</td>\n",
       "      <td>4.585561</td>\n",
       "    </tr>\n",
       "  </tbody>\n",
       "</table>\n",
       "</div>"
      ],
      "text/plain": [
       "        Incomegroup          GHG  percurbanpopulation  Population (People)  \\\n",
       "Region                                                                       \n",
       "1          2.321429   647.906957            51.321429         7.970581e+07   \n",
       "2          1.510204   151.675876            65.918367         1.797772e+07   \n",
       "3          2.031250   123.368119            59.812500         1.883211e+07   \n",
       "4          1.900000   165.082188            75.850000         2.083641e+07   \n",
       "5          1.000000  3593.010337            81.500000         1.770540e+08   \n",
       "6          3.142857   555.045809            30.000000         2.458663e+08   \n",
       "7          3.386364    81.846388            39.204545         2.181695e+07   \n",
       "\n",
       "                area           GDP  netmigration       gini  annual_temp  \\\n",
       "Region                                                                     \n",
       "1       8.676512e+05  7.174369e+05    -57.321429  23.760714    17.046429   \n",
       "2       5.466755e+05  4.631736e+05    121.714286  30.312245    15.646939   \n",
       "3       6.027187e+05  1.660499e+05    -68.750000  32.521875    17.367187   \n",
       "4       5.615000e+05  1.671104e+05     -8.450000   3.290000    10.172500   \n",
       "5       9.120465e+06  8.978533e+06   3092.000000  37.400000     3.200000   \n",
       "6       6.762086e+05  3.712456e+05   -898.571429  28.485714    17.371429   \n",
       "7       5.285376e+05  3.681976e+04    -54.250000  41.629545    13.730682   \n",
       "\n",
       "            ghgpc  \n",
       "Region             \n",
       "1        8.636066  \n",
       "2        7.609717  \n",
       "3        9.280165  \n",
       "4       13.633096  \n",
       "5       22.113908  \n",
       "6        1.995484  \n",
       "7        4.585561  "
      ]
     },
     "execution_count": 14,
     "metadata": {},
     "output_type": "execute_result"
    }
   ],
   "source": [
    "df3.groupby(['Region']).mean()"
   ]
  },
  {
   "cell_type": "code",
   "execution_count": 19,
   "metadata": {},
   "outputs": [
    {
     "data": {
      "image/png": "[encoded data removed]",
      "text/plain": [
       "<matplotlib.figure.Figure at 0x11b0f3668>"
      ]
     },
     "metadata": {},
     "output_type": "display_data"
    }
   ],
   "source": [
    "\n",
    " \n",
    "# Make boxplot for one group only\n",
    "sns.boxplot( y=df1[\"ghgpc\"] )\n",
    "plt.show()"
   ]
  },
  {
   "cell_type": "code",
   "execution_count": null,
   "metadata": {
    "collapsed": true
   },
   "outputs": [],
   "source": []
  },
  {
   "cell_type": "code",
   "execution_count": null,
   "metadata": {
    "collapsed": true
   },
   "outputs": [],
   "source": []
  },
  {
   "cell_type": "code",
   "execution_count": null,
   "metadata": {
    "collapsed": true
   },
   "outputs": [],
   "source": []
  },
  {
   "cell_type": "code",
   "execution_count": null,
   "metadata": {
    "collapsed": true
   },
   "outputs": [],
   "source": []
  },
  {
   "cell_type": "code",
   "execution_count": null,
   "metadata": {
    "collapsed": true
   },
   "outputs": [],
   "source": []
  },
  {
   "cell_type": "code",
   "execution_count": null,
   "metadata": {
    "collapsed": true
   },
   "outputs": [],
   "source": []
  },
  {
   "cell_type": "code",
   "execution_count": null,
   "metadata": {
    "collapsed": true
   },
   "outputs": [],
   "source": []
  },
  {
   "cell_type": "code",
   "execution_count": 15,
   "metadata": {},
   "outputs": [
    {
     "data": {
      "text/html": [
       "<div>\n",
       "<style>\n",
       "    .dataframe thead tr:only-child th {\n",
       "        text-align: right;\n",
       "    }\n",
       "\n",
       "    .dataframe thead th {\n",
       "        text-align: left;\n",
       "    }\n",
       "\n",
       "    .dataframe tbody tr th {\n",
       "        vertical-align: top;\n",
       "    }\n",
       "</style>\n",
       "<table border=\"1\" class=\"dataframe\">\n",
       "  <thead>\n",
       "    <tr style=\"text-align: right;\">\n",
       "      <th></th>\n",
       "      <th>Country</th>\n",
       "      <th>Region</th>\n",
       "      <th>Incomegroup</th>\n",
       "      <th>GHG</th>\n",
       "      <th>percurbanpopulation</th>\n",
       "      <th>Population (People)</th>\n",
       "      <th>area</th>\n",
       "      <th>GDP</th>\n",
       "      <th>netmigration</th>\n",
       "      <th>gini</th>\n",
       "      <th>annual_temp</th>\n",
       "      <th>ghgpc</th>\n",
       "    </tr>\n",
       "  </thead>\n",
       "  <tbody>\n",
       "    <tr>\n",
       "      <th>0</th>\n",
       "      <td>Afghanistan</td>\n",
       "      <td>6</td>\n",
       "      <td>4</td>\n",
       "      <td>33.366148</td>\n",
       "      <td>26</td>\n",
       "      <td>32758020</td>\n",
       "      <td>652860</td>\n",
       "      <td>19990.31716</td>\n",
       "      <td>473</td>\n",
       "      <td>-9.0</td>\n",
       "      <td>26.00</td>\n",
       "      <td>1.018564</td>\n",
       "    </tr>\n",
       "    <tr>\n",
       "      <th>1</th>\n",
       "      <td>Albania</td>\n",
       "      <td>2</td>\n",
       "      <td>2</td>\n",
       "      <td>8.678753</td>\n",
       "      <td>56</td>\n",
       "      <td>2889104</td>\n",
       "      <td>27400</td>\n",
       "      <td>12768.22939</td>\n",
       "      <td>-92</td>\n",
       "      <td>29.0</td>\n",
       "      <td>25.50</td>\n",
       "      <td>3.003960</td>\n",
       "    </tr>\n",
       "    <tr>\n",
       "      <th>2</th>\n",
       "      <td>Algeria</td>\n",
       "      <td>4</td>\n",
       "      <td>2</td>\n",
       "      <td>201.685126</td>\n",
       "      <td>70</td>\n",
       "      <td>39113313</td>\n",
       "      <td>2381740</td>\n",
       "      <td>182889.35450</td>\n",
       "      <td>-143</td>\n",
       "      <td>-9.0</td>\n",
       "      <td>27.00</td>\n",
       "      <td>5.156432</td>\n",
       "    </tr>\n",
       "    <tr>\n",
       "      <th>3</th>\n",
       "      <td>Andorra</td>\n",
       "      <td>2</td>\n",
       "      <td>1</td>\n",
       "      <td>0.496379</td>\n",
       "      <td>86</td>\n",
       "      <td>79223</td>\n",
       "      <td>470</td>\n",
       "      <td>NaN</td>\n",
       "      <td>-9</td>\n",
       "      <td>-9.0</td>\n",
       "      <td>24.55</td>\n",
       "      <td>6.265587</td>\n",
       "    </tr>\n",
       "    <tr>\n",
       "      <th>4</th>\n",
       "      <td>Angola</td>\n",
       "      <td>7</td>\n",
       "      <td>2</td>\n",
       "      <td>252.092930</td>\n",
       "      <td>43</td>\n",
       "      <td>26920466</td>\n",
       "      <td>1246700</td>\n",
       "      <td>100886.28660</td>\n",
       "      <td>102</td>\n",
       "      <td>42.7</td>\n",
       "      <td>-9.00</td>\n",
       "      <td>9.364360</td>\n",
       "    </tr>\n",
       "  </tbody>\n",
       "</table>\n",
       "</div>"
      ],
      "text/plain": [
       "       Country  Region  Incomegroup         GHG  percurbanpopulation  \\\n",
       "0  Afghanistan       6            4   33.366148                   26   \n",
       "1      Albania       2            2    8.678753                   56   \n",
       "2      Algeria       4            2  201.685126                   70   \n",
       "3      Andorra       2            1    0.496379                   86   \n",
       "4       Angola       7            2  252.092930                   43   \n",
       "\n",
       "   Population (People)     area           GDP  netmigration  gini  \\\n",
       "0             32758020   652860   19990.31716           473  -9.0   \n",
       "1              2889104    27400   12768.22939           -92  29.0   \n",
       "2             39113313  2381740  182889.35450          -143  -9.0   \n",
       "3                79223      470           NaN            -9  -9.0   \n",
       "4             26920466  1246700  100886.28660           102  42.7   \n",
       "\n",
       "   annual_temp     ghgpc  \n",
       "0        26.00  1.018564  \n",
       "1        25.50  3.003960  \n",
       "2        27.00  5.156432  \n",
       "3        24.55  6.265587  \n",
       "4        -9.00  9.364360  "
      ]
     },
     "execution_count": 15,
     "metadata": {},
     "output_type": "execute_result"
    }
   ],
   "source": [
    "df30 = pd.DataFrame.copy(df1)\n",
    "df30.head()"
   ]
  },
  {
   "cell_type": "code",
   "execution_count": 16,
   "metadata": {},
   "outputs": [
    {
     "data": {
      "text/html": [
       "<div>\n",
       "<style>\n",
       "    .dataframe thead tr:only-child th {\n",
       "        text-align: right;\n",
       "    }\n",
       "\n",
       "    .dataframe thead th {\n",
       "        text-align: left;\n",
       "    }\n",
       "\n",
       "    .dataframe tbody tr th {\n",
       "        vertical-align: top;\n",
       "    }\n",
       "</style>\n",
       "<table border=\"1\" class=\"dataframe\">\n",
       "  <thead>\n",
       "    <tr style=\"text-align: right;\">\n",
       "      <th></th>\n",
       "      <th>Country</th>\n",
       "      <th>Region</th>\n",
       "      <th>Incomegroup</th>\n",
       "      <th>GHG</th>\n",
       "      <th>percurbanpopulation</th>\n",
       "      <th>Population (People)</th>\n",
       "      <th>area</th>\n",
       "      <th>GDP</th>\n",
       "      <th>netmigration</th>\n",
       "      <th>gini</th>\n",
       "      <th>annual_temp</th>\n",
       "      <th>ghgpc</th>\n",
       "    </tr>\n",
       "  </thead>\n",
       "  <tbody>\n",
       "    <tr>\n",
       "      <th>0</th>\n",
       "      <td>Afghanistan</td>\n",
       "      <td>6</td>\n",
       "      <td>4</td>\n",
       "      <td>33.366148</td>\n",
       "      <td>26.0</td>\n",
       "      <td>32758020</td>\n",
       "      <td>652860</td>\n",
       "      <td>19990.31716</td>\n",
       "      <td>473.0</td>\n",
       "      <td>NaN</td>\n",
       "      <td>26.00</td>\n",
       "      <td>1.018564</td>\n",
       "    </tr>\n",
       "    <tr>\n",
       "      <th>1</th>\n",
       "      <td>Albania</td>\n",
       "      <td>2</td>\n",
       "      <td>2</td>\n",
       "      <td>8.678753</td>\n",
       "      <td>56.0</td>\n",
       "      <td>2889104</td>\n",
       "      <td>27400</td>\n",
       "      <td>12768.22939</td>\n",
       "      <td>-92.0</td>\n",
       "      <td>29.0</td>\n",
       "      <td>25.50</td>\n",
       "      <td>3.003960</td>\n",
       "    </tr>\n",
       "    <tr>\n",
       "      <th>2</th>\n",
       "      <td>Algeria</td>\n",
       "      <td>4</td>\n",
       "      <td>2</td>\n",
       "      <td>201.685126</td>\n",
       "      <td>70.0</td>\n",
       "      <td>39113313</td>\n",
       "      <td>2381740</td>\n",
       "      <td>182889.35450</td>\n",
       "      <td>-143.0</td>\n",
       "      <td>NaN</td>\n",
       "      <td>27.00</td>\n",
       "      <td>5.156432</td>\n",
       "    </tr>\n",
       "    <tr>\n",
       "      <th>3</th>\n",
       "      <td>Andorra</td>\n",
       "      <td>2</td>\n",
       "      <td>1</td>\n",
       "      <td>0.496379</td>\n",
       "      <td>86.0</td>\n",
       "      <td>79223</td>\n",
       "      <td>470</td>\n",
       "      <td>NaN</td>\n",
       "      <td>NaN</td>\n",
       "      <td>NaN</td>\n",
       "      <td>24.55</td>\n",
       "      <td>6.265587</td>\n",
       "    </tr>\n",
       "    <tr>\n",
       "      <th>4</th>\n",
       "      <td>Angola</td>\n",
       "      <td>7</td>\n",
       "      <td>2</td>\n",
       "      <td>252.092930</td>\n",
       "      <td>43.0</td>\n",
       "      <td>26920466</td>\n",
       "      <td>1246700</td>\n",
       "      <td>100886.28660</td>\n",
       "      <td>102.0</td>\n",
       "      <td>42.7</td>\n",
       "      <td>NaN</td>\n",
       "      <td>9.364360</td>\n",
       "    </tr>\n",
       "  </tbody>\n",
       "</table>\n",
       "</div>"
      ],
      "text/plain": [
       "       Country  Region  Incomegroup         GHG  percurbanpopulation  \\\n",
       "0  Afghanistan       6            4   33.366148                 26.0   \n",
       "1      Albania       2            2    8.678753                 56.0   \n",
       "2      Algeria       4            2  201.685126                 70.0   \n",
       "3      Andorra       2            1    0.496379                 86.0   \n",
       "4       Angola       7            2  252.092930                 43.0   \n",
       "\n",
       "   Population (People)     area           GDP  netmigration  gini  \\\n",
       "0             32758020   652860   19990.31716         473.0   NaN   \n",
       "1              2889104    27400   12768.22939         -92.0  29.0   \n",
       "2             39113313  2381740  182889.35450        -143.0   NaN   \n",
       "3                79223      470           NaN           NaN   NaN   \n",
       "4             26920466  1246700  100886.28660         102.0  42.7   \n",
       "\n",
       "   annual_temp     ghgpc  \n",
       "0        26.00  1.018564  \n",
       "1        25.50  3.003960  \n",
       "2        27.00  5.156432  \n",
       "3        24.55  6.265587  \n",
       "4          NaN  9.364360  "
      ]
     },
     "execution_count": 16,
     "metadata": {},
     "output_type": "execute_result"
    }
   ],
   "source": [
    "df30 = df30.replace(-9.0, np.nan)\n",
    "df30.head()"
   ]
  },
  {
   "cell_type": "code",
   "execution_count": 17,
   "metadata": {
    "collapsed": true
   },
   "outputs": [],
   "source": [
    "df30['popdens'] = df30['Population (People)'] / df30['area']\n",
    "df30['GDPpercap'] = df30['GDP'] / df30['Population (People)']\n",
    "df30['netmigrationpercap'] = df30['netmigration'] / df30['Population (People)']\n",
    "\n",
    "# df30['lnpopdens'] = np.log(df30['popdens'])\n",
    "# df30['lnarea'] = np.log(df30['area'])\n",
    "# df30['lnGDPpercap'] = np.log(df30['GDPpercap'])\n",
    "# df30['lngini'] = np.log(df30['gini'])"
   ]
  },
  {
   "cell_type": "markdown",
   "metadata": {},
   "source": [
    "# missing values"
   ]
  },
  {
   "cell_type": "code",
   "execution_count": 18,
   "metadata": {},
   "outputs": [
    {
     "data": {
      "text/plain": [
       "Country                 0\n",
       "Region                  0\n",
       "Incomegroup             0\n",
       "GHG                     0\n",
       "percurbanpopulation     1\n",
       "Population (People)     0\n",
       "area                    0\n",
       "GDP                     7\n",
       "netmigration            8\n",
       "gini                   38\n",
       "annual_temp            24\n",
       "ghgpc                   0\n",
       "popdens                 0\n",
       "GDPpercap               7\n",
       "netmigrationpercap      8\n",
       "dtype: int64"
      ]
     },
     "execution_count": 18,
     "metadata": {},
     "output_type": "execute_result"
    }
   ],
   "source": [
    "# print(df30[df30 == np.nan].count())\n",
    "df30.isnull().sum(axis=0)"
   ]
  },
  {
   "cell_type": "markdown",
   "metadata": {},
   "source": [
    "# negative values"
   ]
  },
  {
   "cell_type": "code",
   "execution_count": 19,
   "metadata": {},
   "outputs": [
    {
     "name": "stdout",
     "output_type": "stream",
     "text": [
      "Country                182\n",
      "Region                   0\n",
      "Incomegroup              0\n",
      "GHG                      0\n",
      "percurbanpopulation      0\n",
      "Population (People)      0\n",
      "area                     0\n",
      "GDP                      0\n",
      "netmigration           106\n",
      "gini                     0\n",
      "annual_temp              1\n",
      "ghgpc                    0\n",
      "popdens                  0\n",
      "GDPpercap                0\n",
      "netmigrationpercap     106\n",
      "dtype: int64\n"
     ]
    }
   ],
   "source": [
    "print(df30[df30 <  0].count())"
   ]
  },
  {
   "cell_type": "code",
   "execution_count": 20,
   "metadata": {},
   "outputs": [
    {
     "data": {
      "text/html": [
       "<div>\n",
       "<style>\n",
       "    .dataframe thead tr:only-child th {\n",
       "        text-align: right;\n",
       "    }\n",
       "\n",
       "    .dataframe thead th {\n",
       "        text-align: left;\n",
       "    }\n",
       "\n",
       "    .dataframe tbody tr th {\n",
       "        vertical-align: top;\n",
       "    }\n",
       "</style>\n",
       "<table border=\"1\" class=\"dataframe\">\n",
       "  <thead>\n",
       "    <tr style=\"text-align: right;\">\n",
       "      <th></th>\n",
       "      <th>Country</th>\n",
       "      <th>Region</th>\n",
       "      <th>Incomegroup</th>\n",
       "      <th>GHG</th>\n",
       "      <th>percurbanpopulation</th>\n",
       "      <th>Population (People)</th>\n",
       "      <th>area</th>\n",
       "      <th>GDP</th>\n",
       "      <th>netmigration</th>\n",
       "      <th>gini</th>\n",
       "      <th>annual_temp</th>\n",
       "      <th>ghgpc</th>\n",
       "      <th>popdens</th>\n",
       "      <th>GDPpercap</th>\n",
       "      <th>netmigrationpercap</th>\n",
       "    </tr>\n",
       "  </thead>\n",
       "  <tbody>\n",
       "    <tr>\n",
       "      <th>0</th>\n",
       "      <td>Afghanistan</td>\n",
       "      <td>6</td>\n",
       "      <td>4</td>\n",
       "      <td>33.366148</td>\n",
       "      <td>26.0</td>\n",
       "      <td>32758020</td>\n",
       "      <td>652860</td>\n",
       "      <td>19990.31716</td>\n",
       "      <td>473.0</td>\n",
       "      <td>NaN</td>\n",
       "      <td>26.00</td>\n",
       "      <td>1.018564</td>\n",
       "      <td>50.176179</td>\n",
       "      <td>0.000610</td>\n",
       "      <td>0.000014</td>\n",
       "    </tr>\n",
       "    <tr>\n",
       "      <th>1</th>\n",
       "      <td>Albania</td>\n",
       "      <td>2</td>\n",
       "      <td>2</td>\n",
       "      <td>8.678753</td>\n",
       "      <td>56.0</td>\n",
       "      <td>2889104</td>\n",
       "      <td>27400</td>\n",
       "      <td>12768.22939</td>\n",
       "      <td>-92.0</td>\n",
       "      <td>29.0</td>\n",
       "      <td>25.50</td>\n",
       "      <td>3.003960</td>\n",
       "      <td>105.441752</td>\n",
       "      <td>0.004419</td>\n",
       "      <td>-0.000032</td>\n",
       "    </tr>\n",
       "    <tr>\n",
       "      <th>2</th>\n",
       "      <td>Algeria</td>\n",
       "      <td>4</td>\n",
       "      <td>2</td>\n",
       "      <td>201.685126</td>\n",
       "      <td>70.0</td>\n",
       "      <td>39113313</td>\n",
       "      <td>2381740</td>\n",
       "      <td>182889.35450</td>\n",
       "      <td>-143.0</td>\n",
       "      <td>NaN</td>\n",
       "      <td>27.00</td>\n",
       "      <td>5.156432</td>\n",
       "      <td>16.422159</td>\n",
       "      <td>0.004676</td>\n",
       "      <td>-0.000004</td>\n",
       "    </tr>\n",
       "    <tr>\n",
       "      <th>3</th>\n",
       "      <td>Andorra</td>\n",
       "      <td>2</td>\n",
       "      <td>1</td>\n",
       "      <td>0.496379</td>\n",
       "      <td>86.0</td>\n",
       "      <td>79223</td>\n",
       "      <td>470</td>\n",
       "      <td>NaN</td>\n",
       "      <td>NaN</td>\n",
       "      <td>NaN</td>\n",
       "      <td>24.55</td>\n",
       "      <td>6.265587</td>\n",
       "      <td>168.559574</td>\n",
       "      <td>NaN</td>\n",
       "      <td>NaN</td>\n",
       "    </tr>\n",
       "    <tr>\n",
       "      <th>4</th>\n",
       "      <td>Angola</td>\n",
       "      <td>7</td>\n",
       "      <td>2</td>\n",
       "      <td>252.092930</td>\n",
       "      <td>43.0</td>\n",
       "      <td>26920466</td>\n",
       "      <td>1246700</td>\n",
       "      <td>100886.28660</td>\n",
       "      <td>102.0</td>\n",
       "      <td>42.7</td>\n",
       "      <td>NaN</td>\n",
       "      <td>9.364360</td>\n",
       "      <td>21.593379</td>\n",
       "      <td>0.003748</td>\n",
       "      <td>0.000004</td>\n",
       "    </tr>\n",
       "  </tbody>\n",
       "</table>\n",
       "</div>"
      ],
      "text/plain": [
       "       Country  Region  Incomegroup         GHG  percurbanpopulation  \\\n",
       "0  Afghanistan       6            4   33.366148                 26.0   \n",
       "1      Albania       2            2    8.678753                 56.0   \n",
       "2      Algeria       4            2  201.685126                 70.0   \n",
       "3      Andorra       2            1    0.496379                 86.0   \n",
       "4       Angola       7            2  252.092930                 43.0   \n",
       "\n",
       "   Population (People)     area           GDP  netmigration  gini  \\\n",
       "0             32758020   652860   19990.31716         473.0   NaN   \n",
       "1              2889104    27400   12768.22939         -92.0  29.0   \n",
       "2             39113313  2381740  182889.35450        -143.0   NaN   \n",
       "3                79223      470           NaN           NaN   NaN   \n",
       "4             26920466  1246700  100886.28660         102.0  42.7   \n",
       "\n",
       "   annual_temp     ghgpc     popdens  GDPpercap  netmigrationpercap  \n",
       "0        26.00  1.018564   50.176179   0.000610            0.000014  \n",
       "1        25.50  3.003960  105.441752   0.004419           -0.000032  \n",
       "2        27.00  5.156432   16.422159   0.004676           -0.000004  \n",
       "3        24.55  6.265587  168.559574        NaN                 NaN  \n",
       "4          NaN  9.364360   21.593379   0.003748            0.000004  "
      ]
     },
     "execution_count": 20,
     "metadata": {},
     "output_type": "execute_result"
    }
   ],
   "source": [
    "df30.head()"
   ]
  },
  {
   "cell_type": "code",
   "execution_count": 21,
   "metadata": {
    "collapsed": true
   },
   "outputs": [],
   "source": [
    "# from pandas import ExcelWriter\n",
    "# writer = ExcelWriter('/Users/markprosser/Desktop/CWPythonExport.xlsx')\n",
    "# df30.to_excel(writer,'Sheet1')"
   ]
  },
  {
   "cell_type": "code",
   "execution_count": null,
   "metadata": {
    "collapsed": true
   },
   "outputs": [],
   "source": []
  },
  {
   "cell_type": "markdown",
   "metadata": {},
   "source": [
    "# %urban"
   ]
  },
  {
   "cell_type": "code",
   "execution_count": 22,
   "metadata": {},
   "outputs": [
    {
     "data": {
      "image/png": "[encoded data removed]",
      "text/plain": [
       "<matplotlib.figure.Figure at 0x1138fa7b8>"
      ]
     },
     "metadata": {},
     "output_type": "display_data"
    },
    {
     "data": {
      "image/png": "[encoded data removed]",
      "text/plain": [
       "<matplotlib.figure.Figure at 0x1139f2d30>"
      ]
     },
     "metadata": {},
     "output_type": "display_data"
    },
    {
     "name": "stdout",
     "output_type": "stream",
     "text": [
      "182\n",
      "181\n"
     ]
    }
   ],
   "source": [
    "df31 = pd.DataFrame.copy(df30)\n",
    "# df5 = df5.dropna(subset=['amount'])\n",
    "sns.regplot(x=df31[\"percurbanpopulation\"], y=df31[\"ghgpc\"], fit_reg=False)\n",
    "plt.show()\n",
    "\n",
    "df31a = pd.DataFrame.copy(df31)\n",
    "df31a = df31a[df31a.percurbanpopulation.isnull() != 1]\n",
    "sns.regplot(x=df31a[\"percurbanpopulation\"], y=df31a[\"ghgpc\"], fit_reg=False)\n",
    "plt.show()\n",
    "\n",
    "print(len(df31))\n",
    "print(len(df31a))"
   ]
  },
  {
   "cell_type": "markdown",
   "metadata": {},
   "source": [
    "# pop density"
   ]
  },
  {
   "cell_type": "code",
   "execution_count": 23,
   "metadata": {},
   "outputs": [
    {
     "data": {
      "image/png": "[encoded data removed]",
      "text/plain": [
       "<matplotlib.figure.Figure at 0x113b15d30>"
      ]
     },
     "metadata": {},
     "output_type": "display_data"
    },
    {
     "data": {
      "image/png": "[encoded data removed]",
      "text/plain": [
       "<matplotlib.figure.Figure at 0x1105987b8>"
      ]
     },
     "metadata": {},
     "output_type": "display_data"
    },
    {
     "name": "stdout",
     "output_type": "stream",
     "text": [
      "182\n",
      "182\n"
     ]
    }
   ],
   "source": [
    "\n",
    "df32 = pd.DataFrame.copy(df30)\n",
    "df32.head()\n",
    "sns.regplot(x=df32[\"popdens\"], y=df32[\"ghgpc\"], fit_reg=False)\n",
    "plt.show()\n",
    "\n",
    "df32b = pd.DataFrame.copy(df32)\n",
    "df32b['lnpopdens'] = np.log(df32b[\"popdens\"])\n",
    "df32b['rootpopdens'] = (df32b[\"popdens\"])**0.5\n",
    "df32b['recippopdens'] = 1/(df32b[\"popdens\"])\n",
    "\n",
    "sns.regplot(x=df32b[\"lnpopdens\"], y=df32b[\"ghgpc\"], fit_reg=False)\n",
    "plt.show()\n",
    "\n",
    "# sns.regplot(x=df32b[\"rootpopdens\"], y=df32b[\"ghgpc\"], fit_reg=False)\n",
    "# plt.show()\n",
    "\n",
    "# sns.regplot(x=df32b[\"recippopdens\"], y=df32b[\"ghgpc\"], fit_reg=False)\n",
    "# plt.show()\n",
    "\n",
    "print(len(df32))\n",
    "print(len(df32b))"
   ]
  },
  {
   "cell_type": "markdown",
   "metadata": {},
   "source": [
    "# area"
   ]
  },
  {
   "cell_type": "code",
   "execution_count": 24,
   "metadata": {},
   "outputs": [
    {
     "data": {
      "image/png": "[encoded data removed]",
      "text/plain": [
       "<matplotlib.figure.Figure at 0x113d3acf8>"
      ]
     },
     "metadata": {},
     "output_type": "display_data"
    },
    {
     "data": {
      "image/png": "[encoded data removed]",
      "text/plain": [
       "<matplotlib.figure.Figure at 0x113fbb550>"
      ]
     },
     "metadata": {},
     "output_type": "display_data"
    },
    {
     "name": "stdout",
     "output_type": "stream",
     "text": [
      "182\n",
      "182\n"
     ]
    }
   ],
   "source": [
    "df33 = pd.DataFrame.copy(df30)\n",
    "sns.regplot(x=df33[\"area\"], y=df33[\"ghgpc\"], fit_reg=False)\n",
    "plt.show()\n",
    "\n",
    "df33b = pd.DataFrame.copy(df33)\n",
    "df33b['lnarea'] = np.log(df33b[\"area\"])\n",
    "df33b['rootarea'] = (df33b[\"area\"])**0.5\n",
    "df33b['reciparea'] = 1/(df33b[\"area\"])\n",
    "\n",
    "sns.regplot(x=df33b[\"lnarea\"], y=df33b[\"ghgpc\"], fit_reg=False)\n",
    "plt.show()\n",
    "\n",
    "# sns.regplot(x=df33b[\"rootarea\"], y=df33b[\"ghgpc\"], fit_reg=False)\n",
    "# plt.show()\n",
    "\n",
    "# sns.regplot(x=df33b[\"reciparea\"], y=df33b[\"ghgpc\"], fit_reg=False)\n",
    "# plt.show()\n",
    "\n",
    "print(len(df33))\n",
    "print(len(df33b))"
   ]
  },
  {
   "cell_type": "markdown",
   "metadata": {},
   "source": [
    "# gdp per cap"
   ]
  },
  {
   "cell_type": "code",
   "execution_count": 25,
   "metadata": {},
   "outputs": [
    {
     "data": {
      "image/png": "[encoded data removed]",
      "text/plain": [
       "<matplotlib.figure.Figure at 0x113d44ba8>"
      ]
     },
     "metadata": {},
     "output_type": "display_data"
    },
    {
     "data": {
      "image/png": "[encoded data removed]",
      "text/plain": [
       "<matplotlib.figure.Figure at 0x1140602b0>"
      ]
     },
     "metadata": {},
     "output_type": "display_data"
    },
    {
     "name": "stdout",
     "output_type": "stream",
     "text": [
      "182\n",
      "182\n"
     ]
    }
   ],
   "source": [
    "df34 = pd.DataFrame.copy(df30)\n",
    "sns.regplot(x=df34[\"GDPpercap\"], y=df34[\"ghgpc\"], fit_reg=False)\n",
    "plt.show()\n",
    "\n",
    "df34b = pd.DataFrame.copy(df34)\n",
    "df34b['lnGDPpercap'] = np.log(df34b[\"GDPpercap\"])\n",
    "df34b['rootGDPpercap'] = (df34b[\"GDPpercap\"])**0.5\n",
    "df34b['recipGDPpercap'] = 1/(df34b[\"GDPpercap\"])\n",
    "\n",
    "sns.regplot(x=df34b[\"lnGDPpercap\"], y=df34b[\"ghgpc\"], fit_reg=False)\n",
    "plt.show()\n",
    "\n",
    "# sns.regplot(x=df34b[\"rootGDPpercap\"], y=df34b[\"ghgpc\"], fit_reg=False)\n",
    "# plt.show()\n",
    "\n",
    "# sns.regplot(x=df34b[\"recipGDPpercap\"], y=df34b[\"ghgpc\"], fit_reg=False)\n",
    "# plt.show()\n",
    "\n",
    "print(len(df34))\n",
    "print(len(df34b))"
   ]
  },
  {
   "cell_type": "markdown",
   "metadata": {},
   "source": [
    "# net migration per cap"
   ]
  },
  {
   "cell_type": "code",
   "execution_count": 26,
   "metadata": {},
   "outputs": [
    {
     "data": {
      "image/png": "[encoded data removed]",
      "text/plain": [
       "<matplotlib.figure.Figure at 0x113b24940>"
      ]
     },
     "metadata": {},
     "output_type": "display_data"
    },
    {
     "data": {
      "image/png": "[encoded data removed]",
      "text/plain": [
       "<matplotlib.figure.Figure at 0x1143fe780>"
      ]
     },
     "metadata": {},
     "output_type": "display_data"
    },
    {
     "name": "stdout",
     "output_type": "stream",
     "text": [
      "182\n",
      "174\n"
     ]
    }
   ],
   "source": [
    "df35 = pd.DataFrame.copy(df30)\n",
    "sns.regplot(x=df35[\"netmigrationpercap\"], y=df35[\"ghgpc\"], fit_reg=False)\n",
    "plt.show()\n",
    "\n",
    "df35a = pd.DataFrame.copy(df35)\n",
    "df35a = df35a[df35a.netmigrationpercap.isnull() != 1]\n",
    "sns.regplot(x=df35a[\"netmigrationpercap\"], y=df35a[\"ghgpc\"], fit_reg=False)\n",
    "plt.show()\n",
    "\n",
    "\n",
    "# df35b = pd.DataFrame.copy(df35a)\n",
    "# df35b['lnnetmigrationpercap'] = np.log(df35b[\"netmigrationpercap\"])\n",
    "# df35b['rootnetmigrationpercap'] = (df35b[\"netmigrationpercap\"])**0.5\n",
    "# df35b['recipnetmigrationpercap'] = 1/(df35b[\"netmigrationpercap\"])\n",
    "# df35b['rootlnnetmigrationpercap'] = (np.log(df35b[\"netmigrationpercap\"]))**0.5\n",
    "\n",
    "# sns.regplot(x=df35b[\"lnnetmigrationpercap\"], y=df35b[\"ghgpc\"], fit_reg=False)\n",
    "# plt.show()\n",
    "\n",
    "# sns.regplot(x=df35b[\"rootnetmigrationpercap\"], y=df35b[\"ghgpc\"], fit_reg=False)\n",
    "# plt.show()\n",
    "\n",
    "# sns.regplot(x=df35b[\"recipnetmigrationpercap\"], y=df35b[\"ghgpc\"], fit_reg=False)\n",
    "# plt.show()\n",
    "\n",
    "# sns.regplot(x=df35b[\"rootlnnetmigrationpercap\"], y=df35b[\"ghgpc\"], fit_reg=False)\n",
    "# plt.show()\n",
    "\n",
    "print(len(df35))\n",
    "print(len(df35a))\n",
    "# print(len(df35b))"
   ]
  },
  {
   "cell_type": "code",
   "execution_count": 27,
   "metadata": {},
   "outputs": [
    {
     "data": {
      "image/png": "[encoded data removed]",
      "text/plain": [
       "<matplotlib.figure.Figure at 0x11427d320>"
      ]
     },
     "metadata": {},
     "output_type": "display_data"
    },
    {
     "data": {
      "image/png": "[encoded data removed]",
      "text/plain": [
       "<matplotlib.figure.Figure at 0x11407d780>"
      ]
     },
     "metadata": {},
     "output_type": "display_data"
    },
    {
     "data": {
      "image/png": "[encoded data removed]",
      "text/plain": [
       "<matplotlib.figure.Figure at 0x113e88e10>"
      ]
     },
     "metadata": {},
     "output_type": "display_data"
    },
    {
     "name": "stdout",
     "output_type": "stream",
     "text": [
      "182\n",
      "144\n",
      "144\n"
     ]
    }
   ],
   "source": [
    "df36 = pd.DataFrame.copy(df30)\n",
    "sns.regplot(x=df36[\"gini\"], y=df36[\"ghgpc\"], fit_reg=False)\n",
    "plt.show()\n",
    "\n",
    "df36a = pd.DataFrame.copy(df36)\n",
    "df36a = df36a[df36a.gini.isnull() != 1]\n",
    "sns.regplot(x=df36a[\"gini\"], y=df36a[\"ghgpc\"], fit_reg=False)\n",
    "plt.show()\n",
    "\n",
    "df36b = pd.DataFrame.copy(df36a)\n",
    "df36b['lnGDPpercap'] = np.log(df36b[\"GDPpercap\"])\n",
    "df36b['rootGDPpercap'] = (df36b[\"GDPpercap\"])**0.5\n",
    "df36b['recipGDPpercap'] = 1/(df36b[\"GDPpercap\"])\n",
    "\n",
    "sns.regplot(x=df36b[\"lnGDPpercap\"], y=df36b[\"ghgpc\"], fit_reg=False)\n",
    "plt.show()\n",
    "\n",
    "print(len(df36))\n",
    "print(len(df36a))\n",
    "print(len(df36b))"
   ]
  },
  {
   "cell_type": "code",
   "execution_count": 28,
   "metadata": {},
   "outputs": [
    {
     "data": {
      "image/png": "[encoded data removed]",
      "text/plain": [
       "<matplotlib.figure.Figure at 0x113b64eb8>"
      ]
     },
     "metadata": {},
     "output_type": "display_data"
    },
    {
     "data": {
      "image/png": "[encoded data removed]",
      "text/plain": [
       "<matplotlib.figure.Figure at 0x114396cc0>"
      ]
     },
     "metadata": {},
     "output_type": "display_data"
    },
    {
     "name": "stdout",
     "output_type": "stream",
     "text": [
      "182\n",
      "158\n"
     ]
    }
   ],
   "source": [
    "df37 = pd.DataFrame.copy(df30)\n",
    "sns.regplot(x=df37[\"annual_temp\"], y=df37[\"ghgpc\"], fit_reg=False)\n",
    "plt.show()\n",
    "\n",
    "df37a = pd.DataFrame.copy(df37)\n",
    "df37a = df37a[df37a.annual_temp.isnull() != 1]\n",
    "sns.regplot(x=df37a[\"annual_temp\"], y=df37a[\"ghgpc\"], fit_reg=False)\n",
    "plt.show()\n",
    "\n",
    "print(len(df37))\n",
    "print(len(df37a))"
   ]
  },
  {
   "cell_type": "code",
   "execution_count": 29,
   "metadata": {},
   "outputs": [
    {
     "data": {
      "text/html": [
       "<div>\n",
       "<style>\n",
       "    .dataframe thead tr:only-child th {\n",
       "        text-align: right;\n",
       "    }\n",
       "\n",
       "    .dataframe thead th {\n",
       "        text-align: left;\n",
       "    }\n",
       "\n",
       "    .dataframe tbody tr th {\n",
       "        vertical-align: top;\n",
       "    }\n",
       "</style>\n",
       "<table border=\"1\" class=\"dataframe\">\n",
       "  <thead>\n",
       "    <tr style=\"text-align: right;\">\n",
       "      <th></th>\n",
       "      <th>Country</th>\n",
       "      <th>Region</th>\n",
       "      <th>Incomegroup</th>\n",
       "      <th>GHG</th>\n",
       "      <th>percurbanpopulation</th>\n",
       "      <th>Population (People)</th>\n",
       "      <th>area</th>\n",
       "      <th>GDP</th>\n",
       "      <th>netmigration</th>\n",
       "      <th>gini</th>\n",
       "      <th>annual_temp</th>\n",
       "      <th>ghgpc</th>\n",
       "    </tr>\n",
       "  </thead>\n",
       "  <tbody>\n",
       "    <tr>\n",
       "      <th>0</th>\n",
       "      <td>Afghanistan</td>\n",
       "      <td>6</td>\n",
       "      <td>4</td>\n",
       "      <td>33.366148</td>\n",
       "      <td>26.0</td>\n",
       "      <td>32758020</td>\n",
       "      <td>652860</td>\n",
       "      <td>19990.31716</td>\n",
       "      <td>473.0</td>\n",
       "      <td>NaN</td>\n",
       "      <td>26.00</td>\n",
       "      <td>1.018564</td>\n",
       "    </tr>\n",
       "    <tr>\n",
       "      <th>1</th>\n",
       "      <td>Albania</td>\n",
       "      <td>2</td>\n",
       "      <td>2</td>\n",
       "      <td>8.678753</td>\n",
       "      <td>56.0</td>\n",
       "      <td>2889104</td>\n",
       "      <td>27400</td>\n",
       "      <td>12768.22939</td>\n",
       "      <td>-92.0</td>\n",
       "      <td>29.0</td>\n",
       "      <td>25.50</td>\n",
       "      <td>3.003960</td>\n",
       "    </tr>\n",
       "    <tr>\n",
       "      <th>2</th>\n",
       "      <td>Algeria</td>\n",
       "      <td>4</td>\n",
       "      <td>2</td>\n",
       "      <td>201.685126</td>\n",
       "      <td>70.0</td>\n",
       "      <td>39113313</td>\n",
       "      <td>2381740</td>\n",
       "      <td>182889.35450</td>\n",
       "      <td>-143.0</td>\n",
       "      <td>NaN</td>\n",
       "      <td>27.00</td>\n",
       "      <td>5.156432</td>\n",
       "    </tr>\n",
       "    <tr>\n",
       "      <th>3</th>\n",
       "      <td>Andorra</td>\n",
       "      <td>2</td>\n",
       "      <td>1</td>\n",
       "      <td>0.496379</td>\n",
       "      <td>86.0</td>\n",
       "      <td>79223</td>\n",
       "      <td>470</td>\n",
       "      <td>NaN</td>\n",
       "      <td>NaN</td>\n",
       "      <td>NaN</td>\n",
       "      <td>24.55</td>\n",
       "      <td>6.265587</td>\n",
       "    </tr>\n",
       "    <tr>\n",
       "      <th>4</th>\n",
       "      <td>Angola</td>\n",
       "      <td>7</td>\n",
       "      <td>2</td>\n",
       "      <td>252.092930</td>\n",
       "      <td>43.0</td>\n",
       "      <td>26920466</td>\n",
       "      <td>1246700</td>\n",
       "      <td>100886.28660</td>\n",
       "      <td>102.0</td>\n",
       "      <td>42.7</td>\n",
       "      <td>NaN</td>\n",
       "      <td>9.364360</td>\n",
       "    </tr>\n",
       "  </tbody>\n",
       "</table>\n",
       "</div>"
      ],
      "text/plain": [
       "       Country  Region  Incomegroup         GHG  percurbanpopulation  \\\n",
       "0  Afghanistan       6            4   33.366148                 26.0   \n",
       "1      Albania       2            2    8.678753                 56.0   \n",
       "2      Algeria       4            2  201.685126                 70.0   \n",
       "3      Andorra       2            1    0.496379                 86.0   \n",
       "4       Angola       7            2  252.092930                 43.0   \n",
       "\n",
       "   Population (People)     area           GDP  netmigration  gini  \\\n",
       "0             32758020   652860   19990.31716         473.0   NaN   \n",
       "1              2889104    27400   12768.22939         -92.0  29.0   \n",
       "2             39113313  2381740  182889.35450        -143.0   NaN   \n",
       "3                79223      470           NaN           NaN   NaN   \n",
       "4             26920466  1246700  100886.28660         102.0  42.7   \n",
       "\n",
       "   annual_temp     ghgpc  \n",
       "0        26.00  1.018564  \n",
       "1        25.50  3.003960  \n",
       "2        27.00  5.156432  \n",
       "3        24.55  6.265587  \n",
       "4          NaN  9.364360  "
      ]
     },
     "execution_count": 29,
     "metadata": {},
     "output_type": "execute_result"
    }
   ],
   "source": [
    "df40 = pd.DataFrame.copy(df1)\n",
    "df40 = df40.replace(-9.0, np.nan)\n",
    "df40.head()"
   ]
  },
  {
   "cell_type": "code",
   "execution_count": 30,
   "metadata": {},
   "outputs": [
    {
     "data": {
      "text/html": [
       "<div>\n",
       "<style>\n",
       "    .dataframe thead tr:only-child th {\n",
       "        text-align: right;\n",
       "    }\n",
       "\n",
       "    .dataframe thead th {\n",
       "        text-align: left;\n",
       "    }\n",
       "\n",
       "    .dataframe tbody tr th {\n",
       "        vertical-align: top;\n",
       "    }\n",
       "</style>\n",
       "<table border=\"1\" class=\"dataframe\">\n",
       "  <thead>\n",
       "    <tr style=\"text-align: right;\">\n",
       "      <th></th>\n",
       "      <th>Country</th>\n",
       "      <th>Region</th>\n",
       "      <th>Incomegroup</th>\n",
       "      <th>GHG</th>\n",
       "      <th>percurbanpopulation</th>\n",
       "      <th>Population (People)</th>\n",
       "      <th>area</th>\n",
       "      <th>GDP</th>\n",
       "      <th>netmigration</th>\n",
       "      <th>gini</th>\n",
       "      <th>annual_temp</th>\n",
       "      <th>ghgpc</th>\n",
       "      <th>popdens</th>\n",
       "      <th>GDPpercap</th>\n",
       "      <th>netmigrationpercap</th>\n",
       "      <th>lnpopdens</th>\n",
       "      <th>lnarea</th>\n",
       "      <th>lnGDPpercap</th>\n",
       "      <th>lngini</th>\n",
       "    </tr>\n",
       "  </thead>\n",
       "  <tbody>\n",
       "    <tr>\n",
       "      <th>0</th>\n",
       "      <td>Afghanistan</td>\n",
       "      <td>6</td>\n",
       "      <td>4</td>\n",
       "      <td>33.366148</td>\n",
       "      <td>26.0</td>\n",
       "      <td>32758020</td>\n",
       "      <td>652860</td>\n",
       "      <td>19990.31716</td>\n",
       "      <td>473.0</td>\n",
       "      <td>-9.0</td>\n",
       "      <td>26.00</td>\n",
       "      <td>1.018564</td>\n",
       "      <td>50.176179</td>\n",
       "      <td>0.000610</td>\n",
       "      <td>0.000014</td>\n",
       "      <td>3.915540</td>\n",
       "      <td>13.389118</td>\n",
       "      <td>-7.401655</td>\n",
       "      <td>-9.000000</td>\n",
       "    </tr>\n",
       "    <tr>\n",
       "      <th>1</th>\n",
       "      <td>Albania</td>\n",
       "      <td>2</td>\n",
       "      <td>2</td>\n",
       "      <td>8.678753</td>\n",
       "      <td>56.0</td>\n",
       "      <td>2889104</td>\n",
       "      <td>27400</td>\n",
       "      <td>12768.22939</td>\n",
       "      <td>-92.0</td>\n",
       "      <td>29.0</td>\n",
       "      <td>25.50</td>\n",
       "      <td>3.003960</td>\n",
       "      <td>105.441752</td>\n",
       "      <td>0.004419</td>\n",
       "      <td>-0.000032</td>\n",
       "      <td>4.658159</td>\n",
       "      <td>10.218298</td>\n",
       "      <td>-5.421742</td>\n",
       "      <td>3.367296</td>\n",
       "    </tr>\n",
       "    <tr>\n",
       "      <th>2</th>\n",
       "      <td>Algeria</td>\n",
       "      <td>4</td>\n",
       "      <td>2</td>\n",
       "      <td>201.685126</td>\n",
       "      <td>70.0</td>\n",
       "      <td>39113313</td>\n",
       "      <td>2381740</td>\n",
       "      <td>182889.35450</td>\n",
       "      <td>-143.0</td>\n",
       "      <td>-9.0</td>\n",
       "      <td>27.00</td>\n",
       "      <td>5.156432</td>\n",
       "      <td>16.422159</td>\n",
       "      <td>0.004676</td>\n",
       "      <td>-0.000004</td>\n",
       "      <td>2.798632</td>\n",
       "      <td>14.683342</td>\n",
       "      <td>-5.365337</td>\n",
       "      <td>-9.000000</td>\n",
       "    </tr>\n",
       "    <tr>\n",
       "      <th>3</th>\n",
       "      <td>Andorra</td>\n",
       "      <td>2</td>\n",
       "      <td>1</td>\n",
       "      <td>0.496379</td>\n",
       "      <td>86.0</td>\n",
       "      <td>79223</td>\n",
       "      <td>470</td>\n",
       "      <td>-9.00000</td>\n",
       "      <td>-9.0</td>\n",
       "      <td>-9.0</td>\n",
       "      <td>24.55</td>\n",
       "      <td>6.265587</td>\n",
       "      <td>168.559574</td>\n",
       "      <td>-9.000000</td>\n",
       "      <td>-9.000000</td>\n",
       "      <td>5.127289</td>\n",
       "      <td>6.152733</td>\n",
       "      <td>-9.000000</td>\n",
       "      <td>-9.000000</td>\n",
       "    </tr>\n",
       "    <tr>\n",
       "      <th>4</th>\n",
       "      <td>Angola</td>\n",
       "      <td>7</td>\n",
       "      <td>2</td>\n",
       "      <td>252.092930</td>\n",
       "      <td>43.0</td>\n",
       "      <td>26920466</td>\n",
       "      <td>1246700</td>\n",
       "      <td>100886.28660</td>\n",
       "      <td>102.0</td>\n",
       "      <td>42.7</td>\n",
       "      <td>-9.00</td>\n",
       "      <td>9.364360</td>\n",
       "      <td>21.593379</td>\n",
       "      <td>0.003748</td>\n",
       "      <td>0.000004</td>\n",
       "      <td>3.072387</td>\n",
       "      <td>14.036011</td>\n",
       "      <td>-5.586648</td>\n",
       "      <td>3.754199</td>\n",
       "    </tr>\n",
       "  </tbody>\n",
       "</table>\n",
       "</div>"
      ],
      "text/plain": [
       "       Country  Region  Incomegroup         GHG  percurbanpopulation  \\\n",
       "0  Afghanistan       6            4   33.366148                 26.0   \n",
       "1      Albania       2            2    8.678753                 56.0   \n",
       "2      Algeria       4            2  201.685126                 70.0   \n",
       "3      Andorra       2            1    0.496379                 86.0   \n",
       "4       Angola       7            2  252.092930                 43.0   \n",
       "\n",
       "   Population (People)     area           GDP  netmigration  gini  \\\n",
       "0             32758020   652860   19990.31716         473.0  -9.0   \n",
       "1              2889104    27400   12768.22939         -92.0  29.0   \n",
       "2             39113313  2381740  182889.35450        -143.0  -9.0   \n",
       "3                79223      470      -9.00000          -9.0  -9.0   \n",
       "4             26920466  1246700  100886.28660         102.0  42.7   \n",
       "\n",
       "   annual_temp     ghgpc     popdens  GDPpercap  netmigrationpercap  \\\n",
       "0        26.00  1.018564   50.176179   0.000610            0.000014   \n",
       "1        25.50  3.003960  105.441752   0.004419           -0.000032   \n",
       "2        27.00  5.156432   16.422159   0.004676           -0.000004   \n",
       "3        24.55  6.265587  168.559574  -9.000000           -9.000000   \n",
       "4        -9.00  9.364360   21.593379   0.003748            0.000004   \n",
       "\n",
       "   lnpopdens     lnarea  lnGDPpercap    lngini  \n",
       "0   3.915540  13.389118    -7.401655 -9.000000  \n",
       "1   4.658159  10.218298    -5.421742  3.367296  \n",
       "2   2.798632  14.683342    -5.365337 -9.000000  \n",
       "3   5.127289   6.152733    -9.000000 -9.000000  \n",
       "4   3.072387  14.036011    -5.586648  3.754199  "
      ]
     },
     "execution_count": 30,
     "metadata": {},
     "output_type": "execute_result"
    }
   ],
   "source": [
    "df40['popdens'] = df40['Population (People)'] / df40['area']\n",
    "df40['GDPpercap'] = df40['GDP'] / df40['Population (People)']\n",
    "df40['netmigrationpercap'] = df40['netmigration'] / df40['Population (People)']\n",
    "\n",
    "df40['lnpopdens'] = np.log(df40['popdens'])\n",
    "df40['lnarea'] = np.log(df40['area'])\n",
    "df40['lnGDPpercap'] = np.log(df40['GDPpercap'])\n",
    "df40['lngini'] = np.log(df40['gini'])\n",
    "\n",
    "df40 = df40.replace(np.nan, -9)\n",
    "\n",
    "df40.head()"
   ]
  },
  {
   "cell_type": "code",
   "execution_count": 31,
   "metadata": {
    "collapsed": true
   },
   "outputs": [],
   "source": [
    "# from pandas import ExcelWriter\n",
    "# writer = ExcelWriter('/Users/markprosser/Desktop/CW2.xlsx')\n",
    "# df40.to_excel(writer,'Sheet1')"
   ]
  },
  {
   "cell_type": "code",
   "execution_count": null,
   "metadata": {
    "collapsed": true
   },
   "outputs": [],
   "source": []
  },
  {
   "cell_type": "code",
   "execution_count": null,
   "metadata": {
    "collapsed": true
   },
   "outputs": [],
   "source": []
  },
  {
   "cell_type": "code",
   "execution_count": null,
   "metadata": {
    "collapsed": true
   },
   "outputs": [],
   "source": []
  },
  {
   "cell_type": "code",
   "execution_count": null,
   "metadata": {
    "collapsed": true
   },
   "outputs": [],
   "source": []
  },
  {
   "cell_type": "code",
   "execution_count": null,
   "metadata": {
    "collapsed": true
   },
   "outputs": [],
   "source": []
  },
  {
   "cell_type": "code",
   "execution_count": null,
   "metadata": {
    "collapsed": true
   },
   "outputs": [],
   "source": []
  },
  {
   "cell_type": "code",
   "execution_count": null,
   "metadata": {
    "collapsed": true
   },
   "outputs": [],
   "source": []
  },
  {
   "cell_type": "code",
   "execution_count": null,
   "metadata": {
    "collapsed": true
   },
   "outputs": [],
   "source": []
  },
  {
   "cell_type": "markdown",
   "metadata": {},
   "source": [
    "# qu2\n"
   ]
  },
  {
   "cell_type": "code",
   "execution_count": 32,
   "metadata": {},
   "outputs": [
    {
     "data": {
      "text/html": [
       "<div>\n",
       "<style>\n",
       "    .dataframe thead tr:only-child th {\n",
       "        text-align: right;\n",
       "    }\n",
       "\n",
       "    .dataframe thead th {\n",
       "        text-align: left;\n",
       "    }\n",
       "\n",
       "    .dataframe tbody tr th {\n",
       "        vertical-align: top;\n",
       "    }\n",
       "</style>\n",
       "<table border=\"1\" class=\"dataframe\">\n",
       "  <thead>\n",
       "    <tr style=\"text-align: right;\">\n",
       "      <th></th>\n",
       "      <th>Country</th>\n",
       "      <th>Region</th>\n",
       "      <th>Incomegroup</th>\n",
       "      <th>GHG</th>\n",
       "      <th>percurbanpopulation</th>\n",
       "      <th>Population (People)</th>\n",
       "      <th>area</th>\n",
       "      <th>GDP</th>\n",
       "      <th>netmigration</th>\n",
       "      <th>gini</th>\n",
       "      <th>annual_temp</th>\n",
       "      <th>ghgpc</th>\n",
       "    </tr>\n",
       "  </thead>\n",
       "  <tbody>\n",
       "    <tr>\n",
       "      <th>0</th>\n",
       "      <td>Afghanistan</td>\n",
       "      <td>6</td>\n",
       "      <td>4</td>\n",
       "      <td>33.366148</td>\n",
       "      <td>26</td>\n",
       "      <td>32758020</td>\n",
       "      <td>652860</td>\n",
       "      <td>19990.31716</td>\n",
       "      <td>473</td>\n",
       "      <td>-9.0</td>\n",
       "      <td>26.00</td>\n",
       "      <td>1.018564</td>\n",
       "    </tr>\n",
       "    <tr>\n",
       "      <th>1</th>\n",
       "      <td>Albania</td>\n",
       "      <td>2</td>\n",
       "      <td>2</td>\n",
       "      <td>8.678753</td>\n",
       "      <td>56</td>\n",
       "      <td>2889104</td>\n",
       "      <td>27400</td>\n",
       "      <td>12768.22939</td>\n",
       "      <td>-92</td>\n",
       "      <td>29.0</td>\n",
       "      <td>25.50</td>\n",
       "      <td>3.003960</td>\n",
       "    </tr>\n",
       "    <tr>\n",
       "      <th>2</th>\n",
       "      <td>Algeria</td>\n",
       "      <td>4</td>\n",
       "      <td>2</td>\n",
       "      <td>201.685126</td>\n",
       "      <td>70</td>\n",
       "      <td>39113313</td>\n",
       "      <td>2381740</td>\n",
       "      <td>182889.35450</td>\n",
       "      <td>-143</td>\n",
       "      <td>-9.0</td>\n",
       "      <td>27.00</td>\n",
       "      <td>5.156432</td>\n",
       "    </tr>\n",
       "    <tr>\n",
       "      <th>3</th>\n",
       "      <td>Andorra</td>\n",
       "      <td>2</td>\n",
       "      <td>1</td>\n",
       "      <td>0.496379</td>\n",
       "      <td>86</td>\n",
       "      <td>79223</td>\n",
       "      <td>470</td>\n",
       "      <td>NaN</td>\n",
       "      <td>-9</td>\n",
       "      <td>-9.0</td>\n",
       "      <td>24.55</td>\n",
       "      <td>6.265587</td>\n",
       "    </tr>\n",
       "    <tr>\n",
       "      <th>4</th>\n",
       "      <td>Angola</td>\n",
       "      <td>7</td>\n",
       "      <td>2</td>\n",
       "      <td>252.092930</td>\n",
       "      <td>43</td>\n",
       "      <td>26920466</td>\n",
       "      <td>1246700</td>\n",
       "      <td>100886.28660</td>\n",
       "      <td>102</td>\n",
       "      <td>42.7</td>\n",
       "      <td>-9.00</td>\n",
       "      <td>9.364360</td>\n",
       "    </tr>\n",
       "  </tbody>\n",
       "</table>\n",
       "</div>"
      ],
      "text/plain": [
       "       Country  Region  Incomegroup         GHG  percurbanpopulation  \\\n",
       "0  Afghanistan       6            4   33.366148                   26   \n",
       "1      Albania       2            2    8.678753                   56   \n",
       "2      Algeria       4            2  201.685126                   70   \n",
       "3      Andorra       2            1    0.496379                   86   \n",
       "4       Angola       7            2  252.092930                   43   \n",
       "\n",
       "   Population (People)     area           GDP  netmigration  gini  \\\n",
       "0             32758020   652860   19990.31716           473  -9.0   \n",
       "1              2889104    27400   12768.22939           -92  29.0   \n",
       "2             39113313  2381740  182889.35450          -143  -9.0   \n",
       "3                79223      470           NaN            -9  -9.0   \n",
       "4             26920466  1246700  100886.28660           102  42.7   \n",
       "\n",
       "   annual_temp     ghgpc  \n",
       "0        26.00  1.018564  \n",
       "1        25.50  3.003960  \n",
       "2        27.00  5.156432  \n",
       "3        24.55  6.265587  \n",
       "4        -9.00  9.364360  "
      ]
     },
     "execution_count": 32,
     "metadata": {},
     "output_type": "execute_result"
    }
   ],
   "source": [
    "df1.head()"
   ]
  },
  {
   "cell_type": "code",
   "execution_count": 35,
   "metadata": {
    "collapsed": true
   },
   "outputs": [],
   "source": [
    "df50 = pd.DataFrame.copy(df1)\n",
    "df50['lnghgpc'] = np.log(df50['ghgpc'])"
   ]
  },
  {
   "cell_type": "code",
   "execution_count": 33,
   "metadata": {},
   "outputs": [
    {
     "data": {
      "image/png": "[encoded data removed]",
      "text/plain": [
       "<matplotlib.figure.Figure at 0x1142e7438>"
      ]
     },
     "metadata": {},
     "output_type": "display_data"
    }
   ],
   "source": [
    "x = df1['ghgpc'].dropna().tolist()\n",
    "plt.figure(3, figsize=(8, 6));\n",
    "n, bins, patches = plt.hist(x, 10, normed=1, facecolor='green', alpha=0.5)\n",
    "plt.xlabel('Age')\n",
    "plt.ylabel('Probability')\n",
    "plt.title(r'$\\mathrm{Histogram\\ of\\ Age}$')\n",
    "plt.grid(True)\n",
    "plt.show()"
   ]
  },
  {
   "cell_type": "code",
   "execution_count": 37,
   "metadata": {},
   "outputs": [
    {
     "data": {
      "image/png": "[encoded data removed]",
      "text/plain": [
       "<matplotlib.figure.Figure at 0x113e58be0>"
      ]
     },
     "metadata": {},
     "output_type": "display_data"
    }
   ],
   "source": [
    "x = df50['lnghgpc'].dropna().tolist()\n",
    "plt.figure(3, figsize=(8, 6));\n",
    "n, bins, patches = plt.hist(x, 10, normed=1, facecolor='green', alpha=0.5)\n",
    "plt.xlabel('Age')\n",
    "plt.ylabel('Probability')\n",
    "plt.title(r'$\\mathrm{Histogram\\ of\\ Age}$')\n",
    "plt.grid(True)\n",
    "plt.show()"
   ]
  },
  {
   "cell_type": "code",
   "execution_count": 38,
   "metadata": {},
   "outputs": [
    {
     "data": {
      "image/png": "[encoded data removed]",
      "text/plain": [
       "<matplotlib.figure.Figure at 0x113b300f0>"
      ]
     },
     "metadata": {},
     "output_type": "display_data"
    }
   ],
   "source": [
    "sm.qqplot(df50['ghgpc'])#, line='r')\n",
    "pylab.show()"
   ]
  },
  {
   "cell_type": "code",
   "execution_count": 39,
   "metadata": {},
   "outputs": [
    {
     "data": {
      "image/png": "[encoded data removed]",
      "text/plain": [
       "<matplotlib.figure.Figure at 0x113e58048>"
      ]
     },
     "metadata": {},
     "output_type": "display_data"
    }
   ],
   "source": [
    "sm.qqplot(df50['lnghgpc'])#, line='r')\n",
    "pylab.show()"
   ]
  },
  {
   "cell_type": "code",
   "execution_count": 40,
   "metadata": {},
   "outputs": [
    {
     "data": {
      "text/plain": [
       "KstestResult(statistic=0.84117064615143866, pvalue=0.0)"
      ]
     },
     "execution_count": 40,
     "metadata": {},
     "output_type": "execute_result"
    }
   ],
   "source": [
    "#Kolmogorov-Smirnov\n",
    "stats.kstest(df50['ghgpc'].dropna(), 'norm', N=20, alternative='two-sided', mode='approx')"
   ]
  },
  {
   "cell_type": "code",
   "execution_count": 41,
   "metadata": {},
   "outputs": [
    {
     "data": {
      "text/plain": [
       "KstestResult(statistic=0.59746240741156309, pvalue=0.0)"
      ]
     },
     "execution_count": 41,
     "metadata": {},
     "output_type": "execute_result"
    }
   ],
   "source": [
    "#Kolmogorov-Smirnov\n",
    "stats.kstest(df50['lnghgpc'].dropna(), 'norm', N=20, alternative='two-sided', mode='approx')"
   ]
  },
  {
   "cell_type": "code",
   "execution_count": 42,
   "metadata": {},
   "outputs": [
    {
     "data": {
      "text/plain": [
       "(0.7404972910881042, 1.3662333066279505e-16)"
      ]
     },
     "execution_count": 42,
     "metadata": {},
     "output_type": "execute_result"
    }
   ],
   "source": [
    "stats.shapiro(df50['ghgpc'].dropna(), a=None, reta=False)"
   ]
  },
  {
   "cell_type": "code",
   "execution_count": 43,
   "metadata": {},
   "outputs": [
    {
     "data": {
      "text/plain": [
       "(0.9926860928535461, 0.49515366554260254)"
      ]
     },
     "execution_count": 43,
     "metadata": {},
     "output_type": "execute_result"
    }
   ],
   "source": [
    "stats.shapiro(df50['lnghgpc'].dropna(), a=None, reta=False)"
   ]
  },
  {
   "cell_type": "code",
   "execution_count": null,
   "metadata": {
    "collapsed": true
   },
   "outputs": [],
   "source": []
  }
 ],
 "metadata": {
  "kernelspec": {
   "display_name": "Python [conda root]",
   "language": "python",
   "name": "conda-root-py"
  },
  "language_info": {
   "codemirror_mode": {
    "name": "ipython",
    "version": 3
   },
   "file_extension": ".py",
   "mimetype": "text/x-python",
   "name": "python",
   "nbconvert_exporter": "python",
   "pygments_lexer": "ipython3",
   "version": "3.5.3"
  }
 },
 "nbformat": 4,
 "nbformat_minor": 2
}
